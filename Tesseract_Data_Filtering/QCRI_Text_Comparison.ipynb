{
  "cells": [
    {
      "cell_type": "code",
      "execution_count": null,
      "metadata": {
        "colab": {
          "base_uri": "https://localhost:8080/"
        },
        "id": "M_gWZX4TT37_",
        "outputId": "7f813d91-bc99-4498-9c27-799031eb8d85"
      },
      "outputs": [
        {
          "name": "stdout",
          "output_type": "stream",
          "text": [
            "Mounted at /content/drive/\n"
          ]
        }
      ],
      "source": [
        "from google.colab import drive\n",
        "drive.mount('/content/drive/')"
      ]
    },
    {
      "cell_type": "markdown",
      "metadata": {
        "id": "Vr9R45k6f-ii"
      },
      "source": [
        "#Preprocessing"
      ]
    },
    {
      "cell_type": "code",
      "execution_count": null,
      "metadata": {
        "id": "37zfBDFFf02c"
      },
      "outputs": [],
      "source": [
        "# Specify the paths to the text files\n",
        "ref_path = 'your directory'\n",
        "sys_path = 'your directory'"
      ]
    },
    {
      "cell_type": "markdown",
      "metadata": {
        "id": "PH09I-BOzjwc"
      },
      "source": [
        "#SpellCheck Farasa"
      ]
    },
    {
      "cell_type": "code",
      "execution_count": null,
      "metadata": {
        "colab": {
          "base_uri": "https://localhost:8080/"
        },
        "id": "3YtDro3Cy997",
        "outputId": "7a04c32d-144b-4874-e8af-d7b844823322"
      },
      "outputs": [
        {
          "name": "stdout",
          "output_type": "stream",
          "text": [
            "Collecting pyjnius\n",
            "  Downloading pyjnius-1.5.0-cp310-cp310-manylinux_2_17_x86_64.manylinux2014_x86_64.whl (1.4 MB)\n",
            "\u001b[2K     \u001b[90m━━━━━━━━━━━━━━━━━━━━━━━━━━━━━━━━━━━━━━━━\u001b[0m \u001b[32m1.4/1.4 MB\u001b[0m \u001b[31m7.3 MB/s\u001b[0m eta \u001b[36m0:00:00\u001b[0m\n",
            "\u001b[?25hInstalling collected packages: pyjnius\n",
            "Successfully installed pyjnius-1.5.0\n",
            "ERROR: unknown command \"instal\" - maybe you meant \"install\"\n"
          ]
        }
      ],
      "source": [
        "!pip install pyjnius\n",
        "!pip instal Levenshtein\n",
        "import requests\n",
        "import jnius_config"
      ]
    },
    {
      "cell_type": "code",
      "execution_count": null,
      "metadata": {
        "id": "lA5bknmpzEmO"
      },
      "outputs": [],
      "source": [
        "try:\n",
        "  jnius_config.add_options('-Xrs', '-Xmx9400m')\n",
        "  #jnius_config.add_options('-Xmx', '-Xmx9400m')\n",
        "except:\n",
        "  pass"
      ]
    },
    {
      "cell_type": "code",
      "execution_count": null,
      "metadata": {
        "id": "habaOgov0MH_"
      },
      "outputs": [],
      "source": [
        "file_location_start= 'your directory'"
      ]
    },
    {
      "cell_type": "code",
      "execution_count": null,
      "metadata": {
        "id": "ceBhfW8zzKzU"
      },
      "outputs": [],
      "source": [
        "jnius_config.set_classpath(\n",
        "    # '/content/drive/Shareddrives/Drive Workspace/katib/Farasa_JAR_Files/FarasaPOSJar.jar',\n",
        "                          #  'farasa_jars/FarasaSegmenterJar.jar',\n",
        "                           f'{file_location_start}Farasa_JAR_Files/SpellChecker.jar',\n",
        "                           f'{file_location_start}Farasa_JAR_Files/FarasaSegmenterJar.jar',\n",
        "                           f'{file_location_start}Farasa_JAR_Files/mallet-deps.jar',\n",
        "                           f'{file_location_start}Farasa_JAR_Files/weka.jar',\n",
        "                           f'{file_location_start}Farasa_JAR_Files/trove-3.0.3.jar'\n",
        "                           )"
      ]
    },
    {
      "cell_type": "code",
      "execution_count": null,
      "metadata": {
        "id": "inKq3bhBzShn"
      },
      "outputs": [],
      "source": [
        "from jnius import autoclass\n",
        "from jnius import PythonJavaClass, java_method"
      ]
    },
    {
      "cell_type": "code",
      "execution_count": null,
      "metadata": {
        "id": "kC8KnlFWzbsT"
      },
      "outputs": [],
      "source": [
        "#Farasasegmenter = autoclass('com.qcri.farasa.segmenter.Farasa')()\n",
        "Farasaspellchecker = autoclass('spellchecker.SpellChecker')()\n",
        "formatInput = True;\n",
        "formatOutput = True; #true for site display\n",
        "considerContext = True;\n",
        "Farasaspellchecker.init(considerContext)\n",
        "\n",
        "api_key1 = \"rqMyaPdzCFLRtUGlXV\" # Test key\n",
        "\n",
        "def farasa_functions(f, text, key):\n",
        "    url = f'https://farasa.qcri.org/webapi/{f}/'\n",
        "    payload = {'text': text, 'api_key': key}\n",
        "    data = requests.post(url, data=payload)\n",
        "    result = json.loads(data.text)\n",
        "    result = \" \".join(result[\"text\"])\n",
        "    return result"
      ]
    },
    {
      "cell_type": "code",
      "execution_count": null,
      "metadata": {
        "id": "zq7Xee4pzfZC"
      },
      "outputs": [],
      "source": [
        "def remove_words(text):\n",
        "    modified_text= re.sub(r'(/)(?=\\s|$)', '', text)\n",
        "    modified_text = re.sub(r'(\\w+)\\s*/\\s*\\w+', r'\\1', modified_text)\n",
        "    modified_text = re.sub('،/,', ',', modified_text)\n",
        "    return modified_text\n",
        "\n",
        "def taamarbota(input_string):\n",
        "    result = ''\n",
        "    for i in range(len(input_string)):\n",
        "        result += input_string[i]\n",
        "        if(input_string[i] == \"ة\" or input_string[i] == \"ى\") and i < len(input_string)-1 and input_string[i+1] != ' ':\n",
        "            result += ' '\n",
        "    return result\n",
        "\n",
        "def the_spell_check_experience(text):\n",
        "  try:\n",
        "    return remove_words(Farasaspellchecker.spellCheck(taamarbota(text), formatInput, formatOutput, considerContext))\n",
        "\n",
        "  except:\n",
        "    print(\"failed\")\n",
        "    return remove_words(farasa_functions(\"spellcheck\", text, api_key1))"
      ]
    },
    {
      "cell_type": "code",
      "execution_count": null,
      "metadata": {
        "id": "1IjkC8zc0nox"
      },
      "outputs": [],
      "source": [
        "def remove_diacritics(text):\n",
        "    arabic_diacritics = re.compile(\"\"\"\n",
        "                                ّ    | # Tashdid\n",
        "                                َ    | # Fatha\n",
        "                                ً    | # Tanwin Fath\n",
        "                                ُ    | # Damma\n",
        "                                ٌ    | # Tanwin Damm\n",
        "                                ِ    | # Kasra\n",
        "                                ٍ    | # Tanwin Kasr\n",
        "                                ْ    | # Sukun\n",
        "                                ـ     # Tatwil/Kashida\n",
        "                            \"\"\", re.VERBOSE)\n",
        "    text = re.sub(arabic_diacritics, '', text)\n",
        "    return text"
      ]
    },
    {
      "cell_type": "code",
      "execution_count": null,
      "metadata": {
        "id": "5NuVoZOVfItV"
      },
      "outputs": [],
      "source": [
        "import re\n",
        "\n",
        "def remove_punctuation(text):\n",
        "    # Define the pattern for punctuation marks\n",
        "    punctuation_pattern = r\"[^\\w\\s]\"\n",
        "\n",
        "    # Remove punctuation using regular expression substitution\n",
        "    text_without_punctuation = re.sub(punctuation_pattern, \"\", text)\n",
        "\n",
        "    return text_without_punctuation\n"
      ]
    },
    {
      "cell_type": "code",
      "execution_count": null,
      "metadata": {
        "id": "ANONydeCzynH"
      },
      "outputs": [],
      "source": [
        "import os\n",
        "import re\n",
        "\n",
        "def remove_diacritics_files(file_path, txt_path):\n",
        "    directory = file_path\n",
        "    for filename in os.listdir(file_path):\n",
        "        if filename.endswith('.txt'):\n",
        "            with open(os.path.join(directory, filename)) as f:\n",
        "                lines = f.readlines()\n",
        "\n",
        "            processed_lines = []\n",
        "            for line in lines:\n",
        "                # Trim spaces at the beginning and end of each line\n",
        "                line = line.strip()\n",
        "                # Make all spaces between words size of 1\n",
        "                line = re.sub(r'\\s+', ' ', line)\n",
        "                line = remove_diacritics(line)\n",
        "                processed_lines.append(line)\n",
        "\n",
        "            output_file_path = os.path.join(txt_path, filename)\n",
        "            with open(output_file_path, 'w', encoding='utf-8') as f:\n",
        "                f.write('\\n'.join(processed_lines))"
      ]
    },
    {
      "cell_type": "code",
      "execution_count": null,
      "metadata": {
        "colab": {
          "base_uri": "https://localhost:8080/"
        },
        "id": "vPP0BFWMh-qc",
        "outputId": "fc2bf291-173c-468c-9820-aefd7aee0915"
      },
      "outputs": [
        {
          "name": "stdout",
          "output_type": "stream",
          "text": [
            "Collecting Levenshtein\n",
            "  Downloading Levenshtein-0.21.1-cp310-cp310-manylinux_2_17_x86_64.manylinux2014_x86_64.whl (172 kB)\n",
            "\u001b[2K     \u001b[90m━━━━━━━━━━━━━━━━━━━━━━━━━━━━━━━━━━━━━━━\u001b[0m \u001b[32m172.5/172.5 kB\u001b[0m \u001b[31m3.0 MB/s\u001b[0m eta \u001b[36m0:00:00\u001b[0m\n",
            "\u001b[?25hCollecting rapidfuzz<4.0.0,>=2.3.0 (from Levenshtein)\n",
            "  Downloading rapidfuzz-3.3.0-cp310-cp310-manylinux_2_17_x86_64.manylinux2014_x86_64.whl (3.1 MB)\n",
            "\u001b[2K     \u001b[90m━━━━━━━━━━━━━━━━━━━━━━━━━━━━━━━━━━━━━━━━\u001b[0m \u001b[32m3.1/3.1 MB\u001b[0m \u001b[31m14.5 MB/s\u001b[0m eta \u001b[36m0:00:00\u001b[0m\n",
            "\u001b[?25hInstalling collected packages: rapidfuzz, Levenshtein\n",
            "Successfully installed Levenshtein-0.21.1 rapidfuzz-3.3.0\n"
          ]
        }
      ],
      "source": [
        "!pip install Levenshtein"
      ]
    },
    {
      "cell_type": "code",
      "execution_count": null,
      "metadata": {
        "id": "jpSlc_8Og_9e"
      },
      "outputs": [],
      "source": [
        "import os\n",
        "import difflib\n",
        "\n",
        "def extract_corresponding_files(sys_folder, ref_folder):\n",
        "    sys_files = os.listdir(sys_path)\n",
        "    ref_files = os.listdir(ref_path)\n",
        "    refs=[]\n",
        "    syss=[]\n",
        "    for file in ref_files:\n",
        "        file_ref = ref_path + file\n",
        "        file_sys = sys_path + file[:13] + \"sys.txt\"\n",
        "        refs.append(file_ref)\n",
        "        # print(file_ref)\n",
        "        syss.append(file_sys)\n",
        "        # print(file_sys)\n",
        "        # print(\"-------------------------------------------------------------------------------\")\n",
        "    return refs, syss\n",
        "\n",
        "# Call the function to extract corresponding files\n",
        "refs, syss= extract_corresponding_files(ref_path,sys_path)\n"
      ]
    },
    {
      "cell_type": "markdown",
      "metadata": {
        "id": "sjsCi7fYG5U4"
      },
      "source": [
        "Normalization"
      ]
    },
    {
      "cell_type": "code",
      "execution_count": null,
      "metadata": {
        "id": "ilnxHNrRGYKy"
      },
      "outputs": [],
      "source": [
        "#!pip install camel-tools"
      ]
    },
    {
      "cell_type": "code",
      "execution_count": null,
      "metadata": {
        "id": "c3rdrGPzG_Mh"
      },
      "outputs": [],
      "source": [
        "# # Orthographic Normalization\n",
        "# from camel_tools.utils.normalize import normalize_alef_maksura_ar\n",
        "# from camel_tools.utils.normalize import normalize_alef_ar\n",
        "# from camel_tools.utils.normalize import normalize_teh_marbuta_ar\n",
        "\n",
        "# def ortho_normalize(text):\n",
        "#     text = normalize_alef_maksura_ar(text)\n",
        "#     text = normalize_alef_ar(text)\n",
        "#     text = normalize_teh_marbuta_ar(text)\n",
        "#     return text"
      ]
    },
    {
      "cell_type": "markdown",
      "metadata": {
        "id": "6sFrg0lKRsrt"
      },
      "source": [
        "#Comparing sys and ref\n",
        "\n"
      ]
    },
    {
      "cell_type": "code",
      "execution_count": null,
      "metadata": {
        "id": "3wGVeOywm9xd"
      },
      "outputs": [],
      "source": [
        "import difflib\n",
        "import string\n",
        "import re\n",
        "import matplotlib.pyplot as plt"
      ]
    },
    {
      "cell_type": "markdown",
      "metadata": {
        "id": "HN6jwEedrD2V"
      },
      "source": [
        "## Character Level"
      ]
    },
    {
      "cell_type": "code",
      "execution_count": null,
      "metadata": {
        "colab": {
          "base_uri": "https://localhost:8080/"
        },
        "id": "5aZxWQKngFZs",
        "outputId": "33e6ba00-48f6-4d05-e520-ce3c3f19eb49"
      },
      "outputs": [
        {
          "name": "stdout",
          "output_type": "stream",
          "text": [
            "Requirement already satisfied: Levenshtein in /usr/local/lib/python3.10/dist-packages (0.21.1)\n",
            "Requirement already satisfied: rapidfuzz<4.0.0,>=2.3.0 in /usr/local/lib/python3.10/dist-packages (from Levenshtein) (3.3.0)\n"
          ]
        }
      ],
      "source": [
        "!pip install Levenshtein"
      ]
    },
    {
      "cell_type": "code",
      "execution_count": null,
      "metadata": {
        "colab": {
          "base_uri": "https://localhost:8080/",
          "height": 1000
        },
        "id": "9qIqHJhiSuCG",
        "outputId": "8678dff5-c3c6-4030-8dd5-e94c29c7e3bc"
      },
      "outputs": [
        {
          "name": "stdout",
          "output_type": "stream",
          "text": [
            "Book: BK_42_03_G_3\n",
            "Accuracy Score: 0.591156462585034\n",
            "Minimum Edit Distance: 69\n",
            "Deletions: 37\n",
            "Insertions: 13\n",
            "Substitutions: 19\n",
            "Transpositions: 0\n",
            "Book: BK_17_02_G_3\n",
            "Accuracy Score: 0.4300578034682081\n",
            "Minimum Edit Distance: 121\n",
            "Deletions: 30\n",
            "Insertions: 38\n",
            "Substitutions: 53\n",
            "Transpositions: 0\n",
            "Book: BK_32_01_G_3\n",
            "Accuracy Score: 0.37945125510799765\n",
            "Minimum Edit Distance: 93\n",
            "Deletions: 40\n",
            "Insertions: 13\n",
            "Substitutions: 40\n",
            "Transpositions: 0\n",
            "Book: BK_32_03_G_3\n",
            "Accuracy Score: 0.022692109334708613\n",
            "Minimum Edit Distance: 86\n",
            "Deletions: 22\n",
            "Insertions: 13\n",
            "Substitutions: 51\n",
            "Transpositions: 0\n",
            "Book: BK_52_02_G_3\n",
            "Accuracy Score: 0.953719574905725\n",
            "Minimum Edit Distance: 20\n",
            "Deletions: 3\n",
            "Insertions: 0\n",
            "Substitutions: 17\n",
            "Transpositions: 0\n",
            "Book: BK_42_05_G_3\n",
            "Accuracy Score: 0.5549323655559222\n",
            "Minimum Edit Distance: 69\n",
            "Deletions: 34\n",
            "Insertions: 13\n",
            "Substitutions: 22\n",
            "Transpositions: 0\n",
            "Book: BK_42_10_G_3\n",
            "Accuracy Score: 0.5430999595305545\n",
            "Minimum Edit Distance: 85\n",
            "Deletions: 42\n",
            "Insertions: 11\n",
            "Substitutions: 32\n",
            "Transpositions: 0\n",
            "Book: BK_32_02_G_3\n",
            "Accuracy Score: 0.7197452229299363\n",
            "Minimum Edit Distance: 80\n",
            "Deletions: 33\n",
            "Insertions: 7\n",
            "Substitutions: 40\n",
            "Transpositions: 0\n",
            "Book: BK_52_01_G_3\n",
            "Accuracy Score: 0.9288182446440912\n",
            "Minimum Edit Distance: 27\n",
            "Deletions: 11\n",
            "Insertions: 3\n",
            "Substitutions: 13\n",
            "Transpositions: 0\n",
            "Book: BK_32_08_G_3\n",
            "Accuracy Score: 0.4289405684754522\n",
            "Minimum Edit Distance: 81\n",
            "Deletions: 31\n",
            "Insertions: 8\n",
            "Substitutions: 42\n",
            "Transpositions: 0\n",
            "Book: BK_52_07_G_3\n",
            "Accuracy Score: 0.47628143903215536\n",
            "Minimum Edit Distance: 70\n",
            "Deletions: 35\n",
            "Insertions: 12\n",
            "Substitutions: 23\n",
            "Transpositions: 0\n",
            "Book: BK_62_10_G_3\n",
            "Accuracy Score: 0.5362153962836557\n",
            "Minimum Edit Distance: 127\n",
            "Deletions: 42\n",
            "Insertions: 17\n",
            "Substitutions: 68\n",
            "Transpositions: 0\n",
            "Book: BK_17_03_G_3\n",
            "Accuracy Score: 0.7180124223602484\n",
            "Minimum Edit Distance: 104\n",
            "Deletions: 21\n",
            "Insertions: 45\n",
            "Substitutions: 38\n",
            "Transpositions: 0\n",
            "Score Average:  0.560240217247207\n"
          ]
        },
        {
          "data": {
            "text/plain": [
              "<function matplotlib.pyplot.legend(*args, **kwargs)>"
            ]
          },
          "execution_count": 43,
          "metadata": {},
          "output_type": "execute_result"
        },
        {
          "data": {
            "image/png": "[encoded data removed]",
            "text/plain": [
              "<Figure size 640x480 with 1 Axes>"
            ]
          },
          "metadata": {},
          "output_type": "display_data"
        }
      ],
      "source": [
        "import difflib\n",
        "import Levenshtein\n",
        "import matplotlib.pyplot as plt\n",
        "import numpy as np\n",
        "\n",
        "def compare_ref_sys_char(file1_path, file2_path):\n",
        "    # Read the contents of the files\n",
        "    with open(file1_path, 'r', encoding='utf-8') as file1:\n",
        "        text1 = file1.read()\n",
        "\n",
        "    with open(file2_path, 'r', encoding='utf-8') as file2:\n",
        "        text2 = file2.read()\n",
        "\n",
        "    # Calculate the accuracy score\n",
        "    accuracy = difflib.SequenceMatcher(None, text1, text2).ratio()\n",
        "\n",
        "    # Calculate the minimum edit distance\n",
        "    distance = Levenshtein.distance(text1, text2)\n",
        "\n",
        "    # Calculate the edit operations\n",
        "    editops = Levenshtein.editops(text1, text2)\n",
        "    deletions = 0\n",
        "    insertions = 0\n",
        "    substitutions = 0\n",
        "    transpositions = 0\n",
        "\n",
        "    for op in editops:\n",
        "        if op[0] == 'delete':\n",
        "            deletions += 1\n",
        "        elif op[0] == 'insert':\n",
        "            insertions += 1\n",
        "        elif op[0] == 'replace':\n",
        "            substitutions += 1\n",
        "        elif op[0] == 'delete' and text1[op[1]] == text2[op[2]] and op[2] - op[1] > 1:\n",
        "            transpositions += 1\n",
        "\n",
        "    return accuracy, distance, deletions, insertions, substitutions, transpositions\n",
        "\n",
        "\n",
        "accuracy_scores = []  # List to store accuracy scores\n",
        "deletion_counts = []  # List to store deletion counts\n",
        "insertion_counts = []  # List to store insertion counts\n",
        "substitution_counts = []  # List to store substitution counts\n",
        "transposition_counts = []  # List to store transposition counts\n",
        "\n",
        "for i in range(len(refs)):\n",
        "    print(\"Book:\", refs[i][len(ref_path):-8])\n",
        "    accuracy, distance, deletions, insertions, substitutions, transpositions = compare_ref_sys_char(refs[i], syss[i])\n",
        "    accuracy_scores.append(accuracy)\n",
        "    deletion_counts.append(deletions)\n",
        "    insertion_counts.append(insertions)\n",
        "    substitution_counts.append(substitutions)\n",
        "    transposition_counts.append(transpositions)\n",
        "\n",
        "    # Print the results\n",
        "    print(\"Accuracy Score:\", accuracy)\n",
        "    print(\"Minimum Edit Distance:\", distance)\n",
        "    print(\"Deletions:\", deletions)\n",
        "    print(\"Insertions:\", insertions)\n",
        "    print(\"Substitutions:\", substitutions)\n",
        "    print(\"Transpositions:\", transpositions)\n",
        "\n",
        "# Average Score\n",
        "average_score = sum(accuracy_scores) / len(accuracy_scores)\n",
        "print(\"Score Average: \", average_score)\n",
        "\n",
        "# Create the graph\n",
        "plt.plot(range(len(refs)), accuracy_scores, 'bo-')\n",
        "plt.xlabel('Books')\n",
        "plt.ylabel('Accuracy')\n",
        "plt.title('Accuracy Scores ref vs sys (char level)')\n",
        "plt.xticks(range(len(refs)), [refs[i][len(ref_path):-8] for i in range(len(refs))], rotation='vertical')\n",
        "plt.ylim(0, max(accuracy_scores) + 0.1)  # Set y-axis lower limit to zero\n",
        "\n",
        "# Add best-fit line\n",
        "x = np.array(range(len(refs)))\n",
        "y = np.array(accuracy_scores)\n",
        "fit = np.polyfit(x, y, deg=1)\n",
        "plt.plot(x, fit[0] * x + fit[1], color='red', linestyle='--', label='Best Fit Line')\n",
        "\n",
        "plt.legend\n"
      ]
    },
    {
      "cell_type": "markdown",
      "metadata": {
        "id": "aBVmzPZwrMJW"
      },
      "source": [
        "## Word Level"
      ]
    },
    {
      "cell_type": "code",
      "execution_count": null,
      "metadata": {
        "colab": {
          "base_uri": "https://localhost:8080/",
          "height": 1000
        },
        "id": "3TUzMww8JWec",
        "outputId": "375f9822-9935-47f2-db52-663542681a90"
      },
      "outputs": [
        {
          "name": "stdout",
          "output_type": "stream",
          "text": [
            "Book: BK_42_03_G_3\n",
            "Accuracy Score: 0.04313725490196074\n",
            "Minimum Edit Distance: 68\n",
            "Word Errors: 244\n",
            "Book: BK_17_02_G_3\n",
            "Accuracy Score: 0.005813953488372103\n",
            "Minimum Edit Distance: 118\n",
            "Word Errors: 171\n",
            "Book: BK_32_01_G_3\n",
            "Accuracy Score: 0.11875000000000002\n",
            "Minimum Edit Distance: 93\n",
            "Word Errors: 141\n",
            "Book: BK_32_03_G_3\n",
            "Accuracy Score: 0.3016759776536313\n",
            "Minimum Edit Distance: 86\n",
            "Word Errors: 125\n",
            "Book: BK_52_02_G_3\n",
            "Accuracy Score: 0.5157894736842106\n",
            "Minimum Edit Distance: 20\n",
            "Word Errors: 138\n",
            "Book: BK_42_05_G_3\n",
            "Accuracy Score: 0.23828125\n",
            "Minimum Edit Distance: 69\n",
            "Word Errors: 195\n",
            "Book: BK_42_10_G_3\n",
            "Accuracy Score: 0.04761904761904767\n",
            "Minimum Edit Distance: 85\n",
            "Word Errors: 220\n",
            "Book: BK_32_02_G_3\n",
            "Accuracy Score: 0.3152173913043478\n",
            "Minimum Edit Distance: 79\n",
            "Word Errors: 126\n",
            "Book: BK_52_01_G_3\n",
            "Accuracy Score: 0.014598540145985384\n",
            "Minimum Edit Distance: 27\n",
            "Word Errors: 270\n",
            "Book: BK_32_08_G_3\n",
            "Accuracy Score: 0.12234042553191493\n",
            "Minimum Edit Distance: 80\n",
            "Word Errors: 165\n",
            "Book: BK_52_07_G_3\n",
            "Accuracy Score: 0.026162790697674465\n",
            "Minimum Edit Distance: 70\n",
            "Word Errors: 335\n",
            "Book: BK_62_10_G_3\n",
            "Accuracy Score: 0.13229571984435795\n",
            "Minimum Edit Distance: 124\n",
            "Word Errors: 223\n",
            "Book: BK_17_03_G_3\n",
            "Accuracy Score: 0.24848484848484853\n",
            "Minimum Edit Distance: 96\n",
            "Word Errors: 124\n",
            "Score Average: 0.16385897487356552\n"
          ]
        },
        {
          "data": {
            "image/png": "[encoded data removed]",
            "text/plain": [
              "<Figure size 640x480 with 1 Axes>"
            ]
          },
          "metadata": {},
          "output_type": "display_data"
        },
        {
          "name": "stdout",
          "output_type": "stream",
          "text": [
            "0.9090909090909091\n",
            "0.8571428571428572\n"
          ]
        }
      ],
      "source": [
        "import difflib\n",
        "import Levenshtein\n",
        "import matplotlib.pyplot as plt\n",
        "import numpy as np\n",
        "\n",
        "def compare_ref_sys_word(file1_path, file2_path):\n",
        "    # Read the contents of the files\n",
        "    with open(file1_path, 'r', encoding='utf-8') as file1:\n",
        "        text1 = file1.read()\n",
        "        text1 = text1.split()\n",
        "        reflen = len(text1)\n",
        "\n",
        "    with open(file2_path, 'r', encoding='utf-8') as file2:\n",
        "        text2 = file2.read()\n",
        "        text2 = text2.split()\n",
        "\n",
        "    # Calculate the accuracy score\n",
        "    word_errors = sum(text1_word != text2_word for text1_word, text2_word in zip(text1, text2))\n",
        "    accuracy = 1.0 - (word_errors / reflen)\n",
        "\n",
        "    # Calculate the minimum edit distance\n",
        "    distance = Levenshtein.distance(\" \".join(text1), \" \".join(text2))\n",
        "\n",
        "    return accuracy, distance, word_errors\n",
        "\n",
        "\n",
        "accuracy_scores = []  # List to store accuracy scores\n",
        "word_error_counts = []  # List to store word error counts\n",
        "\n",
        "for i in range(len(refs)):\n",
        "    print(\"Book:\", refs[i][len(ref_path):-8])\n",
        "    accuracy, distance, word_errors = compare_ref_sys_word(refs[i], syss[i])\n",
        "    accuracy_scores.append(accuracy)\n",
        "    word_error_counts.append(word_errors)\n",
        "\n",
        "    # Print the results\n",
        "    print(\"Accuracy Score:\", accuracy)\n",
        "    print(\"Minimum Edit Distance:\", distance)\n",
        "    print(\"Word Errors:\", word_errors)\n",
        "\n",
        "# Average Score\n",
        "average_score = sum(accuracy_scores) / len(accuracy_scores)\n",
        "print(\"Score Average:\", average_score)\n",
        "accuracy_scores2 = accuracy_scores\n",
        "\n",
        "# Create the graph\n",
        "plt.plot(range(len(refs)), accuracy_scores, 'bo-')\n",
        "plt.xlabel('Books')\n",
        "plt.ylabel('Accuracy')\n",
        "plt.title('Accuracy Scores ref vs sys (word level)')\n",
        "plt.xticks(range(len(refs)), [refs[i][len(ref_path):-8] for i in range(len(refs))], rotation='vertical')\n",
        "plt.ylim(0, max(accuracy_scores) + 0.1)  # Set y-axis lower limit to zero\n",
        "\n",
        "# Add best-fit line\n",
        "x = np.array(range(len(refs)))\n",
        "y = np.array(accuracy_scores)\n",
        "fit = np.polyfit(x, y, deg=1)\n",
        "plt.plot(x, fit[0] * x + fit[1], color='red', linestyle='--', label='Best Fit Line')\n",
        "\n",
        "plt.legend()\n",
        "plt.tight_layout()\n",
        "plt.show()\n",
        "\n",
        "\n",
        "def check(text1,text2):\n",
        "  text1 = text1.split()\n",
        "  reflen = len(text1)\n",
        "  text2 = text2.split()\n",
        "  word_errors = sum(text1_word != text2_word for text1_word, text2_word in zip(text1, text2))\n",
        "  acc = 1.0 - (word_errors / reflen)\n",
        "  print(acc)\n",
        "\n",
        "text1 =\"في استحباب تحويل الرداء ولم يستحبه أبو حنيفة ويستحب عندنا أيضا\"\n",
        "text2= \"فى استحباب تحويل الرداء ولم يستحبه أبو حنيفة ويستحب عندنا أيضا\"\n",
        "check(text1,text2)\n",
        "text1 =\"للمأمومين كما يستحب للأمام ، وبه قال مالك وغيره ، وخالف فيه جماعة من\"\n",
        "text2= \"للمأمومين كما يستحب للأمام , وبه قال مالك وغيره » وخالف فيه جماعة من\"\n",
        "check(text1,text2)"
      ]
    },
    {
      "cell_type": "markdown",
      "metadata": {
        "id": "54XCEbe-p3fd"
      },
      "source": [
        "# Comparing sys_spellcheck and ref"
      ]
    },
    {
      "cell_type": "code",
      "execution_count": null,
      "metadata": {
        "id": "F0xfOw7sm1Ps"
      },
      "outputs": [],
      "source": [
        "import json\n",
        "import requests\n",
        "import difflib\n",
        "import Levenshtein\n",
        "import string\n",
        "import re\n"
      ]
    },
    {
      "cell_type": "markdown",
      "metadata": {
        "id": "zvMx1i__rasH"
      },
      "source": [
        "##Spell Check"
      ]
    },
    {
      "cell_type": "code",
      "execution_count": null,
      "metadata": {
        "id": "DLYngQgWplPb"
      },
      "outputs": [],
      "source": [
        "api_key1 = \"rqMyaPdzCFLRtUGlXV\" # Test key\n",
        "\n",
        "\n",
        "def remove_slashes(text):\n",
        "    pattern = r'(/)(?=\\s|$)'  # Pattern to match a slash followed by a space or end of line\n",
        "    modified_text = re.sub(pattern, '', text)\n",
        "    return modified_text\n",
        "\n",
        "def remove_words(text):\n",
        "    pattern = r'(\\w+)\\s*/\\s*\\w+'  # Pattern to match the desired format\n",
        "    pattern1= '،/,'\n",
        "    text= remove_slashes(text)\n",
        "    modified_text = re.sub(pattern, r'\\1', text)\n",
        "    modified_text = re.sub(pattern1, ',', modified_text)\n",
        "    return modified_text\n",
        "\n",
        "\n",
        "\n",
        "def farasa_functions(f, text):\n",
        "    url = f'https://farasa.qcri.org/webapi/{f}/'\n",
        "    payload = {'text': text, 'api_key': api_key1}\n",
        "    data = requests.post(url, data=payload)\n",
        "    result = json.loads(data.text)\n",
        "    processed_text = \"\".join(result[\"text\"])\n",
        "    processed_text = remove_words(processed_text)\n",
        "\n",
        "    lines = processed_text.splitlines()\n",
        "    processed_lines = []\n",
        "\n",
        "    for line in lines:\n",
        "        # Trim spaces at the beginning and end of each line\n",
        "        line = line.strip()\n",
        "        # Make all spaces between words size of 1\n",
        "        line = re.sub(r'\\s+', ' ', line)\n",
        "        processed_lines.append(line)\n",
        "\n",
        "    result = '\\n'.join(processed_lines)\n",
        "    return result\n"
      ]
    },
    {
      "cell_type": "code",
      "execution_count": null,
      "metadata": {
        "id": "2c2RzyCy-LfT"
      },
      "outputs": [],
      "source": [
        "import os\n",
        "\n",
        "def spellcheck_textfile(file_path, txt_path):\n",
        "    directory = file_path\n",
        "    for filename in os.listdir(file_path):\n",
        "        if filename.endswith('.txt'):\n",
        "            with open(os.path.join(directory, filename)) as f:\n",
        "                text = f.read()\n",
        "                text = farasa_functions(\"spellcheck\", text)\n",
        "            output_file_path = os.path.join(txt_path, filename)\n",
        "            with open(output_file_path, 'w', encoding='utf-8') as f:\n",
        "                f.write(text)\n"
      ]
    },
    {
      "cell_type": "code",
      "execution_count": null,
      "metadata": {
        "id": "Xq243AHV32V0"
      },
      "outputs": [],
      "source": [
        "# spellcheck_textfile(\"/content/drive/My Drive/QCRI/ArabicTextSimplification_QCRI_Internship/QNL_Book_Test/Aligned_books/sys\", \"/content/drive/My Drive/QCRI/ArabicTextSimplification_QCRI_Internship/QNL_Book_Test/Aligned_books/sys_spellcheck\")"
      ]
    },
    {
      "cell_type": "code",
      "execution_count": null,
      "metadata": {
        "id": "jwbl2GFur2mT"
      },
      "outputs": [],
      "source": [
        "import difflib\n",
        "import Levenshtein\n",
        "import string\n",
        "import re\n",
        "import matplotlib.pyplot as plt"
      ]
    },
    {
      "cell_type": "markdown",
      "metadata": {
        "id": "Wpfubz-Brpn_"
      },
      "source": [
        "## Word Level"
      ]
    },
    {
      "cell_type": "code",
      "execution_count": null,
      "metadata": {
        "colab": {
          "base_uri": "https://localhost:8080/",
          "height": 956
        },
        "id": "DB8N2AB6EcJi",
        "outputId": "f09eac71-f9ac-4886-8071-cbc76699cc4b"
      },
      "outputs": [
        {
          "name": "stdout",
          "output_type": "stream",
          "text": [
            "Accuracy Score: 0.1568627450980392\n",
            "Minimum Edit Distance: 79\n",
            "Accuracy Score: 0.005813953488372103\n",
            "Minimum Edit Distance: 127\n",
            "Accuracy Score: 0.050000000000000044\n",
            "Minimum Edit Distance: 107\n",
            "Accuracy Score: 0.05027932960893855\n",
            "Minimum Edit Distance: 99\n",
            "Accuracy Score: 0.856140350877193\n",
            "Minimum Edit Distance: 41\n",
            "Accuracy Score: 0.3359375\n",
            "Minimum Edit Distance: 92\n",
            "Accuracy Score: 0.5281385281385281\n",
            "Minimum Edit Distance: 105\n",
            "Accuracy Score: 0.3532608695652174\n",
            "Minimum Edit Distance: 95\n",
            "Accuracy Score: 0.014598540145985384\n",
            "Minimum Edit Distance: 45\n",
            "Accuracy Score: 0.0957446808510638\n",
            "Minimum Edit Distance: 94\n",
            "Accuracy Score: 0.01744186046511631\n",
            "Minimum Edit Distance: 103\n",
            "Accuracy Score: 0.023346303501945553\n",
            "Minimum Edit Distance: 127\n",
            "Accuracy Score: 0.0\n",
            "Minimum Edit Distance: 109\n",
            "Score Average:  0.19135112782618455\n"
          ]
        },
        {
          "data": {
            "image/png": "[encoded data removed]",
            "text/plain": [
              "<Figure size 640x480 with 1 Axes>"
            ]
          },
          "metadata": {},
          "output_type": "display_data"
        }
      ],
      "source": [
        "import difflib\n",
        "import Levenshtein\n",
        "import matplotlib.pyplot as plt\n",
        "import numpy as np\n",
        "\n",
        "def compare_ref_sys_spellcheck_word(file1_path, file2_path):\n",
        "    # Read the contents of the files\n",
        "    with open(file1_path, 'r', encoding='utf-8') as file1:\n",
        "        text1 = file1.read()\n",
        "        text1 = remove_diacritics(text1)\n",
        "        text1 = text1.split()\n",
        "        reflen = len(text1)\n",
        "\n",
        "    with open(file2_path, 'r', encoding='utf-8') as file2:\n",
        "        text2 = file2.read()\n",
        "        text2 = remove_diacritics(text2)\n",
        "        text2 = the_spell_check_experience(text2).rstrip()\n",
        "        text2 = text2.split()\n",
        "\n",
        "    # Calculate the accuracy score\n",
        "    word_errors = sum(text1_word != text2_word for text1_word, text2_word in zip(text1, text2))\n",
        "    accuracy = 1.0 - (word_errors / reflen)\n",
        "\n",
        "    # Calculate the minimum edit distance\n",
        "    distance = Levenshtein.distance(\" \".join(text1), \" \".join(text2))\n",
        "\n",
        "    return accuracy, distance, word_errors\n",
        "\n",
        "accuracy_scores = []  # List to store accuracy scores\n",
        "\n",
        "for i in range(len(refs)):\n",
        "    #print(\"Book:\", refs[i][len(ref_path):-8])\n",
        "    accuracy, distance,word_errors = compare_ref_sys_spellcheck_word(refs[i], syss[i])\n",
        "    accuracy_scores.append(accuracy)\n",
        "\n",
        "    # Print the results\n",
        "    print(\"Accuracy Score:\", accuracy)\n",
        "    print(\"Minimum Edit Distance:\", distance)\n",
        "\n",
        "# Average Score\n",
        "average_score = sum(accuracy_scores) / len(accuracy_scores)\n",
        "print(\"Score Average: \", average_score)\n",
        "accuracy_scores5 = accuracy_scores\n",
        "\n",
        "# Create the graph\n",
        "plt.plot(range(len(refs)), accuracy_scores, 'bo-')\n",
        "plt.xlabel('Books')\n",
        "plt.ylabel('Accuracy')\n",
        "plt.title('Accuracy Scores (Spellcheck, word level)')\n",
        "plt.xticks(range(len(refs)), [refs[i][len(ref_path):-8] for i in range(len(refs))], rotation='vertical')\n",
        "plt.ylim(0, max(accuracy_scores) + 0.1)  # Set y-axis lower limit to zero\n",
        "\n",
        "# Add best-fit line\n",
        "x = np.array(range(len(refs)))\n",
        "y = np.array(accuracy_scores)\n",
        "fit = np.polyfit(x, y, deg=1)\n",
        "plt.plot(x, fit[0] * x + fit[1], 'r--')\n",
        "\n",
        "plt.tight_layout()\n",
        "plt.show()\n"
      ]
    },
    {
      "cell_type": "markdown",
      "metadata": {
        "id": "Pk4jdnvyFPw3"
      },
      "source": [
        "Word Level but char level"
      ]
    },
    {
      "cell_type": "code",
      "execution_count": null,
      "metadata": {
        "colab": {
          "base_uri": "https://localhost:8080/",
          "height": 956
        },
        "id": "stXakfZgqI0x",
        "outputId": "99811fa5-b528-4d9f-a53d-a62a113e8933"
      },
      "outputs": [
        {
          "name": "stdout",
          "output_type": "stream",
          "text": [
            "Accuracy Score: 0.7731755424063116\n",
            "Minimum Edit Distance: 79\n",
            "Accuracy Score: 0.5604395604395604\n",
            "Minimum Edit Distance: 127\n",
            "Accuracy Score: 0.5846153846153846\n",
            "Minimum Edit Distance: 107\n",
            "Accuracy Score: 0.6318681318681318\n",
            "Minimum Edit Distance: 99\n",
            "Accuracy Score: 0.8526315789473684\n",
            "Minimum Edit Distance: 41\n",
            "Accuracy Score: 0.7286821705426356\n",
            "Minimum Edit Distance: 92\n",
            "Accuracy Score: 0.691304347826087\n",
            "Minimum Edit Distance: 105\n",
            "Accuracy Score: 0.6666666666666666\n",
            "Minimum Edit Distance: 95\n",
            "Accuracy Score: 0.8754578754578755\n",
            "Minimum Edit Distance: 45\n",
            "Accuracy Score: 0.6473684210526316\n",
            "Minimum Edit Distance: 94\n",
            "Accuracy Score: 0.7259475218658892\n",
            "Minimum Edit Distance: 103\n",
            "Accuracy Score: 0.6323809523809524\n",
            "Minimum Edit Distance: 127\n",
            "Accuracy Score: 0.5906432748538012\n",
            "Minimum Edit Distance: 109\n",
            "Score Average:  0.689321648378715\n"
          ]
        },
        {
          "data": {
            "image/png": "[encoded data removed]",
            "text/plain": [
              "<Figure size 640x480 with 1 Axes>"
            ]
          },
          "metadata": {},
          "output_type": "display_data"
        }
      ],
      "source": [
        "import difflib\n",
        "import Levenshtein\n",
        "import matplotlib.pyplot as plt\n",
        "import numpy as np\n",
        "\n",
        "def compare_ref_sys_spellcheck_word(file1_path, file2_path):\n",
        "    # Read the contents of the files\n",
        "    with open(file1_path, 'r', encoding='utf-8') as file1:\n",
        "        text1 = file1.read()\n",
        "        text1 = remove_diacritics(text1)\n",
        "        text1 = text1.split()\n",
        "        reflen = len(text1)\n",
        "\n",
        "    with open(file2_path, 'r', encoding='utf-8') as file2:\n",
        "        text2 = file2.read()\n",
        "        text2 = remove_diacritics(text2)\n",
        "        text2 = the_spell_check_experience(text2).rstrip()\n",
        "        text2 = text2.split()\n",
        "\n",
        "    # Calculate the accuracy score\n",
        "    accuracy = difflib.SequenceMatcher(None, text1, text2).ratio()\n",
        "\n",
        "    # Calculate the minimum edit distance\n",
        "    distance = Levenshtein.distance(\" \".join(text1), \" \".join(text2))\n",
        "\n",
        "    return accuracy, distance\n",
        "\n",
        "\n",
        "accuracy_scores = []  # List to store accuracy scores\n",
        "\n",
        "for i in range(len(refs)):\n",
        "    #print(\"Book:\", refs[i][len(ref_path):-8])\n",
        "    accuracy, distance = compare_ref_sys_spellcheck_word(refs[i], syss[i])\n",
        "    accuracy_scores.append(accuracy)\n",
        "\n",
        "    # Print the results\n",
        "    print(\"Accuracy Score:\", accuracy)\n",
        "    print(\"Minimum Edit Distance:\", distance)\n",
        "\n",
        "# Average Score\n",
        "average_score = sum(accuracy_scores) / len(accuracy_scores)\n",
        "print(\"Score Average: \", average_score)\n",
        "accuracy_scores6 = accuracy_scores\n",
        "\n",
        "# Create the graph\n",
        "plt.plot(range(len(refs)), accuracy_scores, 'bo-')\n",
        "plt.xlabel('Books')\n",
        "plt.ylabel('Accuracy')\n",
        "plt.title('Accuracy Scores (Spellcheck, word level)')\n",
        "plt.xticks(range(len(refs)), [refs[i][len(ref_path):-8] for i in range(len(refs))], rotation='vertical')\n",
        "plt.ylim(0, max(accuracy_scores) + 0.1)  # Set y-axis lower limit to zero\n",
        "\n",
        "# Add best-fit line\n",
        "x = np.array(range(len(refs)))\n",
        "y = np.array(accuracy_scores)\n",
        "fit = np.polyfit(x, y, deg=1)\n",
        "plt.plot(x, fit[0] * x + fit[1], 'r--')\n",
        "\n",
        "plt.tight_layout()\n",
        "plt.show()\n"
      ]
    },
    {
      "cell_type": "markdown",
      "metadata": {
        "id": "YfEpuOoaULYo"
      },
      "source": [
        "Errors"
      ]
    },
    {
      "cell_type": "code",
      "execution_count": null,
      "metadata": {
        "id": "1uLeCFs_vNgT"
      },
      "outputs": [],
      "source": [
        "def align(a, b):\n",
        "    T = [[0] * (len(b) + 1) for _ in range(len(a) + 1)]\n",
        "\n",
        "    for i in range(len(a) + 1):\n",
        "        T[i][0] = i\n",
        "\n",
        "    for j in range(len(b) + 1):\n",
        "        T[0][j] = j\n",
        "\n",
        "    for i in range(1, len(a) + 1):\n",
        "        for j in range(1, len(b) + 1):\n",
        "            if a[i - 1] == b[j - 1]:\n",
        "                T[i][j] = T[i - 1][j - 1]\n",
        "            else:\n",
        "                T[i][j] = min(T[i - 1][j], T[i][j - 1]) + 1\n",
        "\n",
        "    aa, bb = [], []\n",
        "\n",
        "    i, j = len(a), len(b)\n",
        "    while i > 0 or j > 0:\n",
        "        if i > 0 and T[i][j] == T[i - 1][j] + 1:\n",
        "            aa.append(a[i - 1])\n",
        "            bb.append(\"-\")\n",
        "            i -= 1\n",
        "        elif j > 0 and T[i][j] == T[i][j - 1] + 1:\n",
        "            bb.append(b[j - 1])\n",
        "            aa.append(\"-\")\n",
        "            j -= 1\n",
        "        elif i > 0 and j > 0 and T[i][j] == T[i - 1][j - 1]:\n",
        "            aa.append(a[i - 1])\n",
        "            bb.append(b[j - 1])\n",
        "            i -= 1\n",
        "            j -= 1\n",
        "\n",
        "    return \"\".join(reversed(aa)), \"\".join(reversed(bb))\n",
        "\n",
        "\n",
        "# Test the align function with Arabic texts\n",
        "a = \"مما تأثر به كاتب مثل الحريرى أو شاعر مثل أبى العلاء ، ولهذا\"\n",
        "b = \"مما تأثر به كاتب” مثل الحر يرى أو شاعر” مثل ألى العلاء» وهذا\"\n",
        "def getdiffwords(a,b):\n",
        "  aligned = align(a, b)\n",
        "  sentence1 = aligned[0]\n",
        "  sentence2 = aligned[1]\n",
        "  words1 = sentence1.split()\n",
        "  words2 = sentence2.split()\n",
        "  words=[]\n",
        "  for word1, word2 in zip(words1, words2):\n",
        "    word1 = word1.replace(\"-\", \"\").strip()\n",
        "    word2 = word2.replace(\"-\", \"\").strip()\n",
        "    words.append((word1, word2))\n",
        "  return(words)\n"
      ]
    },
    {
      "cell_type": "code",
      "execution_count": null,
      "metadata": {
        "colab": {
          "base_uri": "https://localhost:8080/"
        },
        "id": "7UAVZvG6wvEX",
        "outputId": "26c00cd2-54d8-4322-9424-8021be22739c"
      },
      "outputs": [
        {
          "name": "stdout",
          "output_type": "stream",
          "text": [
            "Book: BK_42_03_G_3\n",
            "Book: BK_17_02_G_3\n",
            "Book: BK_32_01_G_3\n",
            "Book: BK_32_03_G_3\n",
            "Book: BK_52_02_G_3\n",
            "Book: BK_42_05_G_3\n",
            "Book: BK_42_10_G_3\n",
            "Book: BK_32_02_G_3\n",
            "Book: BK_52_01_G_3\n",
            "Book: BK_32_08_G_3\n",
            "Book: BK_52_07_G_3\n",
            "Book: BK_62_10_G_3\n",
            "Book: BK_17_03_G_3\n",
            "[('فى', 'في'), ('التى', 'التي'), ('فى', 'في'), ('ثم', 'لم'), ('ممر', 'تمر'), ('التجول', 'التحول'), ('فى', 'في'), ('الأشراف', 'الإشراف'), ('وتنوعت', 'وتنوءت'), ('أراضى', 'أراضي'), ('الزراعى', 'الزراعي'), ('أجراء', 'إجراء'), ('فى', 'في'), ('سنراه', 'ستراه'), ('فى', 'في'), ('القارىء', 'القاريء'), ('،', '6'), ('بغداد', 'بشداد'), ('فى', 'في'), ('القرن', 'المرن'), ('المصرى', 'المصري'), ('متوهم', 'لتوهم'), ('القارئ', 'القاري'), ('البين', 'البطن'), ('للطعن', 'للطمن'), ('فى', 'في'), ('الرقيق', 'الرفيق'), ('نقول', 'تقول'), ('،', '»'), ('،', '»'), ('،', '.'), ('فما', 'فيا'), ('،', 'ل'), ('العربى', 'العربي'), ('التى', 'التي'), ('وعملت', 'وحملت'), ('فى', 'في'), ('فى', 'في'), ('فى', 'في'), ('،', '»'), ('فى', 'في'), ('سهوله', 'سهولة'), ('يقوم', 'بقوم'), ('والتعقل', 'والتنقل'), ('،', '»'), ('،', '»'), ('كالبوصلة', 'كالنوصلة'), ('تحدد', 'يحدد'), ('،', '6'), ('المزولة', 'الممولة'), ('،', '»'), ('التى', 'التي'), ('،', '»'), ('،', '»'), ('والبوم', 'وألبوم'), ('،', '»'), ('لتشبع', 'لنشبع'), ('،', '»'), ('فى', 'في'), ('وتنتهى', 'وتنتهي'), ('المأساه', 'المأساة'), ('الهام', 'الحام'), ('\"', '2'), ('يقدم', 'بقدم'), ('\"', '؟'), ('فى', 'في'), ('،', '»'), ('الحيوانات', 'الليوانات'), ('التى', 'التي'), ('العدو', 'المدو'), ('،', '»'), ('الضربة', 'الضرية'), ('التى', 'التي'), ('بها', 'مها'), ('فى', 'في'), ('ضربة', 'ضرية'), ('الذى', 'الذي'), ('بدرجة', 'بدردة'), ('أعداده', 'إعداده'), ('وجه', 'وحه'), ('،', ','), ('،', '»'), ('السقى', 'السقي'), ('،', '.'), ('باجماع', 'بإجماع'), ('،', '.'), ('هى', 'هي'), ('الشافعى', 'الشافعي'), ('،', '»'), ('،', '.'), ('،', '.'), ('فى', 'في'), ('يقتضى', 'يقتضي'), ('،', '.'), ('فى', 'في'), ('رضى', 'رضي'), ('،', '.'), ('فى', 'في'), ('فى', 'في'), ('الشافعى', 'الشافعي'), ('،', '.'), ('،', '.'), ('للشافعى', 'للشافعي'), ('فى', 'في'), ('يصلى', 'يصلي'), ('فى', 'في'), ('،', '.'), ('فى', 'في'), ('،', '.'), ('وفى', 'وفي'), ('،', '»'), ('فى', 'في'), ('وخيره', 'وخيرة'), ('،', '.'), ('فى', 'في'), ('البخارى', 'البخاري'), ('أخبرنى', 'أخبرني'), ('المازنى', 'المازني'), ('فى', 'في'), ('التى', 'التي'), ('مبادىء', 'مباديء'), ('الآلى', 'الآلي'), ('الاقتصادى', 'الاقتصادي'), ('فى', 'في'), ('فى', 'في'), ('التى', 'التي'), ('التى', 'التي'), ('عملت', 'عمات'), ('فى', 'في'), ('فى', 'في'), ('الثروات', 'الأروات'), ('التى', 'التي'), ('تنطوى', 'تنطوي'), ('فى', 'في'), ('لأنها', 'لأمها'), ('مما', 'بما'), ('فى', 'في'), ('.', ':'), ('المرضى', 'المرغى'), ('يوجدون', 'بوجدون'), ('فى', 'في'), ('فى', 'في'), ('،', '»'), ('فى', 'في'), ('وحاسته', 'وحالته'), ('فى', 'في'), ('فى', 'في'), ('الوراثية', 'الورائية'), ('،', '»'), ('فى', 'في'), ('الضرورى', 'الضروري'), ('،', '»'), ('فى', 'في'), ('فى', 'في'), ('وفى', 'وفي'), ('الحالين', 'الخالين'), ('العقول', 'المقول'), ('العقلى', 'العقلي'), ('تلعب', 'تلمب'), ('فى', 'في'), ('فى', 'في'), ('التى', 'التي'), ('الهلاك', 'الحلاك'), ('،', '»'), ('طيور', 'طبور'), ('،', '6'), ('وفى', 'وفي'), ('،', '»'), ('هل', 'هو'), ('،', '»'), ('تحافظ', 'محافظ'), ('التى', 'التي'), ('تحتضنها', 'محتضنها'), ('هى', 'هي'), ('الهامة', 'الحامة'), ('ورغم', 'ورتم'), ('الحيوان', 'الحبوان'), ('فى', 'في'), ('،', '.'), ('يستسقى', 'يستسقي'), ('،', '»'), ('الصحابة', 'للصحابة'), ('،', '»'), ('،', '.'), ('التى', 'التي'), ('،', '.'), ('فى', 'في'), ('للاستسقاء', 'الاستسقاء'), ('التى', 'التي'), ('،', '»'), ('الراوى', 'الراوي'), ('فى', 'في'), ('،', '.'), ('فى', 'في'), ('،', '»'), ('فى', 'في'), ('فى', 'في'), ('أثر', 'إثر'), ('رداءه', 'رداءة'), ('وفى', 'وفي'), ('للاستسقاء', 'الاستسقاء'), ('فى', 'في'), ('فى', 'في'), ('أثنائها', 'أثناءها'), ('للاستسقاء', 'الاستسقاء'), ('،', ','), ('فى', 'في'), ('للشافعى', 'للشافعي'), ('الطبيعى', 'الطبيعي'), ('يتمكن', 'يشمكن'), ('يظل', 'بظل'), ('فى', 'في'), ('يتصل', 'بتصل'), ('القطيع', 'القطاع'), ('والحركات', 'والشركات'), ('تفهمها', 'تتهمها'), ('فى', 'في'), ('الحال', 'الخال'), ('،', '»'), ('تنتظم', 'تنتظر'), ('فى', 'في'), ('قطعان', 'قطمان'), ('فى', 'في'), ('،', '»'), ('يتخلف', 'بتخلف'), ('أقعدهم', 'أقعدثم'), ('فى', 'في'), ('بنى', 'بني'), ('فى', 'في'), ('يتضح', 'بتضح'), ('الحيوان', 'الميوان'), ('يقل', 'بقل'), ('فى', 'في'), ('الأمر', 'الأمس'), ('والذى', 'والذي'), ('،', '»'), ('وفيه', 'دفيه'), ('ساكن', 'ساكد'), ('حى', 'حي'), ('\"', '«'), ('الأيلى', 'الأيلي'), ('ألا', 'إلا'), ('النبى', 'النبي'), ('؟', 'ح'), ('،', '.'), ('أخبرنى', 'أخبرني'), ('ألا', 'إلا'), ('عنى', 'عني'), ('أمى', 'أمي'), ('\"', '»'), ('القاضى', 'القاضي'), ('فى', 'في'), ('فى', 'في'), ('أخبرنى', 'أخبرني'), ('الجرجانى', 'الجرجاني'), ('،', '.'), ('أخبرنى', 'أخبرني'), ('أبى', 'أبي'), ('أبى', 'أبي'), ('،', '.'), ('الغسانى', 'الغساني'), ('فى', 'في'), ('،', '»'), ('فى', 'في'), ('،', '»'), ('مصنفه', 'مصنفة'), ('أخبرنى', 'أخبرني'), ('،', ','), ('التابعى', 'التابعي'), ('القاضى', 'القاضي'), ('فى', 'في'), ('وحدثنى', 'وحدثني'), ('،', ','), ('حدثنى', 'حدثني'), ('حدثنى', 'حدثني'), ('وتنسون', 'وكنسون'), ('،', '2'), ('(', ':'), ('.', '0'), ('المتفلسفون', 'المافلسفون'), ('،', ','), ('،', '»'), ('فى', 'في'), ('،', '.'), ('جزؤه', 'جزئه'), ('،', '»'), ('،', ','), ('،', '»'), ('الوحى', 'الوحي'), ('،', '؛'), ('الأرسطى', 'الأرسطي'), ('الوحى', 'الوحي'), ('فى', 'في'), ('،', ','), ('الرقى', 'الرقي'), ('والرخاء', 'والرغاء'), ('العلمانية', 'العليانية'), ('،', ','), ('الوحى', 'الوحي'), ('يزعمون', 'بزعمون'), ('،', '»'), ('فى', 'في'), ('الوحى', 'الوحي'), ('،', '؛'), ('فى', 'في'), ('النفسى', 'النفسي'), ('والروحى', 'والروحي'), ('،', '٠'), ('،', ','), ('وعمودها', 'وعبودها'), ('الفقرى', 'الفقري'), ('،', '٠'), ('2', ')'), ('3', 'م'), ('مثل', 'مكل'), ('،', '»'), ('فى', 'في'), ('،', '»'), ('آراؤه', 'آراوه'), ('فى', 'في'), ('فهل', 'نهل'), ('فى', 'في'), ('آمنت', 'أمنت'), ('،', '2'), ('،', '»'), ('مزقت', 'عزقت'), ('،', '»'), ('لأنى', 'لأني'), ('شجون', 'شحون'), ('تنكرها', 'تتكرها'), ('التى', 'التي'), ('التهيب', 'النهيب'), ('لأنى', 'لأني'), ('تخوفت', 'مخوفت'), ('التى', 'التي'), ('!', '؟'), ('،', '»')]\n",
            "337\n"
          ]
        }
      ],
      "source": [
        "from collections import Counter\n",
        "\n",
        "def compare_text_files3(file1_path, file2_path):\n",
        "    # Read the contents of the files\n",
        "    with open(file1_path, 'r', encoding='utf-8') as file1, open(file2_path, 'r', encoding='utf-8') as file2:\n",
        "        differing_words = []\n",
        "        accuracy_scores = []\n",
        "        repeated_errors = Counter()\n",
        "\n",
        "        for line1, line2 in zip(file1, file2):\n",
        "            line1 = line1.strip()\n",
        "            line2 = line2.strip()\n",
        "\n",
        "            # Remove diacritics and extra spaces from each line\n",
        "            line1 = remove_diacritics(line1)\n",
        "            line1 = re.sub(r'\\s+', ' ', line1)\n",
        "            line2 = the_spell_check_experience(line2).rstrip()\n",
        "            line2 = remove_diacritics(line2)\n",
        "            line2 = re.sub(r'\\s+', ' ', line2)\n",
        "\n",
        "            # Split the lines into words\n",
        "            words1 = line1.split()\n",
        "            words2 = line2.split()\n",
        "\n",
        "            # Find differing words\n",
        "            differing_line_words= getdiffwords(line1, line2)\n",
        "            differing_words.extend(differing_line_words)\n",
        "            # Calculate the accuracy score\n",
        "            accuracy = difflib.SequenceMatcher(None, words1, words2).ratio()\n",
        "            accuracy_scores.append(accuracy)\n",
        "\n",
        "            # Calculate the minimum edit distance\n",
        "            distance = Levenshtein.distance(\" \".join(words1), \" \".join(words2))\n",
        "\n",
        "            # Update repeated errors count\n",
        "            for word1, word2 in differing_line_words:\n",
        "                repeated_errors[(word1, word2)] += 1\n",
        "        # Calculate the average accuracy score\n",
        "        average_score = sum(accuracy_scores) / len(accuracy_scores)\n",
        "\n",
        "    return average_score, differing_words, repeated_errors,\n",
        "\n",
        "\n",
        "differing_words_all=[]\n",
        "for i in range(len(refs)):\n",
        "    print(\"Book:\", refs[i][len(ref_path):-8])\n",
        "    average_score, differing_words, repeated_errors, = compare_text_files3(refs[i], syss[i])\n",
        "    differing_words_all.append(differing_words)\n",
        "\n",
        "def flatten_2d_list(input_list):\n",
        "    flattened_list = []\n",
        "    for sublist in input_list:\n",
        "        for item in sublist:\n",
        "            flattened_list.append(item)\n",
        "    return flattened_list\n",
        "\n",
        "# Example usage\n",
        "flattened_list = flatten_2d_list(differing_words_all)\n",
        "\n",
        "def filter_tuples_by_letter_difference(word_tuples):\n",
        "  same_len=[]\n",
        "  for tup in word_tuples:\n",
        "    word1, word2 = tup\n",
        "    if len(word1)== len(word2):\n",
        "      same_len.append(tup)\n",
        "  filtered_tuples = [tuple_pair for tuple_pair in same_len if letter_difference(tuple_pair) == 1]\n",
        "  return filtered_tuples\n",
        "\n",
        "def letter_difference(tuple_pair):\n",
        "    word1, word2 = tuple_pair\n",
        "    if len(word1) != len(word2):\n",
        "        return len(word1) - len(word2)\n",
        "    difference_count = sum([1 for c1, c2 in zip(word1, word2) if c1 != c2])\n",
        "    return difference_count\n",
        "\n",
        "# Example usage\n",
        "filtered_tuples = filter_tuples_by_letter_difference(flattened_list)\n",
        "print(filtered_tuples)\n",
        "print(len(filtered_tuples))"
      ]
    },
    {
      "cell_type": "markdown",
      "metadata": {
        "id": "CP7IrkYXiOgz"
      },
      "source": [
        "#Most Common Errors"
      ]
    },
    {
      "cell_type": "code",
      "execution_count": null,
      "metadata": {
        "colab": {
          "base_uri": "https://localhost:8080/"
        },
        "id": "9xGstQ4JMG7I",
        "outputId": "1246937a-42a4-4912-b392-96e292348bbc"
      },
      "outputs": [
        {
          "name": "stdout",
          "output_type": "stream",
          "text": [
            "ى ي 148 occurrence(s)\n",
            "\n",
            "، » 39 occurrence(s)\n",
            "\n",
            "، . 20 occurrence(s)\n",
            "\n",
            "ي ب 11 occurrence(s)\n",
            "\n",
            "، , 9 occurrence(s)\n",
            "\n",
            "أ إ 6 occurrence(s)\n",
            "\n",
            "ع م 5 occurrence(s)\n",
            "\n",
            "ه ة 5 occurrence(s)\n",
            "\n",
            "ل ا 4 occurrence(s)\n",
            "\n",
            "ج ح 3 occurrence(s)\n",
            "\n",
            "ن ت 3 occurrence(s)\n",
            "\n",
            "، 6 3 occurrence(s)\n",
            "\n",
            "ه ح 3 occurrence(s)\n",
            "\n",
            "ت م 3 occurrence(s)\n",
            "\n",
            "م ي 2 occurrence(s)\n",
            "\n",
            "ت ن 2 occurrence(s)\n",
            "\n",
            "ب ي 2 occurrence(s)\n",
            "\n",
            "م ب 2 occurrence(s)\n",
            "\n",
            "ح خ 2 occurrence(s)\n",
            "\n",
            "، 2 2 occurrence(s)\n",
            "\n",
            "، ؛ 2 occurrence(s)\n",
            "\n",
            "، ٠ 2 occurrence(s)\n",
            "\n",
            "ث ل 1 occurrence(s)\n",
            "\n",
            "م ت 1 occurrence(s)\n",
            "\n",
            "ع ء 1 occurrence(s)\n",
            "\n",
            "غ ش 1 occurrence(s)\n",
            "\n",
            "ق م 1 occurrence(s)\n",
            "\n",
            "م ل 1 occurrence(s)\n",
            "\n",
            "ئ ي 1 occurrence(s)\n",
            "\n",
            "ي ط 1 occurrence(s)\n",
            "\n",
            "ق ف 1 occurrence(s)\n",
            "\n",
            "، ل 1 occurrence(s)\n",
            "\n",
            "ع ح 1 occurrence(s)\n",
            "\n",
            "ع ن 1 occurrence(s)\n",
            "\n",
            "ب ن 1 occurrence(s)\n",
            "\n",
            "ت ي 1 occurrence(s)\n",
            "\n",
            "ز م 1 occurrence(s)\n",
            "\n",
            "ا أ 1 occurrence(s)\n",
            "\n",
            "\" 2 1 occurrence(s)\n",
            "\n",
            "\" ؟ 1 occurrence(s)\n",
            "\n",
            "ح ل 1 occurrence(s)\n",
            "\n",
            "ب م 1 occurrence(s)\n",
            "\n",
            "ج د 1 occurrence(s)\n",
            "\n",
            "ا إ 1 occurrence(s)\n",
            "\n",
            "ث أ 1 occurrence(s)\n",
            "\n",
            "ن م 1 occurrence(s)\n",
            "\n",
            ". : 1 occurrence(s)\n",
            "\n",
            "ض غ 1 occurrence(s)\n",
            "\n",
            "س ل 1 occurrence(s)\n",
            "\n",
            "ث ئ 1 occurrence(s)\n",
            "\n",
            "ل و 1 occurrence(s)\n",
            "\n",
            "غ ت 1 occurrence(s)\n",
            "\n",
            "ا ل 1 occurrence(s)\n",
            "\n",
            "ئ ء 1 occurrence(s)\n",
            "\n",
            "ت ش 1 occurrence(s)\n",
            "\n",
            "ي ا 1 occurrence(s)\n",
            "\n",
            "ح ش 1 occurrence(s)\n",
            "\n",
            "ف ت 1 occurrence(s)\n",
            "\n",
            "م ر 1 occurrence(s)\n",
            "\n",
            "ه ث 1 occurrence(s)\n",
            "\n",
            "ح م 1 occurrence(s)\n",
            "\n",
            "ر س 1 occurrence(s)\n",
            "\n",
            "و د 1 occurrence(s)\n",
            "\n",
            "ن د 1 occurrence(s)\n",
            "\n",
            "\" « 1 occurrence(s)\n",
            "\n",
            "؟ ح 1 occurrence(s)\n",
            "\n",
            "\" » 1 occurrence(s)\n",
            "\n",
            "ت ك 1 occurrence(s)\n",
            "\n",
            "( : 1 occurrence(s)\n",
            "\n",
            ". 0 1 occurrence(s)\n",
            "\n",
            "ت ا 1 occurrence(s)\n",
            "\n",
            "ؤ ئ 1 occurrence(s)\n",
            "\n",
            "خ غ 1 occurrence(s)\n",
            "\n",
            "2 ) 1 occurrence(s)\n",
            "\n",
            "3 م 1 occurrence(s)\n",
            "\n",
            "ث ك 1 occurrence(s)\n",
            "\n",
            "ؤ و 1 occurrence(s)\n",
            "\n",
            "ف ن 1 occurrence(s)\n",
            "\n",
            "آ أ 1 occurrence(s)\n",
            "\n",
            "م ع 1 occurrence(s)\n",
            "\n",
            "! ؟ 1 occurrence(s)\n",
            "\n"
          ]
        }
      ],
      "source": [
        "from collections import Counter\n",
        "\n",
        "def find_errors(word_tuples):\n",
        "    errors = []\n",
        "    for word1, word2 in word_tuples:\n",
        "        for letter1, letter2 in zip(word1, word2):\n",
        "            if letter1 != letter2:\n",
        "                errors.append((letter1, letter2))\n",
        "\n",
        "    error_counts = Counter(errors)\n",
        "    sorted_errors = sorted(error_counts.items(), key=lambda x: x[1], reverse=True)\n",
        "\n",
        "    return sorted_errors\n",
        "\n",
        "# Example usage\n",
        "errors = find_errors(filtered_tuples)\n",
        "\n",
        "for error, count in errors:\n",
        "    print(f\"{error[0]} {error[1]} \" + f\"{count} occurrence(s)\")\n",
        "    print()\n"
      ]
    },
    {
      "cell_type": "markdown",
      "metadata": {
        "id": "k1Dxbxg7FgfP"
      },
      "source": [
        "Notes ---\n",
        "\n",
        "- difflib.get_close_matches --> helper built-in function that returns a list of the best “good enough” matches.\n",
        "- Comparing words in ref with sys\n",
        "- Cutoff is set to 0.70 works best as there are loosely matched words\n",
        "- The dictionary returns the word from file 1 with its best match from file 2 and the number of times each word occured in the file"
      ]
    },
    {
      "cell_type": "code",
      "execution_count": null,
      "metadata": {
        "id": "VJblDu_fE0pW"
      },
      "outputs": [],
      "source": [
        "import difflib\n",
        "import collections\n",
        "\n",
        "def freq_difference(ref, sys):\n",
        "\n",
        "    with open(ref, 'r', encoding=\"utf-8\") as f:\n",
        "        text1 = f.read().split()\n",
        "    with open(sys, 'r', encoding=\"utf-8\") as f:\n",
        "        text2 = f.read().split()\n",
        "\n",
        "    # get unique words\n",
        "    words1 = set(text1)\n",
        "    words2 = set(text2)\n",
        "\n",
        "    # dic for matches from both file\n",
        "    freq_diff = {}\n",
        "\n",
        "    for word1 in words1:\n",
        "        for word2 in words2:\n",
        "            # get close matches of word1 in word2\n",
        "            if word2 in difflib.get_close_matches(word1, [word2], n=2, cutoff=0.70) and word1 != word2:\n",
        "                freq_diff[(word1, word2)] = (text1.count(word1), text2.count(word2))\n",
        "    return freq_diff\n",
        "\n"
      ]
    },
    {
      "cell_type": "markdown",
      "metadata": {
        "id": "W3_s8JGuzwU2"
      },
      "source": [
        "#Valid Sentences Filtering"
      ]
    },
    {
      "cell_type": "code",
      "execution_count": null,
      "metadata": {
        "colab": {
          "base_uri": "https://localhost:8080/"
        },
        "id": "Lme8_4n_j7LG",
        "outputId": "13461202-ce92-4272-82e9-1bee2ded1609"
      },
      "outputs": [
        {
          "name": "stdout",
          "output_type": "stream",
          "text": [
            "Looking in indexes: https://pypi.org/simple, https://us-python.pkg.dev/colab-wheels/public/simple/\n",
            "Requirement already satisfied: Levenshtein in /usr/local/lib/python3.10/dist-packages (0.21.1)\n",
            "Requirement already satisfied: rapidfuzz<4.0.0,>=2.3.0 in /usr/local/lib/python3.10/dist-packages (from Levenshtein) (3.1.1)\n"
          ]
        }
      ],
      "source": [
        "!pip install Levenshtein"
      ]
    },
    {
      "cell_type": "code",
      "execution_count": null,
      "metadata": {
        "colab": {
          "base_uri": "https://localhost:8080/"
        },
        "id": "xK909FxPS2_5",
        "outputId": "2510ced9-2f7c-4021-d5f1-d7dbcea3583a"
      },
      "outputs": [
        {
          "name": "stdout",
          "output_type": "stream",
          "text": [
            "Output file '/content/drive/MyDrive/QCRI/ArabicTextSimplification_QCRI_Internship/Qatar_Curriculum_Books/ArabicBooks/Completed_textfiles/G12_T2/G12_T2.pdf_dirtextfiles_validation/0_G12_T2.pdf.txt' has been created.\n",
            "Output file '/content/drive/MyDrive/QCRI/ArabicTextSimplification_QCRI_Internship/Qatar_Curriculum_Books/ArabicBooks/Completed_textfiles/G12_T2/G12_T2.pdf_dirtextfiles_validation/1_G12_T2.pdf.txt' has been created.\n",
            "Output file '/content/drive/MyDrive/QCRI/ArabicTextSimplification_QCRI_Internship/Qatar_Curriculum_Books/ArabicBooks/Completed_textfiles/G12_T2/G12_T2.pdf_dirtextfiles_validation/2_G12_T2.pdf.txt' has been created.\n",
            "Output file '/content/drive/MyDrive/QCRI/ArabicTextSimplification_QCRI_Internship/Qatar_Curriculum_Books/ArabicBooks/Completed_textfiles/G12_T2/G12_T2.pdf_dirtextfiles_validation/3_G12_T2.pdf.txt' has been created.\n",
            "Output file '/content/drive/MyDrive/QCRI/ArabicTextSimplification_QCRI_Internship/Qatar_Curriculum_Books/ArabicBooks/Completed_textfiles/G12_T2/G12_T2.pdf_dirtextfiles_validation/4_G12_T2.pdf.txt' has been created.\n",
            "Output file '/content/drive/MyDrive/QCRI/ArabicTextSimplification_QCRI_Internship/Qatar_Curriculum_Books/ArabicBooks/Completed_textfiles/G12_T2/G12_T2.pdf_dirtextfiles_validation/5_G12_T2.pdf.txt' has been created.\n",
            "Output file '/content/drive/MyDrive/QCRI/ArabicTextSimplification_QCRI_Internship/Qatar_Curriculum_Books/ArabicBooks/Completed_textfiles/G12_T2/G12_T2.pdf_dirtextfiles_validation/6_G12_T2.pdf.txt' has been created.\n",
            "Output file '/content/drive/MyDrive/QCRI/ArabicTextSimplification_QCRI_Internship/Qatar_Curriculum_Books/ArabicBooks/Completed_textfiles/G12_T2/G12_T2.pdf_dirtextfiles_validation/7_G12_T2.pdf.txt' has been created.\n",
            "Output file '/content/drive/MyDrive/QCRI/ArabicTextSimplification_QCRI_Internship/Qatar_Curriculum_Books/ArabicBooks/Completed_textfiles/G12_T2/G12_T2.pdf_dirtextfiles_validation/8_G12_T2.pdf.txt' has been created.\n",
            "Output file '/content/drive/MyDrive/QCRI/ArabicTextSimplification_QCRI_Internship/Qatar_Curriculum_Books/ArabicBooks/Completed_textfiles/G12_T2/G12_T2.pdf_dirtextfiles_validation/9_G12_T2.pdf.txt' has been created.\n",
            "Output file '/content/drive/MyDrive/QCRI/ArabicTextSimplification_QCRI_Internship/Qatar_Curriculum_Books/ArabicBooks/Completed_textfiles/G12_T2/G12_T2.pdf_dirtextfiles_validation/10_G12_T2.pdf.txt' has been created.\n",
            "Output file '/content/drive/MyDrive/QCRI/ArabicTextSimplification_QCRI_Internship/Qatar_Curriculum_Books/ArabicBooks/Completed_textfiles/G12_T2/G12_T2.pdf_dirtextfiles_validation/11_G12_T2.pdf.txt' has been created.\n",
            "Output file '/content/drive/MyDrive/QCRI/ArabicTextSimplification_QCRI_Internship/Qatar_Curriculum_Books/ArabicBooks/Completed_textfiles/G12_T2/G12_T2.pdf_dirtextfiles_validation/12_G12_T2.pdf.txt' has been created.\n",
            "Output file '/content/drive/MyDrive/QCRI/ArabicTextSimplification_QCRI_Internship/Qatar_Curriculum_Books/ArabicBooks/Completed_textfiles/G12_T2/G12_T2.pdf_dirtextfiles_validation/13_G12_T2.pdf.txt' has been created.\n",
            "Output file '/content/drive/MyDrive/QCRI/ArabicTextSimplification_QCRI_Internship/Qatar_Curriculum_Books/ArabicBooks/Completed_textfiles/G12_T2/G12_T2.pdf_dirtextfiles_validation/14_G12_T2.pdf.txt' has been created.\n",
            "Output file '/content/drive/MyDrive/QCRI/ArabicTextSimplification_QCRI_Internship/Qatar_Curriculum_Books/ArabicBooks/Completed_textfiles/G12_T2/G12_T2.pdf_dirtextfiles_validation/15_G12_T2.pdf.txt' has been created.\n",
            "Output file '/content/drive/MyDrive/QCRI/ArabicTextSimplification_QCRI_Internship/Qatar_Curriculum_Books/ArabicBooks/Completed_textfiles/G12_T2/G12_T2.pdf_dirtextfiles_validation/16_G12_T2.pdf.txt' has been created.\n",
            "Output file '/content/drive/MyDrive/QCRI/ArabicTextSimplification_QCRI_Internship/Qatar_Curriculum_Books/ArabicBooks/Completed_textfiles/G12_T2/G12_T2.pdf_dirtextfiles_validation/17_G12_T2.pdf.txt' has been created.\n",
            "Output file '/content/drive/MyDrive/QCRI/ArabicTextSimplification_QCRI_Internship/Qatar_Curriculum_Books/ArabicBooks/Completed_textfiles/G12_T2/G12_T2.pdf_dirtextfiles_validation/18_G12_T2.pdf.txt' has been created.\n",
            "Output file '/content/drive/MyDrive/QCRI/ArabicTextSimplification_QCRI_Internship/Qatar_Curriculum_Books/ArabicBooks/Completed_textfiles/G12_T2/G12_T2.pdf_dirtextfiles_validation/19_G12_T2.pdf.txt' has been created.\n",
            "Output file '/content/drive/MyDrive/QCRI/ArabicTextSimplification_QCRI_Internship/Qatar_Curriculum_Books/ArabicBooks/Completed_textfiles/G12_T2/G12_T2.pdf_dirtextfiles_validation/20_G12_T2.pdf.txt' has been created.\n",
            "Output file '/content/drive/MyDrive/QCRI/ArabicTextSimplification_QCRI_Internship/Qatar_Curriculum_Books/ArabicBooks/Completed_textfiles/G12_T2/G12_T2.pdf_dirtextfiles_validation/21_G12_T2.pdf.txt' has been created.\n",
            "Output file '/content/drive/MyDrive/QCRI/ArabicTextSimplification_QCRI_Internship/Qatar_Curriculum_Books/ArabicBooks/Completed_textfiles/G12_T2/G12_T2.pdf_dirtextfiles_validation/22_G12_T2.pdf.txt' has been created.\n",
            "Output file '/content/drive/MyDrive/QCRI/ArabicTextSimplification_QCRI_Internship/Qatar_Curriculum_Books/ArabicBooks/Completed_textfiles/G12_T2/G12_T2.pdf_dirtextfiles_validation/23_G12_T2.pdf.txt' has been created.\n",
            "Output file '/content/drive/MyDrive/QCRI/ArabicTextSimplification_QCRI_Internship/Qatar_Curriculum_Books/ArabicBooks/Completed_textfiles/G12_T2/G12_T2.pdf_dirtextfiles_validation/24_G12_T2.pdf.txt' has been created.\n",
            "Output file '/content/drive/MyDrive/QCRI/ArabicTextSimplification_QCRI_Internship/Qatar_Curriculum_Books/ArabicBooks/Completed_textfiles/G12_T2/G12_T2.pdf_dirtextfiles_validation/25_G12_T2.pdf.txt' has been created.\n",
            "Output file '/content/drive/MyDrive/QCRI/ArabicTextSimplification_QCRI_Internship/Qatar_Curriculum_Books/ArabicBooks/Completed_textfiles/G12_T2/G12_T2.pdf_dirtextfiles_validation/26_G12_T2.pdf.txt' has been created.\n",
            "Output file '/content/drive/MyDrive/QCRI/ArabicTextSimplification_QCRI_Internship/Qatar_Curriculum_Books/ArabicBooks/Completed_textfiles/G12_T2/G12_T2.pdf_dirtextfiles_validation/27_G12_T2.pdf.txt' has been created.\n",
            "Output file '/content/drive/MyDrive/QCRI/ArabicTextSimplification_QCRI_Internship/Qatar_Curriculum_Books/ArabicBooks/Completed_textfiles/G12_T2/G12_T2.pdf_dirtextfiles_validation/28_G12_T2.pdf.txt' has been created.\n",
            "Output file '/content/drive/MyDrive/QCRI/ArabicTextSimplification_QCRI_Internship/Qatar_Curriculum_Books/ArabicBooks/Completed_textfiles/G12_T2/G12_T2.pdf_dirtextfiles_validation/29_G12_T2.pdf.txt' has been created.\n",
            "Output file '/content/drive/MyDrive/QCRI/ArabicTextSimplification_QCRI_Internship/Qatar_Curriculum_Books/ArabicBooks/Completed_textfiles/G12_T2/G12_T2.pdf_dirtextfiles_validation/30_G12_T2.pdf.txt' has been created.\n",
            "Output file '/content/drive/MyDrive/QCRI/ArabicTextSimplification_QCRI_Internship/Qatar_Curriculum_Books/ArabicBooks/Completed_textfiles/G12_T2/G12_T2.pdf_dirtextfiles_validation/31_G12_T2.pdf.txt' has been created.\n",
            "Output file '/content/drive/MyDrive/QCRI/ArabicTextSimplification_QCRI_Internship/Qatar_Curriculum_Books/ArabicBooks/Completed_textfiles/G12_T2/G12_T2.pdf_dirtextfiles_validation/32_G12_T2.pdf.txt' has been created.\n",
            "Output file '/content/drive/MyDrive/QCRI/ArabicTextSimplification_QCRI_Internship/Qatar_Curriculum_Books/ArabicBooks/Completed_textfiles/G12_T2/G12_T2.pdf_dirtextfiles_validation/33_G12_T2.pdf.txt' has been created.\n",
            "Output file '/content/drive/MyDrive/QCRI/ArabicTextSimplification_QCRI_Internship/Qatar_Curriculum_Books/ArabicBooks/Completed_textfiles/G12_T2/G12_T2.pdf_dirtextfiles_validation/34_G12_T2.pdf.txt' has been created.\n",
            "Output file '/content/drive/MyDrive/QCRI/ArabicTextSimplification_QCRI_Internship/Qatar_Curriculum_Books/ArabicBooks/Completed_textfiles/G12_T2/G12_T2.pdf_dirtextfiles_validation/35_G12_T2.pdf.txt' has been created.\n",
            "Output file '/content/drive/MyDrive/QCRI/ArabicTextSimplification_QCRI_Internship/Qatar_Curriculum_Books/ArabicBooks/Completed_textfiles/G12_T2/G12_T2.pdf_dirtextfiles_validation/36_G12_T2.pdf.txt' has been created.\n",
            "Output file '/content/drive/MyDrive/QCRI/ArabicTextSimplification_QCRI_Internship/Qatar_Curriculum_Books/ArabicBooks/Completed_textfiles/G12_T2/G12_T2.pdf_dirtextfiles_validation/37_G12_T2.pdf.txt' has been created.\n",
            "Output file '/content/drive/MyDrive/QCRI/ArabicTextSimplification_QCRI_Internship/Qatar_Curriculum_Books/ArabicBooks/Completed_textfiles/G12_T2/G12_T2.pdf_dirtextfiles_validation/38_G12_T2.pdf.txt' has been created.\n",
            "Output file '/content/drive/MyDrive/QCRI/ArabicTextSimplification_QCRI_Internship/Qatar_Curriculum_Books/ArabicBooks/Completed_textfiles/G12_T2/G12_T2.pdf_dirtextfiles_validation/39_G12_T2.pdf.txt' has been created.\n",
            "Output file '/content/drive/MyDrive/QCRI/ArabicTextSimplification_QCRI_Internship/Qatar_Curriculum_Books/ArabicBooks/Completed_textfiles/G12_T2/G12_T2.pdf_dirtextfiles_validation/40_G12_T2.pdf.txt' has been created.\n",
            "Output file '/content/drive/MyDrive/QCRI/ArabicTextSimplification_QCRI_Internship/Qatar_Curriculum_Books/ArabicBooks/Completed_textfiles/G12_T2/G12_T2.pdf_dirtextfiles_validation/41_G12_T2.pdf.txt' has been created.\n",
            "Output file '/content/drive/MyDrive/QCRI/ArabicTextSimplification_QCRI_Internship/Qatar_Curriculum_Books/ArabicBooks/Completed_textfiles/G12_T2/G12_T2.pdf_dirtextfiles_validation/42_G12_T2.pdf.txt' has been created.\n",
            "Output file '/content/drive/MyDrive/QCRI/ArabicTextSimplification_QCRI_Internship/Qatar_Curriculum_Books/ArabicBooks/Completed_textfiles/G12_T2/G12_T2.pdf_dirtextfiles_validation/43_G12_T2.pdf.txt' has been created.\n",
            "Output file '/content/drive/MyDrive/QCRI/ArabicTextSimplification_QCRI_Internship/Qatar_Curriculum_Books/ArabicBooks/Completed_textfiles/G12_T2/G12_T2.pdf_dirtextfiles_validation/44_G12_T2.pdf.txt' has been created.\n",
            "Output file '/content/drive/MyDrive/QCRI/ArabicTextSimplification_QCRI_Internship/Qatar_Curriculum_Books/ArabicBooks/Completed_textfiles/G12_T2/G12_T2.pdf_dirtextfiles_validation/45_G12_T2.pdf.txt' has been created.\n",
            "Output file '/content/drive/MyDrive/QCRI/ArabicTextSimplification_QCRI_Internship/Qatar_Curriculum_Books/ArabicBooks/Completed_textfiles/G12_T2/G12_T2.pdf_dirtextfiles_validation/46_G12_T2.pdf.txt' has been created.\n",
            "Output file '/content/drive/MyDrive/QCRI/ArabicTextSimplification_QCRI_Internship/Qatar_Curriculum_Books/ArabicBooks/Completed_textfiles/G12_T2/G12_T2.pdf_dirtextfiles_validation/47_G12_T2.pdf.txt' has been created.\n",
            "Output file '/content/drive/MyDrive/QCRI/ArabicTextSimplification_QCRI_Internship/Qatar_Curriculum_Books/ArabicBooks/Completed_textfiles/G12_T2/G12_T2.pdf_dirtextfiles_validation/48_G12_T2.pdf.txt' has been created.\n",
            "Output file '/content/drive/MyDrive/QCRI/ArabicTextSimplification_QCRI_Internship/Qatar_Curriculum_Books/ArabicBooks/Completed_textfiles/G12_T2/G12_T2.pdf_dirtextfiles_validation/49_G12_T2.pdf.txt' has been created.\n",
            "Output file '/content/drive/MyDrive/QCRI/ArabicTextSimplification_QCRI_Internship/Qatar_Curriculum_Books/ArabicBooks/Completed_textfiles/G12_T2/G12_T2.pdf_dirtextfiles_validation/50_G12_T2.pdf.txt' has been created.\n",
            "Output file '/content/drive/MyDrive/QCRI/ArabicTextSimplification_QCRI_Internship/Qatar_Curriculum_Books/ArabicBooks/Completed_textfiles/G12_T2/G12_T2.pdf_dirtextfiles_validation/51_G12_T2.pdf.txt' has been created.\n",
            "Output file '/content/drive/MyDrive/QCRI/ArabicTextSimplification_QCRI_Internship/Qatar_Curriculum_Books/ArabicBooks/Completed_textfiles/G12_T2/G12_T2.pdf_dirtextfiles_validation/52_G12_T2.pdf.txt' has been created.\n",
            "Output file '/content/drive/MyDrive/QCRI/ArabicTextSimplification_QCRI_Internship/Qatar_Curriculum_Books/ArabicBooks/Completed_textfiles/G12_T2/G12_T2.pdf_dirtextfiles_validation/53_G12_T2.pdf.txt' has been created.\n",
            "Output file '/content/drive/MyDrive/QCRI/ArabicTextSimplification_QCRI_Internship/Qatar_Curriculum_Books/ArabicBooks/Completed_textfiles/G12_T2/G12_T2.pdf_dirtextfiles_validation/54_G12_T2.pdf.txt' has been created.\n",
            "Output file '/content/drive/MyDrive/QCRI/ArabicTextSimplification_QCRI_Internship/Qatar_Curriculum_Books/ArabicBooks/Completed_textfiles/G12_T2/G12_T2.pdf_dirtextfiles_validation/55_G12_T2.pdf.txt' has been created.\n",
            "Output file '/content/drive/MyDrive/QCRI/ArabicTextSimplification_QCRI_Internship/Qatar_Curriculum_Books/ArabicBooks/Completed_textfiles/G12_T2/G12_T2.pdf_dirtextfiles_validation/56_G12_T2.pdf.txt' has been created.\n",
            "Output file '/content/drive/MyDrive/QCRI/ArabicTextSimplification_QCRI_Internship/Qatar_Curriculum_Books/ArabicBooks/Completed_textfiles/G12_T2/G12_T2.pdf_dirtextfiles_validation/57_G12_T2.pdf.txt' has been created.\n",
            "Output file '/content/drive/MyDrive/QCRI/ArabicTextSimplification_QCRI_Internship/Qatar_Curriculum_Books/ArabicBooks/Completed_textfiles/G12_T2/G12_T2.pdf_dirtextfiles_validation/58_G12_T2.pdf.txt' has been created.\n",
            "Output file '/content/drive/MyDrive/QCRI/ArabicTextSimplification_QCRI_Internship/Qatar_Curriculum_Books/ArabicBooks/Completed_textfiles/G12_T2/G12_T2.pdf_dirtextfiles_validation/59_G12_T2.pdf.txt' has been created.\n",
            "Output file '/content/drive/MyDrive/QCRI/ArabicTextSimplification_QCRI_Internship/Qatar_Curriculum_Books/ArabicBooks/Completed_textfiles/G12_T2/G12_T2.pdf_dirtextfiles_validation/60_G12_T2.pdf.txt' has been created.\n",
            "Output file '/content/drive/MyDrive/QCRI/ArabicTextSimplification_QCRI_Internship/Qatar_Curriculum_Books/ArabicBooks/Completed_textfiles/G12_T2/G12_T2.pdf_dirtextfiles_validation/61_G12_T2.pdf.txt' has been created.\n",
            "Output file '/content/drive/MyDrive/QCRI/ArabicTextSimplification_QCRI_Internship/Qatar_Curriculum_Books/ArabicBooks/Completed_textfiles/G12_T2/G12_T2.pdf_dirtextfiles_validation/62_G12_T2.pdf.txt' has been created.\n",
            "Output file '/content/drive/MyDrive/QCRI/ArabicTextSimplification_QCRI_Internship/Qatar_Curriculum_Books/ArabicBooks/Completed_textfiles/G12_T2/G12_T2.pdf_dirtextfiles_validation/63_G12_T2.pdf.txt' has been created.\n",
            "Output file '/content/drive/MyDrive/QCRI/ArabicTextSimplification_QCRI_Internship/Qatar_Curriculum_Books/ArabicBooks/Completed_textfiles/G12_T2/G12_T2.pdf_dirtextfiles_validation/64_G12_T2.pdf.txt' has been created.\n",
            "Output file '/content/drive/MyDrive/QCRI/ArabicTextSimplification_QCRI_Internship/Qatar_Curriculum_Books/ArabicBooks/Completed_textfiles/G12_T2/G12_T2.pdf_dirtextfiles_validation/65_G12_T2.pdf.txt' has been created.\n",
            "Output file '/content/drive/MyDrive/QCRI/ArabicTextSimplification_QCRI_Internship/Qatar_Curriculum_Books/ArabicBooks/Completed_textfiles/G12_T2/G12_T2.pdf_dirtextfiles_validation/66_G12_T2.pdf.txt' has been created.\n",
            "Output file '/content/drive/MyDrive/QCRI/ArabicTextSimplification_QCRI_Internship/Qatar_Curriculum_Books/ArabicBooks/Completed_textfiles/G12_T2/G12_T2.pdf_dirtextfiles_validation/67_G12_T2.pdf.txt' has been created.\n",
            "Output file '/content/drive/MyDrive/QCRI/ArabicTextSimplification_QCRI_Internship/Qatar_Curriculum_Books/ArabicBooks/Completed_textfiles/G12_T2/G12_T2.pdf_dirtextfiles_validation/68_G12_T2.pdf.txt' has been created.\n",
            "Output file '/content/drive/MyDrive/QCRI/ArabicTextSimplification_QCRI_Internship/Qatar_Curriculum_Books/ArabicBooks/Completed_textfiles/G12_T2/G12_T2.pdf_dirtextfiles_validation/69_G12_T2.pdf.txt' has been created.\n",
            "Output file '/content/drive/MyDrive/QCRI/ArabicTextSimplification_QCRI_Internship/Qatar_Curriculum_Books/ArabicBooks/Completed_textfiles/G12_T2/G12_T2.pdf_dirtextfiles_validation/70_G12_T2.pdf.txt' has been created.\n",
            "Output file '/content/drive/MyDrive/QCRI/ArabicTextSimplification_QCRI_Internship/Qatar_Curriculum_Books/ArabicBooks/Completed_textfiles/G12_T2/G12_T2.pdf_dirtextfiles_validation/71_G12_T2.pdf.txt' has been created.\n",
            "Output file '/content/drive/MyDrive/QCRI/ArabicTextSimplification_QCRI_Internship/Qatar_Curriculum_Books/ArabicBooks/Completed_textfiles/G12_T2/G12_T2.pdf_dirtextfiles_validation/72_G12_T2.pdf.txt' has been created.\n",
            "Output file '/content/drive/MyDrive/QCRI/ArabicTextSimplification_QCRI_Internship/Qatar_Curriculum_Books/ArabicBooks/Completed_textfiles/G12_T2/G12_T2.pdf_dirtextfiles_validation/73_G12_T2.pdf.txt' has been created.\n",
            "Output file '/content/drive/MyDrive/QCRI/ArabicTextSimplification_QCRI_Internship/Qatar_Curriculum_Books/ArabicBooks/Completed_textfiles/G12_T2/G12_T2.pdf_dirtextfiles_validation/74_G12_T2.pdf.txt' has been created.\n",
            "Output file '/content/drive/MyDrive/QCRI/ArabicTextSimplification_QCRI_Internship/Qatar_Curriculum_Books/ArabicBooks/Completed_textfiles/G12_T2/G12_T2.pdf_dirtextfiles_validation/75_G12_T2.pdf.txt' has been created.\n",
            "Output file '/content/drive/MyDrive/QCRI/ArabicTextSimplification_QCRI_Internship/Qatar_Curriculum_Books/ArabicBooks/Completed_textfiles/G12_T2/G12_T2.pdf_dirtextfiles_validation/76_G12_T2.pdf.txt' has been created.\n",
            "Output file '/content/drive/MyDrive/QCRI/ArabicTextSimplification_QCRI_Internship/Qatar_Curriculum_Books/ArabicBooks/Completed_textfiles/G12_T2/G12_T2.pdf_dirtextfiles_validation/77_G12_T2.pdf.txt' has been created.\n",
            "Output file '/content/drive/MyDrive/QCRI/ArabicTextSimplification_QCRI_Internship/Qatar_Curriculum_Books/ArabicBooks/Completed_textfiles/G12_T2/G12_T2.pdf_dirtextfiles_validation/78_G12_T2.pdf.txt' has been created.\n",
            "Output file '/content/drive/MyDrive/QCRI/ArabicTextSimplification_QCRI_Internship/Qatar_Curriculum_Books/ArabicBooks/Completed_textfiles/G12_T2/G12_T2.pdf_dirtextfiles_validation/79_G12_T2.pdf.txt' has been created.\n",
            "Output file '/content/drive/MyDrive/QCRI/ArabicTextSimplification_QCRI_Internship/Qatar_Curriculum_Books/ArabicBooks/Completed_textfiles/G12_T2/G12_T2.pdf_dirtextfiles_validation/80_G12_T2.pdf.txt' has been created.\n",
            "Output file '/content/drive/MyDrive/QCRI/ArabicTextSimplification_QCRI_Internship/Qatar_Curriculum_Books/ArabicBooks/Completed_textfiles/G12_T2/G12_T2.pdf_dirtextfiles_validation/81_G12_T2.pdf.txt' has been created.\n",
            "Output file '/content/drive/MyDrive/QCRI/ArabicTextSimplification_QCRI_Internship/Qatar_Curriculum_Books/ArabicBooks/Completed_textfiles/G12_T2/G12_T2.pdf_dirtextfiles_validation/82_G12_T2.pdf.txt' has been created.\n",
            "Output file '/content/drive/MyDrive/QCRI/ArabicTextSimplification_QCRI_Internship/Qatar_Curriculum_Books/ArabicBooks/Completed_textfiles/G12_T2/G12_T2.pdf_dirtextfiles_validation/83_G12_T2.pdf.txt' has been created.\n",
            "Output file '/content/drive/MyDrive/QCRI/ArabicTextSimplification_QCRI_Internship/Qatar_Curriculum_Books/ArabicBooks/Completed_textfiles/G12_T2/G12_T2.pdf_dirtextfiles_validation/84_G12_T2.pdf.txt' has been created.\n",
            "Output file '/content/drive/MyDrive/QCRI/ArabicTextSimplification_QCRI_Internship/Qatar_Curriculum_Books/ArabicBooks/Completed_textfiles/G12_T2/G12_T2.pdf_dirtextfiles_validation/85_G12_T2.pdf.txt' has been created.\n",
            "Output file '/content/drive/MyDrive/QCRI/ArabicTextSimplification_QCRI_Internship/Qatar_Curriculum_Books/ArabicBooks/Completed_textfiles/G12_T2/G12_T2.pdf_dirtextfiles_validation/86_G12_T2.pdf.txt' has been created.\n",
            "Output file '/content/drive/MyDrive/QCRI/ArabicTextSimplification_QCRI_Internship/Qatar_Curriculum_Books/ArabicBooks/Completed_textfiles/G12_T2/G12_T2.pdf_dirtextfiles_validation/87_G12_T2.pdf.txt' has been created.\n",
            "Output file '/content/drive/MyDrive/QCRI/ArabicTextSimplification_QCRI_Internship/Qatar_Curriculum_Books/ArabicBooks/Completed_textfiles/G12_T2/G12_T2.pdf_dirtextfiles_validation/88_G12_T2.pdf.txt' has been created.\n",
            "Output file '/content/drive/MyDrive/QCRI/ArabicTextSimplification_QCRI_Internship/Qatar_Curriculum_Books/ArabicBooks/Completed_textfiles/G12_T2/G12_T2.pdf_dirtextfiles_validation/89_G12_T2.pdf.txt' has been created.\n",
            "Output file '/content/drive/MyDrive/QCRI/ArabicTextSimplification_QCRI_Internship/Qatar_Curriculum_Books/ArabicBooks/Completed_textfiles/G12_T2/G12_T2.pdf_dirtextfiles_validation/90_G12_T2.pdf.txt' has been created.\n",
            "Output file '/content/drive/MyDrive/QCRI/ArabicTextSimplification_QCRI_Internship/Qatar_Curriculum_Books/ArabicBooks/Completed_textfiles/G12_T2/G12_T2.pdf_dirtextfiles_validation/91_G12_T2.pdf.txt' has been created.\n",
            "Output file '/content/drive/MyDrive/QCRI/ArabicTextSimplification_QCRI_Internship/Qatar_Curriculum_Books/ArabicBooks/Completed_textfiles/G12_T2/G12_T2.pdf_dirtextfiles_validation/92_G12_T2.pdf.txt' has been created.\n",
            "Output file '/content/drive/MyDrive/QCRI/ArabicTextSimplification_QCRI_Internship/Qatar_Curriculum_Books/ArabicBooks/Completed_textfiles/G12_T2/G12_T2.pdf_dirtextfiles_validation/93_G12_T2.pdf.txt' has been created.\n",
            "Output file '/content/drive/MyDrive/QCRI/ArabicTextSimplification_QCRI_Internship/Qatar_Curriculum_Books/ArabicBooks/Completed_textfiles/G12_T2/G12_T2.pdf_dirtextfiles_validation/94_G12_T2.pdf.txt' has been created.\n",
            "Output file '/content/drive/MyDrive/QCRI/ArabicTextSimplification_QCRI_Internship/Qatar_Curriculum_Books/ArabicBooks/Completed_textfiles/G12_T2/G12_T2.pdf_dirtextfiles_validation/95_G12_T2.pdf.txt' has been created.\n",
            "Output file '/content/drive/MyDrive/QCRI/ArabicTextSimplification_QCRI_Internship/Qatar_Curriculum_Books/ArabicBooks/Completed_textfiles/G12_T2/G12_T2.pdf_dirtextfiles_validation/96_G12_T2.pdf.txt' has been created.\n",
            "Output file '/content/drive/MyDrive/QCRI/ArabicTextSimplification_QCRI_Internship/Qatar_Curriculum_Books/ArabicBooks/Completed_textfiles/G12_T2/G12_T2.pdf_dirtextfiles_validation/97_G12_T2.pdf.txt' has been created.\n",
            "Output file '/content/drive/MyDrive/QCRI/ArabicTextSimplification_QCRI_Internship/Qatar_Curriculum_Books/ArabicBooks/Completed_textfiles/G12_T2/G12_T2.pdf_dirtextfiles_validation/98_G12_T2.pdf.txt' has been created.\n",
            "Output file '/content/drive/MyDrive/QCRI/ArabicTextSimplification_QCRI_Internship/Qatar_Curriculum_Books/ArabicBooks/Completed_textfiles/G12_T2/G12_T2.pdf_dirtextfiles_validation/99_G12_T2.pdf.txt' has been created.\n",
            "Output file '/content/drive/MyDrive/QCRI/ArabicTextSimplification_QCRI_Internship/Qatar_Curriculum_Books/ArabicBooks/Completed_textfiles/G12_T2/G12_T2.pdf_dirtextfiles_validation/100_G12_T2.pdf.txt' has been created.\n",
            "Output file '/content/drive/MyDrive/QCRI/ArabicTextSimplification_QCRI_Internship/Qatar_Curriculum_Books/ArabicBooks/Completed_textfiles/G12_T2/G12_T2.pdf_dirtextfiles_validation/101_G12_T2.pdf.txt' has been created.\n",
            "Output file '/content/drive/MyDrive/QCRI/ArabicTextSimplification_QCRI_Internship/Qatar_Curriculum_Books/ArabicBooks/Completed_textfiles/G12_T2/G12_T2.pdf_dirtextfiles_validation/102_G12_T2.pdf.txt' has been created.\n",
            "Output file '/content/drive/MyDrive/QCRI/ArabicTextSimplification_QCRI_Internship/Qatar_Curriculum_Books/ArabicBooks/Completed_textfiles/G12_T2/G12_T2.pdf_dirtextfiles_validation/103_G12_T2.pdf.txt' has been created.\n",
            "Output file '/content/drive/MyDrive/QCRI/ArabicTextSimplification_QCRI_Internship/Qatar_Curriculum_Books/ArabicBooks/Completed_textfiles/G12_T2/G12_T2.pdf_dirtextfiles_validation/104_G12_T2.pdf.txt' has been created.\n",
            "Output file '/content/drive/MyDrive/QCRI/ArabicTextSimplification_QCRI_Internship/Qatar_Curriculum_Books/ArabicBooks/Completed_textfiles/G12_T2/G12_T2.pdf_dirtextfiles_validation/105_G12_T2.pdf.txt' has been created.\n",
            "Output file '/content/drive/MyDrive/QCRI/ArabicTextSimplification_QCRI_Internship/Qatar_Curriculum_Books/ArabicBooks/Completed_textfiles/G12_T2/G12_T2.pdf_dirtextfiles_validation/106_G12_T2.pdf.txt' has been created.\n",
            "Output file '/content/drive/MyDrive/QCRI/ArabicTextSimplification_QCRI_Internship/Qatar_Curriculum_Books/ArabicBooks/Completed_textfiles/G12_T2/G12_T2.pdf_dirtextfiles_validation/107_G12_T2.pdf.txt' has been created.\n",
            "Output file '/content/drive/MyDrive/QCRI/ArabicTextSimplification_QCRI_Internship/Qatar_Curriculum_Books/ArabicBooks/Completed_textfiles/G12_T2/G12_T2.pdf_dirtextfiles_validation/108_G12_T2.pdf.txt' has been created.\n",
            "Output file '/content/drive/MyDrive/QCRI/ArabicTextSimplification_QCRI_Internship/Qatar_Curriculum_Books/ArabicBooks/Completed_textfiles/G12_T2/G12_T2.pdf_dirtextfiles_validation/109_G12_T2.pdf.txt' has been created.\n",
            "Output file '/content/drive/MyDrive/QCRI/ArabicTextSimplification_QCRI_Internship/Qatar_Curriculum_Books/ArabicBooks/Completed_textfiles/G12_T2/G12_T2.pdf_dirtextfiles_validation/110_G12_T2.pdf.txt' has been created.\n",
            "Output file '/content/drive/MyDrive/QCRI/ArabicTextSimplification_QCRI_Internship/Qatar_Curriculum_Books/ArabicBooks/Completed_textfiles/G12_T2/G12_T2.pdf_dirtextfiles_validation/111_G12_T2.pdf.txt' has been created.\n",
            "Output file '/content/drive/MyDrive/QCRI/ArabicTextSimplification_QCRI_Internship/Qatar_Curriculum_Books/ArabicBooks/Completed_textfiles/G12_T2/G12_T2.pdf_dirtextfiles_validation/112_G12_T2.pdf.txt' has been created.\n",
            "Output file '/content/drive/MyDrive/QCRI/ArabicTextSimplification_QCRI_Internship/Qatar_Curriculum_Books/ArabicBooks/Completed_textfiles/G12_T2/G12_T2.pdf_dirtextfiles_validation/113_G12_T2.pdf.txt' has been created.\n",
            "Output file '/content/drive/MyDrive/QCRI/ArabicTextSimplification_QCRI_Internship/Qatar_Curriculum_Books/ArabicBooks/Completed_textfiles/G12_T2/G12_T2.pdf_dirtextfiles_validation/114_G12_T2.pdf.txt' has been created.\n",
            "Output file '/content/drive/MyDrive/QCRI/ArabicTextSimplification_QCRI_Internship/Qatar_Curriculum_Books/ArabicBooks/Completed_textfiles/G12_T2/G12_T2.pdf_dirtextfiles_validation/115_G12_T2.pdf.txt' has been created.\n",
            "Output file '/content/drive/MyDrive/QCRI/ArabicTextSimplification_QCRI_Internship/Qatar_Curriculum_Books/ArabicBooks/Completed_textfiles/G12_T2/G12_T2.pdf_dirtextfiles_validation/116_G12_T2.pdf.txt' has been created.\n",
            "Output file '/content/drive/MyDrive/QCRI/ArabicTextSimplification_QCRI_Internship/Qatar_Curriculum_Books/ArabicBooks/Completed_textfiles/G12_T2/G12_T2.pdf_dirtextfiles_validation/117_G12_T2.pdf.txt' has been created.\n",
            "Output file '/content/drive/MyDrive/QCRI/ArabicTextSimplification_QCRI_Internship/Qatar_Curriculum_Books/ArabicBooks/Completed_textfiles/G12_T2/G12_T2.pdf_dirtextfiles_validation/118_G12_T2.pdf.txt' has been created.\n",
            "Output file '/content/drive/MyDrive/QCRI/ArabicTextSimplification_QCRI_Internship/Qatar_Curriculum_Books/ArabicBooks/Completed_textfiles/G12_T2/G12_T2.pdf_dirtextfiles_validation/119_G12_T2.pdf.txt' has been created.\n",
            "Output file '/content/drive/MyDrive/QCRI/ArabicTextSimplification_QCRI_Internship/Qatar_Curriculum_Books/ArabicBooks/Completed_textfiles/G12_T2/G12_T2.pdf_dirtextfiles_validation/120_G12_T2.pdf.txt' has been created.\n",
            "Output file '/content/drive/MyDrive/QCRI/ArabicTextSimplification_QCRI_Internship/Qatar_Curriculum_Books/ArabicBooks/Completed_textfiles/G12_T2/G12_T2.pdf_dirtextfiles_validation/121_G12_T2.pdf.txt' has been created.\n",
            "Output file '/content/drive/MyDrive/QCRI/ArabicTextSimplification_QCRI_Internship/Qatar_Curriculum_Books/ArabicBooks/Completed_textfiles/G12_T2/G12_T2.pdf_dirtextfiles_validation/122_G12_T2.pdf.txt' has been created.\n",
            "Output file '/content/drive/MyDrive/QCRI/ArabicTextSimplification_QCRI_Internship/Qatar_Curriculum_Books/ArabicBooks/Completed_textfiles/G12_T2/G12_T2.pdf_dirtextfiles_validation/123_G12_T2.pdf.txt' has been created.\n",
            "Output file '/content/drive/MyDrive/QCRI/ArabicTextSimplification_QCRI_Internship/Qatar_Curriculum_Books/ArabicBooks/Completed_textfiles/G12_T2/G12_T2.pdf_dirtextfiles_validation/124_G12_T2.pdf.txt' has been created.\n",
            "Output file '/content/drive/MyDrive/QCRI/ArabicTextSimplification_QCRI_Internship/Qatar_Curriculum_Books/ArabicBooks/Completed_textfiles/G12_T2/G12_T2.pdf_dirtextfiles_validation/125_G12_T2.pdf.txt' has been created.\n",
            "Output file '/content/drive/MyDrive/QCRI/ArabicTextSimplification_QCRI_Internship/Qatar_Curriculum_Books/ArabicBooks/Completed_textfiles/G12_T2/G12_T2.pdf_dirtextfiles_validation/126_G12_T2.pdf.txt' has been created.\n",
            "Output file '/content/drive/MyDrive/QCRI/ArabicTextSimplification_QCRI_Internship/Qatar_Curriculum_Books/ArabicBooks/Completed_textfiles/G12_T2/G12_T2.pdf_dirtextfiles_validation/127_G12_T2.pdf.txt' has been created.\n",
            "Output file '/content/drive/MyDrive/QCRI/ArabicTextSimplification_QCRI_Internship/Qatar_Curriculum_Books/ArabicBooks/Completed_textfiles/G12_T2/G12_T2.pdf_dirtextfiles_validation/128_G12_T2.pdf.txt' has been created.\n",
            "Output file '/content/drive/MyDrive/QCRI/ArabicTextSimplification_QCRI_Internship/Qatar_Curriculum_Books/ArabicBooks/Completed_textfiles/G12_T2/G12_T2.pdf_dirtextfiles_validation/129_G12_T2.pdf.txt' has been created.\n",
            "Output file '/content/drive/MyDrive/QCRI/ArabicTextSimplification_QCRI_Internship/Qatar_Curriculum_Books/ArabicBooks/Completed_textfiles/G12_T2/G12_T2.pdf_dirtextfiles_validation/130_G12_T2.pdf.txt' has been created.\n",
            "Output file '/content/drive/MyDrive/QCRI/ArabicTextSimplification_QCRI_Internship/Qatar_Curriculum_Books/ArabicBooks/Completed_textfiles/G12_T2/G12_T2.pdf_dirtextfiles_validation/131_G12_T2.pdf.txt' has been created.\n",
            "Output file '/content/drive/MyDrive/QCRI/ArabicTextSimplification_QCRI_Internship/Qatar_Curriculum_Books/ArabicBooks/Completed_textfiles/G12_T2/G12_T2.pdf_dirtextfiles_validation/132_G12_T2.pdf.txt' has been created.\n",
            "Output file '/content/drive/MyDrive/QCRI/ArabicTextSimplification_QCRI_Internship/Qatar_Curriculum_Books/ArabicBooks/Completed_textfiles/G12_T2/G12_T2.pdf_dirtextfiles_validation/133_G12_T2.pdf.txt' has been created.\n",
            "Output file '/content/drive/MyDrive/QCRI/ArabicTextSimplification_QCRI_Internship/Qatar_Curriculum_Books/ArabicBooks/Completed_textfiles/G12_T2/G12_T2.pdf_dirtextfiles_validation/134_G12_T2.pdf.txt' has been created.\n",
            "Output file '/content/drive/MyDrive/QCRI/ArabicTextSimplification_QCRI_Internship/Qatar_Curriculum_Books/ArabicBooks/Completed_textfiles/G12_T2/G12_T2.pdf_dirtextfiles_validation/135_G12_T2.pdf.txt' has been created.\n",
            "Output file '/content/drive/MyDrive/QCRI/ArabicTextSimplification_QCRI_Internship/Qatar_Curriculum_Books/ArabicBooks/Completed_textfiles/G12_T2/G12_T2.pdf_dirtextfiles_validation/136_G12_T2.pdf.txt' has been created.\n",
            "Output file '/content/drive/MyDrive/QCRI/ArabicTextSimplification_QCRI_Internship/Qatar_Curriculum_Books/ArabicBooks/Completed_textfiles/G12_T2/G12_T2.pdf_dirtextfiles_validation/137_G12_T2.pdf.txt' has been created.\n",
            "Output file '/content/drive/MyDrive/QCRI/ArabicTextSimplification_QCRI_Internship/Qatar_Curriculum_Books/ArabicBooks/Completed_textfiles/G12_T2/G12_T2.pdf_dirtextfiles_validation/138_G12_T2.pdf.txt' has been created.\n",
            "Output file '/content/drive/MyDrive/QCRI/ArabicTextSimplification_QCRI_Internship/Qatar_Curriculum_Books/ArabicBooks/Completed_textfiles/G12_T2/G12_T2.pdf_dirtextfiles_validation/139_G12_T2.pdf.txt' has been created.\n",
            "Output file '/content/drive/MyDrive/QCRI/ArabicTextSimplification_QCRI_Internship/Qatar_Curriculum_Books/ArabicBooks/Completed_textfiles/G12_T2/G12_T2.pdf_dirtextfiles_validation/140_G12_T2.pdf.txt' has been created.\n",
            "Output file '/content/drive/MyDrive/QCRI/ArabicTextSimplification_QCRI_Internship/Qatar_Curriculum_Books/ArabicBooks/Completed_textfiles/G12_T2/G12_T2.pdf_dirtextfiles_validation/141_G12_T2.pdf.txt' has been created.\n",
            "Output file '/content/drive/MyDrive/QCRI/ArabicTextSimplification_QCRI_Internship/Qatar_Curriculum_Books/ArabicBooks/Completed_textfiles/G12_T2/G12_T2.pdf_dirtextfiles_validation/142_G12_T2.pdf.txt' has been created.\n",
            "Output file '/content/drive/MyDrive/QCRI/ArabicTextSimplification_QCRI_Internship/Qatar_Curriculum_Books/ArabicBooks/Completed_textfiles/G12_T2/G12_T2.pdf_dirtextfiles_validation/143_G12_T2.pdf.txt' has been created.\n",
            "Output file '/content/drive/MyDrive/QCRI/ArabicTextSimplification_QCRI_Internship/Qatar_Curriculum_Books/ArabicBooks/Completed_textfiles/G12_T2/G12_T2.pdf_dirtextfiles_validation/144_G12_T2.pdf.txt' has been created.\n",
            "Output file '/content/drive/MyDrive/QCRI/ArabicTextSimplification_QCRI_Internship/Qatar_Curriculum_Books/ArabicBooks/Completed_textfiles/G12_T2/G12_T2.pdf_dirtextfiles_validation/145_G12_T2.pdf.txt' has been created.\n",
            "Output file '/content/drive/MyDrive/QCRI/ArabicTextSimplification_QCRI_Internship/Qatar_Curriculum_Books/ArabicBooks/Completed_textfiles/G12_T2/G12_T2.pdf_dirtextfiles_validation/146_G12_T2.pdf.txt' has been created.\n",
            "Output file '/content/drive/MyDrive/QCRI/ArabicTextSimplification_QCRI_Internship/Qatar_Curriculum_Books/ArabicBooks/Completed_textfiles/G12_T2/G12_T2.pdf_dirtextfiles_validation/147_G12_T2.pdf.txt' has been created.\n",
            "Output file '/content/drive/MyDrive/QCRI/ArabicTextSimplification_QCRI_Internship/Qatar_Curriculum_Books/ArabicBooks/Completed_textfiles/G12_T2/G12_T2.pdf_dirtextfiles_validation/148_G12_T2.pdf.txt' has been created.\n",
            "Output file '/content/drive/MyDrive/QCRI/ArabicTextSimplification_QCRI_Internship/Qatar_Curriculum_Books/ArabicBooks/Completed_textfiles/G12_T2/G12_T2.pdf_dirtextfiles_validation/149_G12_T2.pdf.txt' has been created.\n",
            "Output file '/content/drive/MyDrive/QCRI/ArabicTextSimplification_QCRI_Internship/Qatar_Curriculum_Books/ArabicBooks/Completed_textfiles/G12_T2/G12_T2.pdf_dirtextfiles_validation/150_G12_T2.pdf.txt' has been created.\n",
            "Output file '/content/drive/MyDrive/QCRI/ArabicTextSimplification_QCRI_Internship/Qatar_Curriculum_Books/ArabicBooks/Completed_textfiles/G12_T2/G12_T2.pdf_dirtextfiles_validation/151_G12_T2.pdf.txt' has been created.\n",
            "Output file '/content/drive/MyDrive/QCRI/ArabicTextSimplification_QCRI_Internship/Qatar_Curriculum_Books/ArabicBooks/Completed_textfiles/G12_T2/G12_T2.pdf_dirtextfiles_validation/152_G12_T2.pdf.txt' has been created.\n",
            "Output file '/content/drive/MyDrive/QCRI/ArabicTextSimplification_QCRI_Internship/Qatar_Curriculum_Books/ArabicBooks/Completed_textfiles/G12_T2/G12_T2.pdf_dirtextfiles_validation/153_G12_T2.pdf.txt' has been created.\n",
            "Output file '/content/drive/MyDrive/QCRI/ArabicTextSimplification_QCRI_Internship/Qatar_Curriculum_Books/ArabicBooks/Completed_textfiles/G12_T2/G12_T2.pdf_dirtextfiles_validation/154_G12_T2.pdf.txt' has been created.\n",
            "Output file '/content/drive/MyDrive/QCRI/ArabicTextSimplification_QCRI_Internship/Qatar_Curriculum_Books/ArabicBooks/Completed_textfiles/G12_T2/G12_T2.pdf_dirtextfiles_validation/155_G12_T2.pdf.txt' has been created.\n",
            "Output file '/content/drive/MyDrive/QCRI/ArabicTextSimplification_QCRI_Internship/Qatar_Curriculum_Books/ArabicBooks/Completed_textfiles/G12_T2/G12_T2.pdf_dirtextfiles_validation/156_G12_T2.pdf.txt' has been created.\n",
            "Output file '/content/drive/MyDrive/QCRI/ArabicTextSimplification_QCRI_Internship/Qatar_Curriculum_Books/ArabicBooks/Completed_textfiles/G12_T2/G12_T2.pdf_dirtextfiles_validation/157_G12_T2.pdf.txt' has been created.\n",
            "Output file '/content/drive/MyDrive/QCRI/ArabicTextSimplification_QCRI_Internship/Qatar_Curriculum_Books/ArabicBooks/Completed_textfiles/G12_T2/G12_T2.pdf_dirtextfiles_validation/158_G12_T2.pdf.txt' has been created.\n",
            "Output file '/content/drive/MyDrive/QCRI/ArabicTextSimplification_QCRI_Internship/Qatar_Curriculum_Books/ArabicBooks/Completed_textfiles/G12_T2/G12_T2.pdf_dirtextfiles_validation/159_G12_T2.pdf.txt' has been created.\n",
            "Output file '/content/drive/MyDrive/QCRI/ArabicTextSimplification_QCRI_Internship/Qatar_Curriculum_Books/ArabicBooks/Completed_textfiles/G12_T2/G12_T2.pdf_dirtextfiles_validation/160_G12_T2.pdf.txt' has been created.\n",
            "Output file '/content/drive/MyDrive/QCRI/ArabicTextSimplification_QCRI_Internship/Qatar_Curriculum_Books/ArabicBooks/Completed_textfiles/G12_T2/G12_T2.pdf_dirtextfiles_validation/161_G12_T2.pdf.txt' has been created.\n",
            "Output file '/content/drive/MyDrive/QCRI/ArabicTextSimplification_QCRI_Internship/Qatar_Curriculum_Books/ArabicBooks/Completed_textfiles/G12_T2/G12_T2.pdf_dirtextfiles_validation/162_G12_T2.pdf.txt' has been created.\n",
            "Output file '/content/drive/MyDrive/QCRI/ArabicTextSimplification_QCRI_Internship/Qatar_Curriculum_Books/ArabicBooks/Completed_textfiles/G12_T2/G12_T2.pdf_dirtextfiles_validation/163_G12_T2.pdf.txt' has been created.\n",
            "Output file '/content/drive/MyDrive/QCRI/ArabicTextSimplification_QCRI_Internship/Qatar_Curriculum_Books/ArabicBooks/Completed_textfiles/G12_T2/G12_T2.pdf_dirtextfiles_validation/164_G12_T2.pdf.txt' has been created.\n",
            "Output file '/content/drive/MyDrive/QCRI/ArabicTextSimplification_QCRI_Internship/Qatar_Curriculum_Books/ArabicBooks/Completed_textfiles/G12_T2/G12_T2.pdf_dirtextfiles_validation/165_G12_T2.pdf.txt' has been created.\n",
            "Output file '/content/drive/MyDrive/QCRI/ArabicTextSimplification_QCRI_Internship/Qatar_Curriculum_Books/ArabicBooks/Completed_textfiles/G12_T2/G12_T2.pdf_dirtextfiles_validation/166_G12_T2.pdf.txt' has been created.\n",
            "Output file '/content/drive/MyDrive/QCRI/ArabicTextSimplification_QCRI_Internship/Qatar_Curriculum_Books/ArabicBooks/Completed_textfiles/G12_T2/G12_T2.pdf_dirtextfiles_validation/167_G12_T2.pdf.txt' has been created.\n",
            "Output file '/content/drive/MyDrive/QCRI/ArabicTextSimplification_QCRI_Internship/Qatar_Curriculum_Books/ArabicBooks/Completed_textfiles/G12_T2/G12_T2.pdf_dirtextfiles_validation/168_G12_T2.pdf.txt' has been created.\n",
            "Output file '/content/drive/MyDrive/QCRI/ArabicTextSimplification_QCRI_Internship/Qatar_Curriculum_Books/ArabicBooks/Completed_textfiles/G12_T2/G12_T2.pdf_dirtextfiles_validation/169_G12_T2.pdf.txt' has been created.\n",
            "Output file '/content/drive/MyDrive/QCRI/ArabicTextSimplification_QCRI_Internship/Qatar_Curriculum_Books/ArabicBooks/Completed_textfiles/G12_T2/G12_T2.pdf_dirtextfiles_validation/170_G12_T2.pdf.txt' has been created.\n",
            "Output file '/content/drive/MyDrive/QCRI/ArabicTextSimplification_QCRI_Internship/Qatar_Curriculum_Books/ArabicBooks/Completed_textfiles/G12_T2/G12_T2.pdf_dirtextfiles_validation/171_G12_T2.pdf.txt' has been created.\n",
            "Output file '/content/drive/MyDrive/QCRI/ArabicTextSimplification_QCRI_Internship/Qatar_Curriculum_Books/ArabicBooks/Completed_textfiles/G12_T2/G12_T2.pdf_dirtextfiles_validation/172_G12_T2.pdf.txt' has been created.\n",
            "Output file '/content/drive/MyDrive/QCRI/ArabicTextSimplification_QCRI_Internship/Qatar_Curriculum_Books/ArabicBooks/Completed_textfiles/G12_T2/G12_T2.pdf_dirtextfiles_validation/173_G12_T2.pdf.txt' has been created.\n",
            "Output file '/content/drive/MyDrive/QCRI/ArabicTextSimplification_QCRI_Internship/Qatar_Curriculum_Books/ArabicBooks/Completed_textfiles/G12_T2/G12_T2.pdf_dirtextfiles_validation/174_G12_T2.pdf.txt' has been created.\n",
            "Output file '/content/drive/MyDrive/QCRI/ArabicTextSimplification_QCRI_Internship/Qatar_Curriculum_Books/ArabicBooks/Completed_textfiles/G12_T2/G12_T2.pdf_dirtextfiles_validation/175_G12_T2.pdf.txt' has been created.\n",
            "Output file '/content/drive/MyDrive/QCRI/ArabicTextSimplification_QCRI_Internship/Qatar_Curriculum_Books/ArabicBooks/Completed_textfiles/G12_T2/G12_T2.pdf_dirtextfiles_validation/176_G12_T2.pdf.txt' has been created.\n",
            "Output file '/content/drive/MyDrive/QCRI/ArabicTextSimplification_QCRI_Internship/Qatar_Curriculum_Books/ArabicBooks/Completed_textfiles/G12_T2/G12_T2.pdf_dirtextfiles_validation/177_G12_T2.pdf.txt' has been created.\n",
            "Output file '/content/drive/MyDrive/QCRI/ArabicTextSimplification_QCRI_Internship/Qatar_Curriculum_Books/ArabicBooks/Completed_textfiles/G12_T2/G12_T2.pdf_dirtextfiles_validation/178_G12_T2.pdf.txt' has been created.\n",
            "Output file '/content/drive/MyDrive/QCRI/ArabicTextSimplification_QCRI_Internship/Qatar_Curriculum_Books/ArabicBooks/Completed_textfiles/G12_T2/G12_T2.pdf_dirtextfiles_validation/179_G12_T2.pdf.txt' has been created.\n",
            "Output file '/content/drive/MyDrive/QCRI/ArabicTextSimplification_QCRI_Internship/Qatar_Curriculum_Books/ArabicBooks/Completed_textfiles/G12_T2/G12_T2.pdf_dirtextfiles_validation/180_G12_T2.pdf.txt' has been created.\n",
            "Output file '/content/drive/MyDrive/QCRI/ArabicTextSimplification_QCRI_Internship/Qatar_Curriculum_Books/ArabicBooks/Completed_textfiles/G12_T2/G12_T2.pdf_dirtextfiles_validation/181_G12_T2.pdf.txt' has been created.\n",
            "Output file '/content/drive/MyDrive/QCRI/ArabicTextSimplification_QCRI_Internship/Qatar_Curriculum_Books/ArabicBooks/Completed_textfiles/G12_T2/G12_T2.pdf_dirtextfiles_validation/182_G12_T2.pdf.txt' has been created.\n",
            "Output file '/content/drive/MyDrive/QCRI/ArabicTextSimplification_QCRI_Internship/Qatar_Curriculum_Books/ArabicBooks/Completed_textfiles/G12_T2/G12_T2.pdf_dirtextfiles_validation/183_G12_T2.pdf.txt' has been created.\n",
            "Output file '/content/drive/MyDrive/QCRI/ArabicTextSimplification_QCRI_Internship/Qatar_Curriculum_Books/ArabicBooks/Completed_textfiles/G12_T2/G12_T2.pdf_dirtextfiles_validation/184_G12_T2.pdf.txt' has been created.\n",
            "Output file '/content/drive/MyDrive/QCRI/ArabicTextSimplification_QCRI_Internship/Qatar_Curriculum_Books/ArabicBooks/Completed_textfiles/G12_T2/G12_T2.pdf_dirtextfiles_validation/185_G12_T2.pdf.txt' has been created.\n",
            "Output file '/content/drive/MyDrive/QCRI/ArabicTextSimplification_QCRI_Internship/Qatar_Curriculum_Books/ArabicBooks/Completed_textfiles/G12_T2/G12_T2.pdf_dirtextfiles_validation/186_G12_T2.pdf.txt' has been created.\n",
            "Output file '/content/drive/MyDrive/QCRI/ArabicTextSimplification_QCRI_Internship/Qatar_Curriculum_Books/ArabicBooks/Completed_textfiles/G12_T2/G12_T2.pdf_dirtextfiles_validation/187_G12_T2.pdf.txt' has been created.\n",
            "Output file '/content/drive/MyDrive/QCRI/ArabicTextSimplification_QCRI_Internship/Qatar_Curriculum_Books/ArabicBooks/Completed_textfiles/G12_T2/G12_T2.pdf_dirtextfiles_validation/188_G12_T2.pdf.txt' has been created.\n",
            "Output file '/content/drive/MyDrive/QCRI/ArabicTextSimplification_QCRI_Internship/Qatar_Curriculum_Books/ArabicBooks/Completed_textfiles/G12_T2/G12_T2.pdf_dirtextfiles_validation/189_G12_T2.pdf.txt' has been created.\n",
            "Output file '/content/drive/MyDrive/QCRI/ArabicTextSimplification_QCRI_Internship/Qatar_Curriculum_Books/ArabicBooks/Completed_textfiles/G12_T2/G12_T2.pdf_dirtextfiles_validation/190_G12_T2.pdf.txt' has been created.\n",
            "Output file '/content/drive/MyDrive/QCRI/ArabicTextSimplification_QCRI_Internship/Qatar_Curriculum_Books/ArabicBooks/Completed_textfiles/G12_T2/G12_T2.pdf_dirtextfiles_validation/191_G12_T2.pdf.txt' has been created.\n",
            "Output file '/content/drive/MyDrive/QCRI/ArabicTextSimplification_QCRI_Internship/Qatar_Curriculum_Books/ArabicBooks/Completed_textfiles/G12_T2/G12_T2.pdf_dirtextfiles_validation/192_G12_T2.pdf.txt' has been created.\n",
            "Output file '/content/drive/MyDrive/QCRI/ArabicTextSimplification_QCRI_Internship/Qatar_Curriculum_Books/ArabicBooks/Completed_textfiles/G12_T2/G12_T2.pdf_dirtextfiles_validation/193_G12_T2.pdf.txt' has been created.\n",
            "Output file '/content/drive/MyDrive/QCRI/ArabicTextSimplification_QCRI_Internship/Qatar_Curriculum_Books/ArabicBooks/Completed_textfiles/G12_T2/G12_T2.pdf_dirtextfiles_validation/194_G12_T2.pdf.txt' has been created.\n",
            "Output file '/content/drive/MyDrive/QCRI/ArabicTextSimplification_QCRI_Internship/Qatar_Curriculum_Books/ArabicBooks/Completed_textfiles/G12_T2/G12_T2.pdf_dirtextfiles_validation/195_G12_T2.pdf.txt' has been created.\n",
            "Output file '/content/drive/MyDrive/QCRI/ArabicTextSimplification_QCRI_Internship/Qatar_Curriculum_Books/ArabicBooks/Completed_textfiles/G12_T2/G12_T2.pdf_dirtextfiles_validation/196_G12_T2.pdf.txt' has been created.\n",
            "Output file '/content/drive/MyDrive/QCRI/ArabicTextSimplification_QCRI_Internship/Qatar_Curriculum_Books/ArabicBooks/Completed_textfiles/G12_T2/G12_T2.pdf_dirtextfiles_validation/197_G12_T2.pdf.txt' has been created.\n",
            "Output file '/content/drive/MyDrive/QCRI/ArabicTextSimplification_QCRI_Internship/Qatar_Curriculum_Books/ArabicBooks/Completed_textfiles/G12_T2/G12_T2.pdf_dirtextfiles_validation/198_G12_T2.pdf.txt' has been created.\n",
            "Output file '/content/drive/MyDrive/QCRI/ArabicTextSimplification_QCRI_Internship/Qatar_Curriculum_Books/ArabicBooks/Completed_textfiles/G12_T2/G12_T2.pdf_dirtextfiles_validation/199_G12_T2.pdf.txt' has been created.\n",
            "Output file '/content/drive/MyDrive/QCRI/ArabicTextSimplification_QCRI_Internship/Qatar_Curriculum_Books/ArabicBooks/Completed_textfiles/G12_T2/G12_T2.pdf_dirtextfiles_validation/200_G12_T2.pdf.txt' has been created.\n",
            "Output file '/content/drive/MyDrive/QCRI/ArabicTextSimplification_QCRI_Internship/Qatar_Curriculum_Books/ArabicBooks/Completed_textfiles/G12_T2/G12_T2.pdf_dirtextfiles_validation/201_G12_T2.pdf.txt' has been created.\n",
            "Output file '/content/drive/MyDrive/QCRI/ArabicTextSimplification_QCRI_Internship/Qatar_Curriculum_Books/ArabicBooks/Completed_textfiles/G12_T2/G12_T2.pdf_dirtextfiles_validation/202_G12_T2.pdf.txt' has been created.\n",
            "Output file '/content/drive/MyDrive/QCRI/ArabicTextSimplification_QCRI_Internship/Qatar_Curriculum_Books/ArabicBooks/Completed_textfiles/G12_T2/G12_T2.pdf_dirtextfiles_validation/203_G12_T2.pdf.txt' has been created.\n",
            "Output file '/content/drive/MyDrive/QCRI/ArabicTextSimplification_QCRI_Internship/Qatar_Curriculum_Books/ArabicBooks/Completed_textfiles/G12_T2/G12_T2.pdf_dirtextfiles_validation/204_G12_T2.pdf.txt' has been created.\n",
            "Output file '/content/drive/MyDrive/QCRI/ArabicTextSimplification_QCRI_Internship/Qatar_Curriculum_Books/ArabicBooks/Completed_textfiles/G12_T2/G12_T2.pdf_dirtextfiles_validation/205_G12_T2.pdf.txt' has been created.\n",
            "Output file '/content/drive/MyDrive/QCRI/ArabicTextSimplification_QCRI_Internship/Qatar_Curriculum_Books/ArabicBooks/Completed_textfiles/G12_T2/G12_T2.pdf_dirtextfiles_validation/206_G12_T2.pdf.txt' has been created.\n",
            "Output file '/content/drive/MyDrive/QCRI/ArabicTextSimplification_QCRI_Internship/Qatar_Curriculum_Books/ArabicBooks/Completed_textfiles/G12_T2/G12_T2.pdf_dirtextfiles_validation/207_G12_T2.pdf.txt' has been created.\n",
            "Output file '/content/drive/MyDrive/QCRI/ArabicTextSimplification_QCRI_Internship/Qatar_Curriculum_Books/ArabicBooks/Completed_textfiles/G12_T2/G12_T2.pdf_dirtextfiles_validation/208_G12_T2.pdf.txt' has been created.\n",
            "Output file '/content/drive/MyDrive/QCRI/ArabicTextSimplification_QCRI_Internship/Qatar_Curriculum_Books/ArabicBooks/Completed_textfiles/G12_T2/G12_T2.pdf_dirtextfiles_validation/209_G12_T2.pdf.txt' has been created.\n",
            "Output file '/content/drive/MyDrive/QCRI/ArabicTextSimplification_QCRI_Internship/Qatar_Curriculum_Books/ArabicBooks/Completed_textfiles/G12_T2/G12_T2.pdf_dirtextfiles_validation/210_G12_T2.pdf.txt' has been created.\n",
            "Output file '/content/drive/MyDrive/QCRI/ArabicTextSimplification_QCRI_Internship/Qatar_Curriculum_Books/ArabicBooks/Completed_textfiles/G12_T2/G12_T2.pdf_dirtextfiles_validation/211_G12_T2.pdf.txt' has been created.\n",
            "Output file '/content/drive/MyDrive/QCRI/ArabicTextSimplification_QCRI_Internship/Qatar_Curriculum_Books/ArabicBooks/Completed_textfiles/G12_T2/G12_T2.pdf_dirtextfiles_validation/212_G12_T2.pdf.txt' has been created.\n",
            "Output file '/content/drive/MyDrive/QCRI/ArabicTextSimplification_QCRI_Internship/Qatar_Curriculum_Books/ArabicBooks/Completed_textfiles/G12_T2/G12_T2.pdf_dirtextfiles_validation/213_G12_T2.pdf.txt' has been created.\n",
            "Output file '/content/drive/MyDrive/QCRI/ArabicTextSimplification_QCRI_Internship/Qatar_Curriculum_Books/ArabicBooks/Completed_textfiles/G12_T2/G12_T2.pdf_dirtextfiles_validation/214_G12_T2.pdf.txt' has been created.\n",
            "Output file '/content/drive/MyDrive/QCRI/ArabicTextSimplification_QCRI_Internship/Qatar_Curriculum_Books/ArabicBooks/Completed_textfiles/G12_T2/G12_T2.pdf_dirtextfiles_validation/215_G12_T2.pdf.txt' has been created.\n",
            "Output file '/content/drive/MyDrive/QCRI/ArabicTextSimplification_QCRI_Internship/Qatar_Curriculum_Books/ArabicBooks/Completed_textfiles/G12_T2/G12_T2.pdf_dirtextfiles_validation/216_G12_T2.pdf.txt' has been created.\n",
            "Output file '/content/drive/MyDrive/QCRI/ArabicTextSimplification_QCRI_Internship/Qatar_Curriculum_Books/ArabicBooks/Completed_textfiles/G12_T2/G12_T2.pdf_dirtextfiles_validation/217_G12_T2.pdf.txt' has been created.\n",
            "Output file '/content/drive/MyDrive/QCRI/ArabicTextSimplification_QCRI_Internship/Qatar_Curriculum_Books/ArabicBooks/Completed_textfiles/G12_T2/G12_T2.pdf_dirtextfiles_validation/218_G12_T2.pdf.txt' has been created.\n",
            "Output file '/content/drive/MyDrive/QCRI/ArabicTextSimplification_QCRI_Internship/Qatar_Curriculum_Books/ArabicBooks/Completed_textfiles/G12_T2/G12_T2.pdf_dirtextfiles_validation/219_G12_T2.pdf.txt' has been created.\n",
            "Output file '/content/drive/MyDrive/QCRI/ArabicTextSimplification_QCRI_Internship/Qatar_Curriculum_Books/ArabicBooks/Completed_textfiles/G12_T2/G12_T2.pdf_dirtextfiles_validation/220_G12_T2.pdf.txt' has been created.\n",
            "Output file '/content/drive/MyDrive/QCRI/ArabicTextSimplification_QCRI_Internship/Qatar_Curriculum_Books/ArabicBooks/Completed_textfiles/G12_T2/G12_T2.pdf_dirtextfiles_validation/221_G12_T2.pdf.txt' has been created.\n",
            "Output file '/content/drive/MyDrive/QCRI/ArabicTextSimplification_QCRI_Internship/Qatar_Curriculum_Books/ArabicBooks/Completed_textfiles/G12_T2/G12_T2.pdf_dirtextfiles_validation/222_G12_T2.pdf.txt' has been created.\n",
            "Output file '/content/drive/MyDrive/QCRI/ArabicTextSimplification_QCRI_Internship/Qatar_Curriculum_Books/ArabicBooks/Completed_textfiles/G12_T2/G12_T2.pdf_dirtextfiles_validation/223_G12_T2.pdf.txt' has been created.\n",
            "Output file '/content/drive/MyDrive/QCRI/ArabicTextSimplification_QCRI_Internship/Qatar_Curriculum_Books/ArabicBooks/Completed_textfiles/G12_T2/G12_T2.pdf_dirtextfiles_validation/224_G12_T2.pdf.txt' has been created.\n",
            "Output file '/content/drive/MyDrive/QCRI/ArabicTextSimplification_QCRI_Internship/Qatar_Curriculum_Books/ArabicBooks/Completed_textfiles/G12_T2/G12_T2.pdf_dirtextfiles_validation/225_G12_T2.pdf.txt' has been created.\n",
            "Output file '/content/drive/MyDrive/QCRI/ArabicTextSimplification_QCRI_Internship/Qatar_Curriculum_Books/ArabicBooks/Completed_textfiles/G12_T2/G12_T2.pdf_dirtextfiles_validation/226_G12_T2.pdf.txt' has been created.\n",
            "Output file '/content/drive/MyDrive/QCRI/ArabicTextSimplification_QCRI_Internship/Qatar_Curriculum_Books/ArabicBooks/Completed_textfiles/G12_T2/G12_T2.pdf_dirtextfiles_validation/227_G12_T2.pdf.txt' has been created.\n",
            "Output file '/content/drive/MyDrive/QCRI/ArabicTextSimplification_QCRI_Internship/Qatar_Curriculum_Books/ArabicBooks/Completed_textfiles/G12_T2/G12_T2.pdf_dirtextfiles_validation/228_G12_T2.pdf.txt' has been created.\n",
            "Output file '/content/drive/MyDrive/QCRI/ArabicTextSimplification_QCRI_Internship/Qatar_Curriculum_Books/ArabicBooks/Completed_textfiles/G12_T2/G12_T2.pdf_dirtextfiles_validation/229_G12_T2.pdf.txt' has been created.\n",
            "Output file '/content/drive/MyDrive/QCRI/ArabicTextSimplification_QCRI_Internship/Qatar_Curriculum_Books/ArabicBooks/Completed_textfiles/G12_T2/G12_T2.pdf_dirtextfiles_validation/230_G12_T2.pdf.txt' has been created.\n",
            "Output file '/content/drive/MyDrive/QCRI/ArabicTextSimplification_QCRI_Internship/Qatar_Curriculum_Books/ArabicBooks/Completed_textfiles/G12_T2/G12_T2.pdf_dirtextfiles_validation/231_G12_T2.pdf.txt' has been created.\n",
            "Output file '/content/drive/MyDrive/QCRI/ArabicTextSimplification_QCRI_Internship/Qatar_Curriculum_Books/ArabicBooks/Completed_textfiles/G12_T2/G12_T2.pdf_dirtextfiles_validation/232_G12_T2.pdf.txt' has been created.\n",
            "Output file '/content/drive/MyDrive/QCRI/ArabicTextSimplification_QCRI_Internship/Qatar_Curriculum_Books/ArabicBooks/Completed_textfiles/G12_T2/G12_T2.pdf_dirtextfiles_validation/233_G12_T2.pdf.txt' has been created.\n",
            "Output file '/content/drive/MyDrive/QCRI/ArabicTextSimplification_QCRI_Internship/Qatar_Curriculum_Books/ArabicBooks/Completed_textfiles/G12_T2/G12_T2.pdf_dirtextfiles_validation/234_G12_T2.pdf.txt' has been created.\n",
            "Output file '/content/drive/MyDrive/QCRI/ArabicTextSimplification_QCRI_Internship/Qatar_Curriculum_Books/ArabicBooks/Completed_textfiles/G12_T2/G12_T2.pdf_dirtextfiles_validation/235_G12_T2.pdf.txt' has been created.\n",
            "Output file '/content/drive/MyDrive/QCRI/ArabicTextSimplification_QCRI_Internship/Qatar_Curriculum_Books/ArabicBooks/Completed_textfiles/G12_T2/G12_T2.pdf_dirtextfiles_validation/236_G12_T2.pdf.txt' has been created.\n",
            "Output file '/content/drive/MyDrive/QCRI/ArabicTextSimplification_QCRI_Internship/Qatar_Curriculum_Books/ArabicBooks/Completed_textfiles/G12_T2/G12_T2.pdf_dirtextfiles_validation/237_G12_T2.pdf.txt' has been created.\n",
            "Output file '/content/drive/MyDrive/QCRI/ArabicTextSimplification_QCRI_Internship/Qatar_Curriculum_Books/ArabicBooks/Completed_textfiles/G12_T2/G12_T2.pdf_dirtextfiles_validation/238_G12_T2.pdf.txt' has been created.\n",
            "Output file '/content/drive/MyDrive/QCRI/ArabicTextSimplification_QCRI_Internship/Qatar_Curriculum_Books/ArabicBooks/Completed_textfiles/G12_T2/G12_T2.pdf_dirtextfiles_validation/239_G12_T2.pdf.txt' has been created.\n",
            "Output file '/content/drive/MyDrive/QCRI/ArabicTextSimplification_QCRI_Internship/Qatar_Curriculum_Books/ArabicBooks/Completed_textfiles/G12_T2/G12_T2.pdf_dirtextfiles_validation/240_G12_T2.pdf.txt' has been created.\n",
            "Output file '/content/drive/MyDrive/QCRI/ArabicTextSimplification_QCRI_Internship/Qatar_Curriculum_Books/ArabicBooks/Completed_textfiles/G12_T2/G12_T2.pdf_dirtextfiles_validation/241_G12_T2.pdf.txt' has been created.\n",
            "Output file '/content/drive/MyDrive/QCRI/ArabicTextSimplification_QCRI_Internship/Qatar_Curriculum_Books/ArabicBooks/Completed_textfiles/G12_T2/G12_T2.pdf_dirtextfiles_validation/242_G12_T2.pdf.txt' has been created.\n",
            "Output file '/content/drive/MyDrive/QCRI/ArabicTextSimplification_QCRI_Internship/Qatar_Curriculum_Books/ArabicBooks/Completed_textfiles/G12_T2/G12_T2.pdf_dirtextfiles_validation/243_G12_T2.pdf.txt' has been created.\n"
          ]
        }
      ],
      "source": [
        "import difflib\n",
        "import Levenshtein\n",
        "import re\n",
        "import os\n",
        "\n",
        "def is_valid_arabic_sentence(sentence):\n",
        "    # Calculate the number of errors\n",
        "    spellchecked_org = (the_spell_check_experience(sentence)).rstrip()\n",
        "    sentence = remove_diacritics(sentence)\n",
        "    sentence = remove_punctuation(sentence)\n",
        "    #spellchecked = farasa_functions(\"spellcheck\", sentence)\n",
        "    spellchecked= the_spell_check_experience(sentence)\n",
        "\n",
        "    sentence_words = re.findall(r'\\b\\w+\\b', sentence)\n",
        "    spellchecked_words = re.findall(r'\\b\\w+\\b', spellchecked)\n",
        "    word_errors = sum(1 for word1, word2 in zip(sentence_words, spellchecked_words) if word1 != word2)\n",
        "    sentence_words = re.findall(r'\\b\\w+\\b', sentence)\n",
        "    # Calculate the percentage of correct words\n",
        "    word_count = len(sentence_words)\n",
        "    if word_count == 0:\n",
        "        return False, \"\"\n",
        "    incorrect_word_percentage = (word_errors) / word_count * 100\n",
        "    short_word_count = sum(len(word) <= 3 for word in sentence_words)\n",
        "    short_word_percentage = (short_word_count / len(sentence_words)) * 100\n",
        "\n",
        "    # Check if the sentence meets the conditions\n",
        "    if len(sentence_words) > 4 and  short_word_percentage < 50 and word_errors / word_count <= 0.2:\n",
        "        return True, spellchecked_org\n",
        "    else:\n",
        "        return False, \"\"\n",
        "\n",
        "\n",
        "files= [\"1_G06_T1.pdf.txt\", \"13_G06_T1.pdf.txt\", \"54_G06_T1.pdf.txt\", \"61_G06_T1.pdf.txt\", \"88_G06_T1.pdf.txt\",\n",
        "        \"102_G06_T1.pdf.txt\", \"105_G06_T1.pdf.txt\", \"116_G06_T1.pdf.txt\", \"126_G06_T1.pdf.txt\", \"127_G06_T1.pdf.txt\"]\n",
        "book = \"G12_T2\"\n",
        "input_folder_path = 'your directory'\n",
        "output_folder_path = 'your directory'\n",
        "\n",
        "# Create the output folder if it doesn't exist\n",
        "if not os.path.exists(output_folder_path):\n",
        "    os.makedirs(output_folder_path)\n",
        "# Process each text file in the input folder\n",
        "\n",
        "\n",
        "for file_name in os.listdir(input_folder_path):\n",
        "\n",
        "  if file_name.endswith(\".txt\"):\n",
        "    num = file_name[:-15]\n",
        "    input_file_path = os.path.join(input_folder_path, file_name)\n",
        "    output_file_path = os.path.join(output_folder_path, file_name)\n",
        "\n",
        "    with open(input_file_path, \"r\", encoding=\"utf-8\") as file:\n",
        "        lines = file.readlines()\n",
        "\n",
        "    # Process each line and write the results to the output file\n",
        "    with open(output_file_path, \"w\", encoding=\"utf-8\") as file:\n",
        "        for line in lines:\n",
        "             # Remove leading/trailing whitespace\n",
        "            if not line:\n",
        "                continue  # Skip empty lines\n",
        "            valid, correction = is_valid_arabic_sentence(line)\n",
        "            if valid:\n",
        "                line = line.strip()\n",
        "                file.write(f\"{line} OK\\n\")\n",
        "                file.write(f\"{correction} SPELLCHECKED\\n\")\n",
        "                #print(f\"'{line}' is a valid Arabic sentence.\")\n",
        "            else:\n",
        "              file.write(f\"{line}\")\n",
        "                #print(f\"'{line}' is not a valid Arabic sentence.\")\n",
        "\n",
        "    print(f\"Output file '{output_file_path}' has been created.\")"
      ]
    },
    {
      "cell_type": "code",
      "execution_count": null,
      "metadata": {
        "colab": {
          "base_uri": "https://localhost:8080/"
        },
        "id": "WBV2FitecmC5",
        "outputId": "6a26bce6-445b-4da5-f81e-4d2401a98a03"
      },
      "outputs": [
        {
          "name": "stdout",
          "output_type": "stream",
          "text": [
            "Extracted 1787 from 2530 sentences.\n"
          ]
        }
      ],
      "source": [
        "import os\n",
        "import re\n",
        "def extract_spellchecked_lines(input_folder_path, output_file_path):\n",
        "  total_sentences = 0\n",
        "  extracted_sentences = 0\n",
        "  # Process each text file in the input folder\n",
        "  #for file_name in os.listdir(input_folder_path):\n",
        "  book = \"G12_T2\"\n",
        "  for i in range(int(num)):\n",
        "      input_file_path = os.path.join(input_folder_path, f\"{i}_{book}.pdf.txt\")\n",
        "\n",
        "      with open(input_file_path, \"r\", encoding=\"utf-8\") as file:\n",
        "          lines = file.readlines()\n",
        "\n",
        "      # Process each line and write the spellchecked lines to the output file\n",
        "      with open(output_file_path, \"a\", encoding=\"utf-8\") as file:\n",
        "        flag= True\n",
        "        any_lines= False\n",
        "        for line in lines:\n",
        "            words = re.findall(r'\\b\\w+\\b', line)\n",
        "            if \"SPELLCHECKED\" in line:\n",
        "              flag= True\n",
        "              extracted_sentences += 1\n",
        "              line = line.replace(\"SPELLCHECKED\", \"\").strip()\n",
        "              file.write(f\"{line}\\n\")\n",
        "            elif \"OK\" in line and flag :\n",
        "              flag= False\n",
        "              if any_lines:\n",
        "                file.write(\"XXX\\n\")\n",
        "                any_lines= False\n",
        "            else:\n",
        "              if len(words) > 0:\n",
        "                file.write(\"\\n\")\n",
        "                total_sentences += 1\n",
        "              if flag and line != \"\\n\":\n",
        "                any_lines= True\n",
        "\n",
        "  print(f\"Extracted {extracted_sentences} from {total_sentences} sentences.\")\n",
        "\n",
        "book = \"G12_T2\"\n",
        "# Example usage\n",
        "input_folder_path = 'your directory'\n",
        "output_file_path = 'your directory'\n",
        "\n",
        "# Delete the output file if it already exists\n",
        "if os.path.exists(output_file_path):\n",
        "    os.remove(output_file_path)\n",
        "\n",
        "extract_spellchecked_lines(input_folder_path, output_file_path)\n"
      ]
    },
    {
      "cell_type": "markdown",
      "metadata": {
        "id": "Ep2h452bS-EO"
      },
      "source": [
        "##file merge"
      ]
    },
    {
      "cell_type": "code",
      "execution_count": null,
      "metadata": {
        "id": "FZZC-SP5Xcpx"
      },
      "outputs": [],
      "source": [
        "def merge_files(file1_path, file2_path, merged_file_path):\n",
        "    with open(file1_path, 'r', encoding='utf-8') as file1:\n",
        "        text1 = file1.read()\n",
        "\n",
        "    with open(file2_path, 'r', encoding='utf-8') as file2:\n",
        "        text2 = file2.read()\n",
        "\n",
        "    merged_text = text1 + text2\n",
        "\n",
        "    with open(merged_file_path, 'w', encoding='utf-8') as merged_file:\n",
        "        merged_file.write(merged_text)\n",
        "\n",
        "# Example usage\n",
        "grade= \"12\"\n",
        "file1_path = 'your directory'\n",
        "file2_path ='your directory'\n",
        "merged_file_path = 'your directory'\n",
        "\n",
        "merge_files(file1_path, file2_path, merged_file_path)\n"
      ]
    },
    {
      "cell_type": "code",
      "execution_count": null,
      "metadata": {
        "id": "nj6fJUzZZero"
      },
      "outputs": [],
      "source": [
        "def remove_extra_empty_lines(input_file_path, output_file_path):\n",
        "    with open(input_file_path, 'r', encoding='utf-8') as input_file:\n",
        "        lines = input_file.readlines()\n",
        "\n",
        "    # Remove extra empty lines\n",
        "    cleaned_lines = []\n",
        "    empty_line_count = 0\n",
        "    for line in lines:\n",
        "        if line.strip() == '':\n",
        "            empty_line_count += 1\n",
        "            if empty_line_count <= 2:\n",
        "                cleaned_lines.append(line)\n",
        "        else:\n",
        "            empty_line_count = 0\n",
        "            cleaned_lines.append(line)\n",
        "\n",
        "    with open(output_file_path, 'w', encoding='utf-8') as output_file:\n",
        "        output_file.writelines(cleaned_lines)\n",
        "\n",
        "# Example usage\n",
        "input_file_path = 'your directory'\n",
        "output_file_path = 'your directory'\n",
        "\n",
        "remove_extra_empty_lines(input_file_path, output_file_path)\n"
      ]
    },
    {
      "cell_type": "code",
      "execution_count": null,
      "metadata": {
        "colab": {
          "base_uri": "https://localhost:8080/"
        },
        "id": "btv5ZNJw0bu6",
        "outputId": "53eaf9d7-8077-4126-9acf-f27534861ee3"
      },
      "outputs": [
        {
          "name": "stdout",
          "output_type": "stream",
          "text": [
            "01\n",
            "02\n",
            "03\n",
            "04\n",
            "05\n",
            "06\n",
            "07\n",
            "08\n",
            "09\n",
            "10\n",
            "11\n",
            "12\n"
          ]
        }
      ],
      "source": [
        "import re\n",
        "\n",
        "def clean_sentence(sentence, end_chars):\n",
        "    cleaned_sentence = []\n",
        "    prev_char = None\n",
        "\n",
        "    for char in sentence:\n",
        "        if char == ' ' and prev_char in end_chars:\n",
        "            continue\n",
        "        elif char == ' ' and prev_char == ' ':\n",
        "            continue\n",
        "        cleaned_sentence.append(char)\n",
        "        prev_char = char\n",
        "\n",
        "    return ''.join(cleaned_sentence)\n",
        "\n",
        "def extract_sent(input_file_path, output_file_path):\n",
        "    with open(input_file_path, 'r', encoding='utf-8') as input_file:\n",
        "        end_of_sent = ['.', '!', '؟', ':']\n",
        "        sentences = []\n",
        "        lines = input_file.readlines()\n",
        "        start = True\n",
        "        end = False\n",
        "        sentence = ''\n",
        "\n",
        "        for line in lines:\n",
        "            line = line.strip()\n",
        "            line = line + \" \"\n",
        "\n",
        "            if not line:  # Empty line\n",
        "                start = True\n",
        "                continue\n",
        "\n",
        "            if \"XXX\" in line:\n",
        "                start = False\n",
        "\n",
        "            for letter in line:\n",
        "                if letter in end_of_sent:\n",
        "                    end = True\n",
        "                    start = True\n",
        "                    sentence += letter\n",
        "\n",
        "                if start and not end:\n",
        "                    sentence += letter\n",
        "\n",
        "                elif start and end:\n",
        "                    # sentence += letter\n",
        "                    if sentence != '' and len(sentence.strip()) != 1:\n",
        "                        sentences.append(clean_sentence(sentence.strip(), end_of_sent))\n",
        "                    sentence = ''\n",
        "                    end = False\n",
        "\n",
        "    with open(output_file_path, 'w', encoding='utf-8') as output_file:\n",
        "        output_file.write('\\n'.join(sentences))\n",
        "\n",
        "    return sentences\n",
        "\n",
        "\n",
        "for i in range (1,13):\n",
        "  index = str(i).zfill(2)\n",
        "  print(index)\n",
        "  input_file_path =  'your directory'\n",
        "  output_file_path = 'your directory'\n",
        "  extract_sent(input_file_path,output_file_path)\n"
      ]
    },
    {
      "cell_type": "code",
      "execution_count": null,
      "metadata": {
        "id": "vw_xP15lTRrj"
      },
      "outputs": [],
      "source": [
        "def filter_lines(file_path):\n",
        "    filtered_lines = []\n",
        "    with open(file_path, 'r') as file:\n",
        "        lines = file.readlines()\n",
        "        for line in lines:\n",
        "            line = line.strip()\n",
        "            no_line = remove_punctuation(line)\n",
        "            words = no_line.split(\" \")\n",
        "            words = [word for word in words if word != '']\n",
        "            if line and len(words) > 2:\n",
        "                filtered_lines.append(line)\n",
        "\n",
        "    with open(file_path, 'w') as file:\n",
        "        file.write('\\n'.join(filtered_lines))\n",
        "\n",
        "\n",
        "for i in range(1,13):\n",
        "  index= formatted_number = str(i).zfill(2)\n",
        "  filter_lines('your directory')\n",
        "\n"
      ]
    }
  ],
  "metadata": {
    "colab": {
      "provenance": [],
      "toc_visible": true
    },
    "kernelspec": {
      "display_name": "Python 3",
      "name": "python3"
    },
    "language_info": {
      "name": "python"
    }
  },
  "nbformat": 4,
  "nbformat_minor": 0
}
