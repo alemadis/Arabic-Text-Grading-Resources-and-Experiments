{
  "cells": [
    {
      "cell_type": "code",
      "execution_count": 1,
      "metadata": {
        "colab": {
          "base_uri": "https://localhost:8080/"
        },
        "id": "jSuEyoYffgzs",
        "outputId": "dcf80cc3-0075-4f32-8058-964d44bd1b57"
      },
      "outputs": [
        {
          "name": "stdout",
          "output_type": "stream",
          "text": [
            "Mounted at /content/drive/\n"
          ]
        }
      ],
      "source": [
        "from google.colab import drive\n",
        "drive.mount('/content/drive/')"
      ]
    },
    {
      "cell_type": "code",
      "execution_count": 2,
      "metadata": {
        "colab": {
          "base_uri": "https://localhost:8080/",
          "height": 36
        },
        "id": "LZWAIaGjlnky",
        "outputId": "49adab80-9405-444e-b54e-413fa9deffe7"
      },
      "outputs": [
        {
          "data": {
            "application/vnd.google.colaboratory.intrinsic+json": {
              "type": "string"
            },
            "text/plain": [
              "'/device:GPU:0'"
            ]
          },
          "execution_count": 2,
          "metadata": {},
          "output_type": "execute_result"
        }
      ],
      "source": [
        "import tensorflow as tf\n",
        "tf.test.gpu_device_name()"
      ]
    },
    {
      "cell_type": "code",
      "execution_count": 3,
      "metadata": {
        "colab": {
          "base_uri": "https://localhost:8080/"
        },
        "id": "20OC-9BDf4p2",
        "outputId": "55653327-3a76-4065-b5f9-fa95a791bf6f"
      },
      "outputs": [
        {
          "name": "stdout",
          "output_type": "stream",
          "text": [
            "Collecting PyPDF2\n",
            "  Downloading pypdf2-3.0.1-py3-none-any.whl (232 kB)\n",
            "\u001b[?25l     \u001b[90m━━━━━━━━━━━━━━━━━━━━━━━━━━━━━━━━━━━━━━━━\u001b[0m \u001b[32m0.0/232.6 kB\u001b[0m \u001b[31m?\u001b[0m eta \u001b[36m-:--:--\u001b[0m\r\u001b[2K     \u001b[91m━━━━━━━━━━━━━━━━━━━━━━━━━━━━━━━━━━━━━\u001b[0m\u001b[91m╸\u001b[0m\u001b[90m━\u001b[0m \u001b[32m225.3/232.6 kB\u001b[0m \u001b[31m7.0 MB/s\u001b[0m eta \u001b[36m0:00:01\u001b[0m\r\u001b[2K     \u001b[90m━━━━━━━━━━━━━━━━━━━━━━━━━━━━━━━━━━━━━━━\u001b[0m \u001b[32m232.6/232.6 kB\u001b[0m \u001b[31m5.8 MB/s\u001b[0m eta \u001b[36m0:00:00\u001b[0m\n",
            "\u001b[?25hInstalling collected packages: PyPDF2\n",
            "Successfully installed PyPDF2-3.0.1\n",
            "Collecting PyPDF2<3.0\n",
            "  Downloading pypdf2-2.12.1-py3-none-any.whl (222 kB)\n",
            "\u001b[2K     \u001b[90m━━━━━━━━━━━━━━━━━━━━━━━━━━━━━━━━━━━━━━━\u001b[0m \u001b[32m222.8/222.8 kB\u001b[0m \u001b[31m4.5 MB/s\u001b[0m eta \u001b[36m0:00:00\u001b[0m\n",
            "\u001b[?25hInstalling collected packages: PyPDF2\n",
            "  Attempting uninstall: PyPDF2\n",
            "    Found existing installation: PyPDF2 3.0.1\n",
            "    Uninstalling PyPDF2-3.0.1:\n",
            "      Successfully uninstalled PyPDF2-3.0.1\n",
            "Successfully installed PyPDF2-2.12.1\n"
          ]
        }
      ],
      "source": [
        "!pip install PyPDF2\n",
        "!pip3 install 'PyPDF2<3.0'"
      ]
    },
    {
      "cell_type": "code",
      "execution_count": 4,
      "metadata": {
        "colab": {
          "base_uri": "https://localhost:8080/"
        },
        "id": "kqLxEu-ff8fH",
        "outputId": "81a99ced-17a9-4827-89d5-a441319096c5"
      },
      "outputs": [
        {
          "name": "stdout",
          "output_type": "stream",
          "text": [
            "Collecting arabic_reshaper\n",
            "  Downloading arabic_reshaper-3.0.0-py3-none-any.whl (20 kB)\n",
            "Installing collected packages: arabic_reshaper\n",
            "Successfully installed arabic_reshaper-3.0.0\n",
            "Collecting python-bidi\n",
            "  Downloading python_bidi-0.4.2-py2.py3-none-any.whl (30 kB)\n",
            "Requirement already satisfied: six in /usr/local/lib/python3.10/dist-packages (from python-bidi) (1.16.0)\n",
            "Installing collected packages: python-bidi\n",
            "Successfully installed python-bidi-0.4.2\n"
          ]
        }
      ],
      "source": [
        "!pip install arabic_reshaper\n",
        "!pip install python-bidi"
      ]
    },
    {
      "cell_type": "code",
      "execution_count": 5,
      "metadata": {
        "colab": {
          "base_uri": "https://localhost:8080/"
        },
        "id": "UUNWR8Owf-xy",
        "outputId": "d70e568a-100d-4c20-be98-6a28d15c4569"
      },
      "outputs": [
        {
          "name": "stdout",
          "output_type": "stream",
          "text": [
            "Collecting pdfminer.six\n",
            "  Downloading pdfminer.six-20221105-py3-none-any.whl (5.6 MB)\n",
            "\u001b[2K     \u001b[90m━━━━━━━━━━━━━━━━━━━━━━━━━━━━━━━━━━━━━━━━\u001b[0m \u001b[32m5.6/5.6 MB\u001b[0m \u001b[31m17.9 MB/s\u001b[0m eta \u001b[36m0:00:00\u001b[0m\n",
            "\u001b[?25hRequirement already satisfied: charset-normalizer>=2.0.0 in /usr/local/lib/python3.10/dist-packages (from pdfminer.six) (3.2.0)\n",
            "Requirement already satisfied: cryptography>=36.0.0 in /usr/local/lib/python3.10/dist-packages (from pdfminer.six) (41.0.3)\n",
            "Requirement already satisfied: cffi>=1.12 in /usr/local/lib/python3.10/dist-packages (from cryptography>=36.0.0->pdfminer.six) (1.15.1)\n",
            "Requirement already satisfied: pycparser in /usr/local/lib/python3.10/dist-packages (from cffi>=1.12->cryptography>=36.0.0->pdfminer.six) (2.21)\n",
            "Installing collected packages: pdfminer.six\n",
            "Successfully installed pdfminer.six-20221105\n"
          ]
        }
      ],
      "source": [
        "pip install pdfminer.six"
      ]
    },
    {
      "cell_type": "code",
      "execution_count": 6,
      "metadata": {
        "colab": {
          "base_uri": "https://localhost:8080/"
        },
        "id": "wvXgjuN4N42d",
        "outputId": "84fb050a-e5f5-44f8-c85e-cbff9b4f802f"
      },
      "outputs": [
        {
          "name": "stdout",
          "output_type": "stream",
          "text": [
            "Collecting pytesseract\n",
            "  Downloading pytesseract-0.3.10-py3-none-any.whl (14 kB)\n",
            "Collecting pdf2image\n",
            "  Downloading pdf2image-1.16.3-py3-none-any.whl (11 kB)\n",
            "Requirement already satisfied: packaging>=21.3 in /usr/local/lib/python3.10/dist-packages (from pytesseract) (23.1)\n",
            "Requirement already satisfied: Pillow>=8.0.0 in /usr/local/lib/python3.10/dist-packages (from pytesseract) (9.4.0)\n",
            "Installing collected packages: pytesseract, pdf2image\n",
            "Successfully installed pdf2image-1.16.3 pytesseract-0.3.10\n",
            "Reading package lists... Done\n",
            "Building dependency tree... Done\n",
            "Reading state information... Done\n",
            "The following NEW packages will be installed:\n",
            "  poppler-utils\n",
            "0 upgraded, 1 newly installed, 0 to remove and 18 not upgraded.\n",
            "Need to get 186 kB of archives.\n",
            "After this operation, 696 kB of additional disk space will be used.\n",
            "Get:1 http://archive.ubuntu.com/ubuntu jammy-updates/main amd64 poppler-utils amd64 22.02.0-2ubuntu0.2 [186 kB]\n",
            "Fetched 186 kB in 0s (418 kB/s)\n",
            "Selecting previously unselected package poppler-utils.\n",
            "(Reading database ... 120901 files and directories currently installed.)\n",
            "Preparing to unpack .../poppler-utils_22.02.0-2ubuntu0.2_amd64.deb ...\n",
            "Unpacking poppler-utils (22.02.0-2ubuntu0.2) ...\n",
            "Setting up poppler-utils (22.02.0-2ubuntu0.2) ...\n",
            "Processing triggers for man-db (2.10.2-1) ...\n",
            "Reading package lists... Done\n",
            "Building dependency tree... Done\n",
            "Reading state information... Done\n",
            "The following additional packages will be installed:\n",
            "  tesseract-ocr-eng tesseract-ocr-osd\n",
            "The following NEW packages will be installed:\n",
            "  tesseract-ocr tesseract-ocr-eng tesseract-ocr-osd\n",
            "0 upgraded, 3 newly installed, 0 to remove and 18 not upgraded.\n",
            "Need to get 4,816 kB of archives.\n",
            "After this operation, 15.6 MB of additional disk space will be used.\n",
            "Get:1 http://archive.ubuntu.com/ubuntu jammy/universe amd64 tesseract-ocr-eng all 1:4.00~git30-7274cfa-1.1 [1,591 kB]\n",
            "Get:2 http://archive.ubuntu.com/ubuntu jammy/universe amd64 tesseract-ocr-osd all 1:4.00~git30-7274cfa-1.1 [2,990 kB]\n",
            "Get:3 http://archive.ubuntu.com/ubuntu jammy/universe amd64 tesseract-ocr amd64 4.1.1-2.1build1 [236 kB]\n",
            "Fetched 4,816 kB in 2s (2,918 kB/s)\n",
            "Selecting previously unselected package tesseract-ocr-eng.\n",
            "(Reading database ... 120931 files and directories currently installed.)\n",
            "Preparing to unpack .../tesseract-ocr-eng_1%3a4.00~git30-7274cfa-1.1_all.deb ...\n",
            "Unpacking tesseract-ocr-eng (1:4.00~git30-7274cfa-1.1) ...\n",
            "Selecting previously unselected package tesseract-ocr-osd.\n",
            "Preparing to unpack .../tesseract-ocr-osd_1%3a4.00~git30-7274cfa-1.1_all.deb ...\n",
            "Unpacking tesseract-ocr-osd (1:4.00~git30-7274cfa-1.1) ...\n",
            "Selecting previously unselected package tesseract-ocr.\n",
            "Preparing to unpack .../tesseract-ocr_4.1.1-2.1build1_amd64.deb ...\n",
            "Unpacking tesseract-ocr (4.1.1-2.1build1) ...\n",
            "Setting up tesseract-ocr-eng (1:4.00~git30-7274cfa-1.1) ...\n",
            "Setting up tesseract-ocr-osd (1:4.00~git30-7274cfa-1.1) ...\n",
            "Setting up tesseract-ocr (4.1.1-2.1build1) ...\n",
            "Processing triggers for man-db (2.10.2-1) ...\n",
            "Reading package lists... Done\n",
            "Building dependency tree... Done\n",
            "Reading state information... Done\n",
            "The following additional packages will be installed:\n",
            "  libarchive-dev libleptonica-dev\n",
            "The following NEW packages will be installed:\n",
            "  libarchive-dev libleptonica-dev libtesseract-dev\n",
            "0 upgraded, 3 newly installed, 0 to remove and 18 not upgraded.\n",
            "Need to get 3,743 kB of archives.\n",
            "After this operation, 16.0 MB of additional disk space will be used.\n",
            "Get:1 http://archive.ubuntu.com/ubuntu jammy/main amd64 libarchive-dev amd64 3.6.0-1ubuntu1 [581 kB]\n",
            "Get:2 http://archive.ubuntu.com/ubuntu jammy/universe amd64 libleptonica-dev amd64 1.82.0-3build1 [1,562 kB]\n",
            "Get:3 http://archive.ubuntu.com/ubuntu jammy/universe amd64 libtesseract-dev amd64 4.1.1-2.1build1 [1,600 kB]\n",
            "Fetched 3,743 kB in 1s (4,804 kB/s)\n",
            "Selecting previously unselected package libarchive-dev:amd64.\n",
            "(Reading database ... 120978 files and directories currently installed.)\n",
            "Preparing to unpack .../libarchive-dev_3.6.0-1ubuntu1_amd64.deb ...\n",
            "Unpacking libarchive-dev:amd64 (3.6.0-1ubuntu1) ...\n",
            "Selecting previously unselected package libleptonica-dev.\n",
            "Preparing to unpack .../libleptonica-dev_1.82.0-3build1_amd64.deb ...\n",
            "Unpacking libleptonica-dev (1.82.0-3build1) ...\n",
            "Selecting previously unselected package libtesseract-dev:amd64.\n",
            "Preparing to unpack .../libtesseract-dev_4.1.1-2.1build1_amd64.deb ...\n",
            "Unpacking libtesseract-dev:amd64 (4.1.1-2.1build1) ...\n",
            "Setting up libleptonica-dev (1.82.0-3build1) ...\n",
            "Setting up libarchive-dev:amd64 (3.6.0-1ubuntu1) ...\n",
            "Setting up libtesseract-dev:amd64 (4.1.1-2.1build1) ...\n",
            "Processing triggers for man-db (2.10.2-1) ...\n"
          ]
        }
      ],
      "source": [
        "!pip install pytesseract pdf2image\n",
        "!apt-get install poppler-utils\n",
        "!apt install tesseract-ocr\n",
        "!apt install libtesseract-dev\n"
      ]
    },
    {
      "cell_type": "code",
      "execution_count": 7,
      "metadata": {
        "colab": {
          "base_uri": "https://localhost:8080/"
        },
        "id": "qhSsVVzhN54E",
        "outputId": "5f7e8bc2-7c0d-4a6f-c016-20d4ab49704c"
      },
      "outputs": [
        {
          "name": "stdout",
          "output_type": "stream",
          "text": [
            "--2023-09-19 09:29:12--  https://github.com/tesseract-ocr/tessdata/raw/main/ara.traineddata\n",
            "Resolving github.com (github.com)... 192.30.255.113\n",
            "Connecting to github.com (github.com)|192.30.255.113|:443... connected.\n",
            "HTTP request sent, awaiting response... 302 Found\n",
            "Location: https://raw.githubusercontent.com/tesseract-ocr/tessdata/main/ara.traineddata [following]\n",
            "--2023-09-19 09:29:12--  https://raw.githubusercontent.com/tesseract-ocr/tessdata/main/ara.traineddata\n",
            "Resolving raw.githubusercontent.com (raw.githubusercontent.com)... 185.199.108.133, 185.199.109.133, 185.199.110.133, ...\n",
            "Connecting to raw.githubusercontent.com (raw.githubusercontent.com)|185.199.108.133|:443... connected.\n",
            "HTTP request sent, awaiting response... 200 OK\n",
            "Length: 2494806 (2.4M) [application/octet-stream]\n",
            "Saving to: ‘ara.traineddata’\n",
            "\n",
            "ara.traineddata     100%[===================>]   2.38M  --.-KB/s    in 0.04s   \n",
            "\n",
            "2023-09-19 09:29:12 (58.2 MB/s) - ‘ara.traineddata’ saved [2494806/2494806]\n",
            "\n"
          ]
        }
      ],
      "source": [
        "!wget https://github.com/tesseract-ocr/tessdata/raw/main/ara.traineddata\n"
      ]
    },
    {
      "cell_type": "code",
      "execution_count": 8,
      "metadata": {
        "colab": {
          "base_uri": "https://localhost:8080/"
        },
        "id": "ZKo-Xe-iN79P",
        "outputId": "94b49f34-a13f-4d15-f459-5c82247db28e"
      },
      "outputs": [
        {
          "name": "stdout",
          "output_type": "stream",
          "text": [
            "Requirement already satisfied: py4j in /usr/local/lib/python3.10/dist-packages (0.10.9.7)\n",
            "Collecting farasapy\n",
            "  Downloading farasapy-0.0.14-py3-none-any.whl (11 kB)\n",
            "Requirement already satisfied: requests in /usr/local/lib/python3.10/dist-packages (from farasapy) (2.31.0)\n",
            "Requirement already satisfied: tqdm in /usr/local/lib/python3.10/dist-packages (from farasapy) (4.66.1)\n",
            "Requirement already satisfied: charset-normalizer<4,>=2 in /usr/local/lib/python3.10/dist-packages (from requests->farasapy) (3.2.0)\n",
            "Requirement already satisfied: idna<4,>=2.5 in /usr/local/lib/python3.10/dist-packages (from requests->farasapy) (3.4)\n",
            "Requirement already satisfied: urllib3<3,>=1.21.1 in /usr/local/lib/python3.10/dist-packages (from requests->farasapy) (2.0.4)\n",
            "Requirement already satisfied: certifi>=2017.4.17 in /usr/local/lib/python3.10/dist-packages (from requests->farasapy) (2023.7.22)\n",
            "Installing collected packages: farasapy\n",
            "Successfully installed farasapy-0.0.14\n"
          ]
        }
      ],
      "source": [
        "!pip install py4j\n",
        "!pip install farasapy\n"
      ]
    },
    {
      "cell_type": "code",
      "execution_count": 9,
      "metadata": {
        "colab": {
          "base_uri": "https://localhost:8080/"
        },
        "id": "YxsS8jdllPLH",
        "outputId": "fe886d23-d545-4802-e26f-7b6baa211475"
      },
      "outputs": [
        {
          "name": "stdout",
          "output_type": "stream",
          "text": [
            "Requirement already satisfied: pydotplus in /usr/local/lib/python3.10/dist-packages (2.0.2)\n",
            "Requirement already satisfied: pyparsing>=2.0.1 in /usr/local/lib/python3.10/dist-packages (from pydotplus) (3.1.1)\n",
            "Requirement already satisfied: pytesseract in /usr/local/lib/python3.10/dist-packages (0.3.10)\n",
            "Requirement already satisfied: packaging>=21.3 in /usr/local/lib/python3.10/dist-packages (from pytesseract) (23.1)\n",
            "Requirement already satisfied: Pillow>=8.0.0 in /usr/local/lib/python3.10/dist-packages (from pytesseract) (9.4.0)\n",
            "Collecting gTTS\n",
            "  Downloading gTTS-2.3.2-py3-none-any.whl (28 kB)\n",
            "Requirement already satisfied: requests<3,>=2.27 in /usr/local/lib/python3.10/dist-packages (from gTTS) (2.31.0)\n",
            "Requirement already satisfied: click<8.2,>=7.1 in /usr/local/lib/python3.10/dist-packages (from gTTS) (8.1.7)\n",
            "Requirement already satisfied: charset-normalizer<4,>=2 in /usr/local/lib/python3.10/dist-packages (from requests<3,>=2.27->gTTS) (3.2.0)\n",
            "Requirement already satisfied: idna<4,>=2.5 in /usr/local/lib/python3.10/dist-packages (from requests<3,>=2.27->gTTS) (3.4)\n",
            "Requirement already satisfied: urllib3<3,>=1.21.1 in /usr/local/lib/python3.10/dist-packages (from requests<3,>=2.27->gTTS) (2.0.4)\n",
            "Requirement already satisfied: certifi>=2017.4.17 in /usr/local/lib/python3.10/dist-packages (from requests<3,>=2.27->gTTS) (2023.7.22)\n",
            "Installing collected packages: gTTS\n",
            "Successfully installed gTTS-2.3.2\n"
          ]
        }
      ],
      "source": [
        "!pip install pydotplus\n",
        "!pip install pytesseract\n",
        "!pip install gTTS"
      ]
    },
    {
      "cell_type": "code",
      "execution_count": 10,
      "metadata": {
        "colab": {
          "base_uri": "https://localhost:8080/"
        },
        "id": "Aaf9xxAgkdhT",
        "outputId": "1c226e07-4715-439f-fc55-90ff8e794815"
      },
      "outputs": [
        {
          "name": "stdout",
          "output_type": "stream",
          "text": [
            "Collecting easyocr\n",
            "  Downloading easyocr-1.7.1-py3-none-any.whl (2.9 MB)\n",
            "\u001b[2K     \u001b[90m━━━━━━━━━━━━━━━━━━━━━━━━━━━━━━━━━━━━━━━━\u001b[0m \u001b[32m2.9/2.9 MB\u001b[0m \u001b[31m11.5 MB/s\u001b[0m eta \u001b[36m0:00:00\u001b[0m\n",
            "\u001b[?25hRequirement already satisfied: pdf2image in /usr/local/lib/python3.10/dist-packages (1.16.3)\n",
            "Requirement already satisfied: torch in /usr/local/lib/python3.10/dist-packages (from easyocr) (2.0.1+cu118)\n",
            "Requirement already satisfied: torchvision>=0.5 in /usr/local/lib/python3.10/dist-packages (from easyocr) (0.15.2+cu118)\n",
            "Requirement already satisfied: opencv-python-headless in /usr/local/lib/python3.10/dist-packages (from easyocr) (4.8.0.76)\n",
            "Requirement already satisfied: scipy in /usr/local/lib/python3.10/dist-packages (from easyocr) (1.11.2)\n",
            "Requirement already satisfied: numpy in /usr/local/lib/python3.10/dist-packages (from easyocr) (1.23.5)\n",
            "Requirement already satisfied: Pillow in /usr/local/lib/python3.10/dist-packages (from easyocr) (9.4.0)\n",
            "Requirement already satisfied: scikit-image in /usr/local/lib/python3.10/dist-packages (from easyocr) (0.19.3)\n",
            "Requirement already satisfied: python-bidi in /usr/local/lib/python3.10/dist-packages (from easyocr) (0.4.2)\n",
            "Requirement already satisfied: PyYAML in /usr/local/lib/python3.10/dist-packages (from easyocr) (6.0.1)\n",
            "Requirement already satisfied: Shapely in /usr/local/lib/python3.10/dist-packages (from easyocr) (2.0.1)\n",
            "Collecting pyclipper (from easyocr)\n",
            "  Downloading pyclipper-1.3.0.post5-cp310-cp310-manylinux_2_12_x86_64.manylinux2010_x86_64.whl (908 kB)\n",
            "\u001b[2K     \u001b[90m━━━━━━━━━━━━━━━━━━━━━━━━━━━━━━━━━━━━━━\u001b[0m \u001b[32m908.3/908.3 kB\u001b[0m \u001b[31m20.5 MB/s\u001b[0m eta \u001b[36m0:00:00\u001b[0m\n",
            "\u001b[?25hCollecting ninja (from easyocr)\n",
            "  Downloading ninja-1.11.1-py2.py3-none-manylinux_2_12_x86_64.manylinux2010_x86_64.whl (145 kB)\n",
            "\u001b[2K     \u001b[90m━━━━━━━━━━━━━━━━━━━━━━━━━━━━━━━━━━━━━━\u001b[0m \u001b[32m146.0/146.0 kB\u001b[0m \u001b[31m12.0 MB/s\u001b[0m eta \u001b[36m0:00:00\u001b[0m\n",
            "\u001b[?25hRequirement already satisfied: requests in /usr/local/lib/python3.10/dist-packages (from torchvision>=0.5->easyocr) (2.31.0)\n",
            "Requirement already satisfied: filelock in /usr/local/lib/python3.10/dist-packages (from torch->easyocr) (3.12.2)\n",
            "Requirement already satisfied: typing-extensions in /usr/local/lib/python3.10/dist-packages (from torch->easyocr) (4.5.0)\n",
            "Requirement already satisfied: sympy in /usr/local/lib/python3.10/dist-packages (from torch->easyocr) (1.12)\n",
            "Requirement already satisfied: networkx in /usr/local/lib/python3.10/dist-packages (from torch->easyocr) (3.1)\n",
            "Requirement already satisfied: jinja2 in /usr/local/lib/python3.10/dist-packages (from torch->easyocr) (3.1.2)\n",
            "Requirement already satisfied: triton==2.0.0 in /usr/local/lib/python3.10/dist-packages (from torch->easyocr) (2.0.0)\n",
            "Requirement already satisfied: cmake in /usr/local/lib/python3.10/dist-packages (from triton==2.0.0->torch->easyocr) (3.27.4.1)\n",
            "Requirement already satisfied: lit in /usr/local/lib/python3.10/dist-packages (from triton==2.0.0->torch->easyocr) (16.0.6)\n",
            "Requirement already satisfied: six in /usr/local/lib/python3.10/dist-packages (from python-bidi->easyocr) (1.16.0)\n",
            "Requirement already satisfied: imageio>=2.4.1 in /usr/local/lib/python3.10/dist-packages (from scikit-image->easyocr) (2.31.3)\n",
            "Requirement already satisfied: tifffile>=2019.7.26 in /usr/local/lib/python3.10/dist-packages (from scikit-image->easyocr) (2023.8.30)\n",
            "Requirement already satisfied: PyWavelets>=1.1.1 in /usr/local/lib/python3.10/dist-packages (from scikit-image->easyocr) (1.4.1)\n",
            "Requirement already satisfied: packaging>=20.0 in /usr/local/lib/python3.10/dist-packages (from scikit-image->easyocr) (23.1)\n",
            "Requirement already satisfied: MarkupSafe>=2.0 in /usr/local/lib/python3.10/dist-packages (from jinja2->torch->easyocr) (2.1.3)\n",
            "Requirement already satisfied: charset-normalizer<4,>=2 in /usr/local/lib/python3.10/dist-packages (from requests->torchvision>=0.5->easyocr) (3.2.0)\n",
            "Requirement already satisfied: idna<4,>=2.5 in /usr/local/lib/python3.10/dist-packages (from requests->torchvision>=0.5->easyocr) (3.4)\n",
            "Requirement already satisfied: urllib3<3,>=1.21.1 in /usr/local/lib/python3.10/dist-packages (from requests->torchvision>=0.5->easyocr) (2.0.4)\n",
            "Requirement already satisfied: certifi>=2017.4.17 in /usr/local/lib/python3.10/dist-packages (from requests->torchvision>=0.5->easyocr) (2023.7.22)\n",
            "Requirement already satisfied: mpmath>=0.19 in /usr/local/lib/python3.10/dist-packages (from sympy->torch->easyocr) (1.3.0)\n",
            "Installing collected packages: pyclipper, ninja, easyocr\n",
            "Successfully installed easyocr-1.7.1 ninja-1.11.1 pyclipper-1.3.0.post5\n"
          ]
        }
      ],
      "source": [
        "pip install easyocr pdf2image\n"
      ]
    },
    {
      "cell_type": "markdown",
      "metadata": {
        "id": "P_RmOdzFgFRZ"
      },
      "source": [
        "### Get pages from 4-21"
      ]
    },
    {
      "cell_type": "code",
      "execution_count": 11,
      "metadata": {
        "id": "8RmR8M0TgHeC"
      },
      "outputs": [],
      "source": [
        "import PyPDF2\n",
        "\n",
        "def extract_pages(input_pdf, output_pdf, start_page, end_page):\n",
        "\n",
        "    with open(input_pdf, 'rb') as file:\n",
        "        reader = PyPDF2.PdfFileReader(file)\n",
        "        writer = PyPDF2.PdfFileWriter()\n",
        "\n",
        "        for page_num in range(start_page-1, end_page):\n",
        "            page = reader.getPage(page_num)\n",
        "            writer.addPage(page)\n",
        "\n",
        "        with open(output_pdf, 'wb') as output_file:\n",
        "            writer.write(output_file)\n",
        "\n",
        "\n",
        "extract_pages('your directory', 'your directory', 4, 21)\n"
      ]
    },
    {
      "cell_type": "markdown",
      "metadata": {
        "id": "to2_z8XFhFMR"
      },
      "source": [
        "# OCR-Packages Comparisons"
      ]
    },
    {
      "cell_type": "markdown",
      "metadata": {
        "id": "5ibE1t-uit8v"
      },
      "source": [
        "#### PyPDF2"
      ]
    },
    {
      "cell_type": "code",
      "execution_count": 12,
      "metadata": {
        "id": "4M3IMJkFhHno"
      },
      "outputs": [],
      "source": [
        "import os\n",
        "import PyPDF2\n",
        "import string\n",
        "\n",
        "def book_to_txt(book_path, txtfile_path):\n",
        "    pdf_file = open(book_path, 'rb')\n",
        "    pdf_reader = PyPDF2.PdfFileReader(pdf_file)\n",
        "\n",
        "    with open(txtfile_path, \"a\") as f:\n",
        "        for page_num in range(pdf_reader.getNumPages()):\n",
        "            page = pdf_reader.getPage(page_num)\n",
        "            text = page.extractText()\n",
        "            f.write(text + '\\n')\n",
        "\n",
        "    pdf_file.close()\n",
        "\n",
        "\n",
        "\n",
        "book_to_txt('your directory', 'your directory')\n"
      ]
    },
    {
      "cell_type": "markdown",
      "metadata": {
        "id": "mqJyo2FYjvhm"
      },
      "source": [
        "#### PDFMiner"
      ]
    },
    {
      "cell_type": "code",
      "execution_count": 13,
      "metadata": {
        "id": "pcPM0ln8jyF4"
      },
      "outputs": [],
      "source": [
        "from pdfminer.pdfinterp import PDFResourceManager, PDFPageInterpreter\n",
        "from pdfminer.pdfpage import PDFPage\n",
        "from pdfminer.converter import TextConverter\n",
        "from pdfminer.layout import LAParams\n",
        "from io import StringIO\n",
        "\n",
        "def reverse_arabic_text(text):\n",
        "    reversed_lines = []\n",
        "    lines = text.split('\\n')\n",
        "    for line in lines:\n",
        "        reversed_line = line[::-1]\n",
        "        reversed_lines.append(reversed_line)\n",
        "    reversed_text = '\\n'.join(reversed_lines)\n",
        "    return reversed_text\n",
        "\n",
        "def extract_arabic_text_from_pdf(pdf_path):\n",
        "    resource_manager = PDFResourceManager()\n",
        "    output_string = StringIO()\n",
        "    codec = 'utf-8'\n",
        "    laparams = LAParams()\n",
        "\n",
        "    with open(pdf_path, 'rb') as f:\n",
        "        interpreter = PDFPageInterpreter(resource_manager, TextConverter(resource_manager, output_string, laparams=laparams))\n",
        "        for page in PDFPage.get_pages(f, check_extractable=True):\n",
        "            interpreter.process_page(page)\n",
        "\n",
        "    arabic_text = output_string.getvalue()\n",
        "    arabic_text = reverse_arabic_text(arabic_text)\n",
        "\n",
        "    return arabic_text\n",
        "\n",
        "\n",
        "pdf_path = 'your directory'\n",
        "output_text_file = 'your directory'\n",
        "\n",
        "arabic_text = extract_arabic_text_from_pdf(pdf_path)\n",
        "\n",
        "with open(output_text_file, 'w', encoding='utf-8') as f:\n",
        "    f.write(arabic_text)\n"
      ]
    },
    {
      "cell_type": "markdown",
      "metadata": {
        "id": "KZsQJEB9keU3"
      },
      "source": [
        "#### EasyOCR"
      ]
    },
    {
      "cell_type": "code",
      "execution_count": 14,
      "metadata": {
        "colab": {
          "base_uri": "https://localhost:8080/"
        },
        "id": "RQ2xBDWplFcv",
        "outputId": "6e6ab59b-74ed-4688-9aa1-1411278aeaa9"
      },
      "outputs": [
        {
          "name": "stdout",
          "output_type": "stream",
          "text": [
            "Reading package lists... Done\n",
            "Building dependency tree... Done\n",
            "Reading state information... Done\n",
            "poppler-utils is already the newest version (22.02.0-2ubuntu0.2).\n",
            "0 upgraded, 0 newly installed, 0 to remove and 18 not upgraded.\n"
          ]
        }
      ],
      "source": [
        "!apt-get install -y poppler-utils\n"
      ]
    },
    {
      "cell_type": "code",
      "execution_count": 1,
      "metadata": {
        "id": "vn3oTmnmkfrj"
      },
      "outputs": [],
      "source": [
        "from pdf2image import convert_from_path\n",
        "import easyocr\n",
        "import numpy as np\n",
        "\n",
        "def pdf_to_txt_arabic_easyocr(pdf_path, txt_path):\n",
        "    reader = easyocr.Reader(['ar'])\n",
        "    images = convert_from_path(pdf_path)\n",
        "    full_text = ''\n",
        "    for image in images:\n",
        "        np_image = np.array(image)\n",
        "        results = reader.readtext(np_image)\n",
        "        for detection in results:\n",
        "            text = detection[1]\n",
        "            full_text += text + '\\n'\n",
        "    with open(txt_path, 'w', encoding='utf-8') as file:\n",
        "        file.write(full_text)\n",
        "\n",
        "pdf_to_txt_arabic_easyocr('your directory', 'your directory')\n"
      ]
    },
    {
      "cell_type": "markdown",
      "metadata": {
        "id": "9UNiyIWcpach"
      },
      "source": [
        "#### ArabicOCR"
      ]
    },
    {
      "cell_type": "code",
      "execution_count": 2,
      "metadata": {
        "colab": {
          "base_uri": "https://localhost:8080/"
        },
        "id": "4YRQHFLxpb7o",
        "outputId": "e49870f7-a4c9-40fc-abcc-5482c251da6e"
      },
      "outputs": [
        {
          "name": "stdout",
          "output_type": "stream",
          "text": [
            "Collecting ArabicOcr\n",
            "  Downloading ArabicOcr-1.1.6-py3-none-any.whl (3.4 kB)\n",
            "Requirement already satisfied: easyocr in /usr/local/lib/python3.10/dist-packages (from ArabicOcr) (1.7.1)\n",
            "Requirement already satisfied: torch in /usr/local/lib/python3.10/dist-packages (from easyocr->ArabicOcr) (2.0.1+cu118)\n",
            "Requirement already satisfied: torchvision>=0.5 in /usr/local/lib/python3.10/dist-packages (from easyocr->ArabicOcr) (0.15.2+cu118)\n",
            "Requirement already satisfied: opencv-python-headless in /usr/local/lib/python3.10/dist-packages (from easyocr->ArabicOcr) (4.8.0.76)\n",
            "Requirement already satisfied: scipy in /usr/local/lib/python3.10/dist-packages (from easyocr->ArabicOcr) (1.11.2)\n",
            "Requirement already satisfied: numpy in /usr/local/lib/python3.10/dist-packages (from easyocr->ArabicOcr) (1.23.5)\n",
            "Requirement already satisfied: Pillow in /usr/local/lib/python3.10/dist-packages (from easyocr->ArabicOcr) (9.4.0)\n",
            "Requirement already satisfied: scikit-image in /usr/local/lib/python3.10/dist-packages (from easyocr->ArabicOcr) (0.19.3)\n",
            "Requirement already satisfied: python-bidi in /usr/local/lib/python3.10/dist-packages (from easyocr->ArabicOcr) (0.4.2)\n",
            "Requirement already satisfied: PyYAML in /usr/local/lib/python3.10/dist-packages (from easyocr->ArabicOcr) (6.0.1)\n",
            "Requirement already satisfied: Shapely in /usr/local/lib/python3.10/dist-packages (from easyocr->ArabicOcr) (2.0.1)\n",
            "Requirement already satisfied: pyclipper in /usr/local/lib/python3.10/dist-packages (from easyocr->ArabicOcr) (1.3.0.post5)\n",
            "Requirement already satisfied: ninja in /usr/local/lib/python3.10/dist-packages (from easyocr->ArabicOcr) (1.11.1)\n",
            "Requirement already satisfied: requests in /usr/local/lib/python3.10/dist-packages (from torchvision>=0.5->easyocr->ArabicOcr) (2.31.0)\n",
            "Requirement already satisfied: filelock in /usr/local/lib/python3.10/dist-packages (from torch->easyocr->ArabicOcr) (3.12.2)\n",
            "Requirement already satisfied: typing-extensions in /usr/local/lib/python3.10/dist-packages (from torch->easyocr->ArabicOcr) (4.5.0)\n",
            "Requirement already satisfied: sympy in /usr/local/lib/python3.10/dist-packages (from torch->easyocr->ArabicOcr) (1.12)\n",
            "Requirement already satisfied: networkx in /usr/local/lib/python3.10/dist-packages (from torch->easyocr->ArabicOcr) (3.1)\n",
            "Requirement already satisfied: jinja2 in /usr/local/lib/python3.10/dist-packages (from torch->easyocr->ArabicOcr) (3.1.2)\n",
            "Requirement already satisfied: triton==2.0.0 in /usr/local/lib/python3.10/dist-packages (from torch->easyocr->ArabicOcr) (2.0.0)\n",
            "Requirement already satisfied: cmake in /usr/local/lib/python3.10/dist-packages (from triton==2.0.0->torch->easyocr->ArabicOcr) (3.27.4.1)\n",
            "Requirement already satisfied: lit in /usr/local/lib/python3.10/dist-packages (from triton==2.0.0->torch->easyocr->ArabicOcr) (16.0.6)\n",
            "Requirement already satisfied: six in /usr/local/lib/python3.10/dist-packages (from python-bidi->easyocr->ArabicOcr) (1.16.0)\n",
            "Requirement already satisfied: imageio>=2.4.1 in /usr/local/lib/python3.10/dist-packages (from scikit-image->easyocr->ArabicOcr) (2.31.3)\n",
            "Requirement already satisfied: tifffile>=2019.7.26 in /usr/local/lib/python3.10/dist-packages (from scikit-image->easyocr->ArabicOcr) (2023.8.30)\n",
            "Requirement already satisfied: PyWavelets>=1.1.1 in /usr/local/lib/python3.10/dist-packages (from scikit-image->easyocr->ArabicOcr) (1.4.1)\n",
            "Requirement already satisfied: packaging>=20.0 in /usr/local/lib/python3.10/dist-packages (from scikit-image->easyocr->ArabicOcr) (23.1)\n",
            "Requirement already satisfied: MarkupSafe>=2.0 in /usr/local/lib/python3.10/dist-packages (from jinja2->torch->easyocr->ArabicOcr) (2.1.3)\n",
            "Requirement already satisfied: charset-normalizer<4,>=2 in /usr/local/lib/python3.10/dist-packages (from requests->torchvision>=0.5->easyocr->ArabicOcr) (3.2.0)\n",
            "Requirement already satisfied: idna<4,>=2.5 in /usr/local/lib/python3.10/dist-packages (from requests->torchvision>=0.5->easyocr->ArabicOcr) (3.4)\n",
            "Requirement already satisfied: urllib3<3,>=1.21.1 in /usr/local/lib/python3.10/dist-packages (from requests->torchvision>=0.5->easyocr->ArabicOcr) (2.0.4)\n",
            "Requirement already satisfied: certifi>=2017.4.17 in /usr/local/lib/python3.10/dist-packages (from requests->torchvision>=0.5->easyocr->ArabicOcr) (2023.7.22)\n",
            "Requirement already satisfied: mpmath>=0.19 in /usr/local/lib/python3.10/dist-packages (from sympy->torch->easyocr->ArabicOcr) (1.3.0)\n",
            "Installing collected packages: ArabicOcr\n",
            "Successfully installed ArabicOcr-1.1.6\n"
          ]
        }
      ],
      "source": [
        "!pip install ArabicOcr\n"
      ]
    },
    {
      "cell_type": "code",
      "execution_count": null,
      "metadata": {
        "colab": {
          "base_uri": "https://localhost:8080/",
          "height": 475
        },
        "id": "0HGVNtfYpcvq",
        "outputId": "ac79ab79-9d23-4d34-f421-1736e0140669"
      },
      "outputs": [],
      "source": [
        "from pdf2image import convert_from_path\n",
        "from ArabicOcr.arabicocr import arabic_ocr\n",
        "import numpy as np\n",
        "def pdf_to_txt_arabicocr(pdf_path, txt_path):\n",
        "    images = convert_from_path(pdf_path)\n",
        "\n",
        "    full_text = ''\n",
        "\n",
        "    for idx, image in enumerate(images):\n",
        "        temp_img_path = f\"temp_page_{idx}.png\"\n",
        "        image.save(temp_img_path)\n",
        "\n",
        "        out_img_name = f\"output_page_{idx}.png\"\n",
        "        result = arabic_ocr(temp_img_path, out_img_name)\n",
        "\n",
        "        flat_result = [str(item) for sublist in result for item in (sublist if isinstance(sublist, list) else [sublist])]\n",
        "        result_text = '\\n'.join(flat_result)\n",
        "\n",
        "        full_text += result_text + '\\n'\n",
        "    with open(txt_path, 'w', encoding='utf-8') as file:\n",
        "        file.write(full_text)\n",
        "\n",
        "\n",
        "\n",
        "pdf_to_txt_arabicocr('your directory', 'your directory')\n"
      ]
    },
    {
      "cell_type": "markdown",
      "metadata": {
        "id": "NWJcgGdDTRbD"
      },
      "source": [
        "#### Tesseract"
      ]
    },
    {
      "cell_type": "code",
      "execution_count": null,
      "metadata": {
        "id": "WRxBy5ERTSoY"
      },
      "outputs": [],
      "source": [
        "!apt-get install tesseract-ocr\n",
        "!apt-get install tesseract-ocr-ara\n"
      ]
    },
    {
      "cell_type": "code",
      "execution_count": null,
      "metadata": {
        "id": "_j47BC07TTJp"
      },
      "outputs": [],
      "source": [
        "pip install pytesseract pdf2image\n"
      ]
    },
    {
      "cell_type": "code",
      "execution_count": null,
      "metadata": {
        "id": "2cK6atBCT5D8"
      },
      "outputs": [],
      "source": [
        "!apt-get install -y poppler-utils\n"
      ]
    },
    {
      "cell_type": "code",
      "execution_count": null,
      "metadata": {
        "id": "hnoIV2gZTjWm"
      },
      "outputs": [],
      "source": [
        "from pdf2image import convert_from_path\n",
        "from PIL import Image, ImageEnhance, ImageFilter\n",
        "import pytesseract\n",
        "\n",
        "def arabic_ocr_using_pytesseract(pdf_path):\n",
        "    images = convert_from_path(pdf_path)\n",
        "\n",
        "    full_text = ''\n",
        "\n",
        "    for image in images:\n",
        "        image = image.convert('L')  \n",
        "        image = image.filter(ImageFilter.MedianFilter()) \n",
        "        enhancer = ImageEnhance.Contrast(image)\n",
        "        image = enhancer.enhance(2) \n",
        "        text = pytesseract.image_to_string(image, lang='ara')\n",
        "        full_text += text + '\\n'\n",
        "\n",
        "    return full_text"
      ]
    },
    {
      "cell_type": "code",
      "execution_count": null,
      "metadata": {
        "id": "XaGQPvkwTUPa"
      },
      "outputs": [],
      "source": [
        "def save_to_textfile(text, filename):\n",
        "    with open(filename, 'w', encoding='utf-8') as file:\n",
        "        file.write(text)\n",
        "\n",
        "\n",
        "extracted_text = arabic_ocr_using_pytesseract('your directory')"
      ]
    },
    {
      "cell_type": "code",
      "execution_count": null,
      "metadata": {
        "id": "Gbb4ScM8U05Z"
      },
      "outputs": [],
      "source": [
        "save_to_textfile(extracted_text, 'your directory')"
      ]
    },
    {
      "cell_type": "markdown",
      "metadata": {
        "id": "h5og8_lNdGh-"
      },
      "source": [
        "### Comparing Packages"
      ]
    },
    {
      "cell_type": "code",
      "execution_count": 5,
      "metadata": {
        "id": "e7SfyAgddIvs"
      },
      "outputs": [],
      "source": [
        "from sklearn.feature_extraction.text import TfidfVectorizer\n",
        "from sklearn.metrics.pairwise import cosine_similarity\n",
        "from nltk.translate.bleu_score import sentence_bleu\n",
        "import unicodedata\n",
        "\n",
        "def strip_arabic_diacritics(text):\n",
        "    return ''.join(\n",
        "        char for char in unicodedata.normalize('NFD', text)\n",
        "        if unicodedata.category(char) != 'Mn'\n",
        "    )\n",
        "\n",
        "def read_file(file_path):\n",
        "    with open(file_path, 'r', encoding='utf-8') as file:\n",
        "        content = file.read()\n",
        "        return strip_arabic_diacritics(content)\n",
        "\n",
        "def cosine_similarity_between_texts(text1, text2):\n",
        "    vectorizer = TfidfVectorizer()\n",
        "    tfidf_matrix = vectorizer.fit_transform([text1, text2])\n",
        "    return cosine_similarity(tfidf_matrix[0:1], tfidf_matrix[1:2])[0][0]\n",
        "\n",
        "def jaccard_similarity(text1, text2):\n",
        "    set1 = set(text1.split())\n",
        "    set2 = set(text2.split())\n",
        "    intersection = set1.intersection(set2)\n",
        "    union = set1.union(set2)\n",
        "    return len(intersection) / len(union)\n",
        "\n",
        "def levenshtein_distance(s1, s2):\n",
        "    if len(s1) > len(s2):\n",
        "        s1, s2 = s2, s1\n",
        "\n",
        "    distances = range(len(s1) + 1)\n",
        "    for index2, char2 in enumerate(s2):\n",
        "        new_distances = [index2 + 1]\n",
        "        for index1, char1 in enumerate(s1):\n",
        "            if char1 == char2:\n",
        "                new_distances.append(distances[index1])\n",
        "            else:\n",
        "                new_distances.append(1 + min((distances[index1], distances[index1 + 1], new_distances[-1])))\n",
        "        distances = new_distances\n",
        "\n",
        "    return distances[-1]\n",
        "\n",
        "def bleu_score(text1, text2):\n",
        "    reference = [text1.split()]\n",
        "    candidate = text2.split()\n",
        "    return sentence_bleu(reference, candidate)"
      ]
    },
    {
      "cell_type": "markdown",
      "metadata": {
        "id": "mJzVBDq9wrbI"
      },
      "source": [
        "#### PyPDF2 - Aligned"
      ]
    },
    {
      "cell_type": "code",
      "execution_count": 6,
      "metadata": {
        "colab": {
          "base_uri": "https://localhost:8080/"
        },
        "id": "E5HsYd8xwq14",
        "outputId": "dc50a5e1-d126-485f-a399-191c6ea06ef7"
      },
      "outputs": [
        {
          "name": "stdout",
          "output_type": "stream",
          "text": [
            "Cosine Similarity: 0.7935829637735287\n",
            "Jaccard Similarity: 0.4544378698224852\n",
            "Levenshtein Distance: 4496\n",
            "BLEU Score: 0.2855165099849011\n"
          ]
        }
      ],
      "source": [
        "reference_file = \"your directory\"\n",
        "output_file = \"your directory\"\n",
        "\n",
        "reference = read_file(reference_file)\n",
        "output = read_file(output_file)\n",
        "\n",
        "print(\"Cosine Similarity:\", cosine_similarity_between_texts(reference, output))\n",
        "print(\"Jaccard Similarity:\", jaccard_similarity(reference, output))\n",
        "print(\"Levenshtein Distance:\", levenshtein_distance(reference, output))\n",
        "print(\"BLEU Score:\", bleu_score(reference, output))\n"
      ]
    },
    {
      "cell_type": "markdown",
      "metadata": {
        "id": "fTKPk63ewvwv"
      },
      "source": [
        "#### Tesseract - Aligned"
      ]
    },
    {
      "cell_type": "code",
      "execution_count": 7,
      "metadata": {
        "colab": {
          "base_uri": "https://localhost:8080/"
        },
        "id": "16DgI3NJd5MJ",
        "outputId": "d13a1da2-8d15-42a0-e9d7-d32dfbaafeef"
      },
      "outputs": [
        {
          "name": "stdout",
          "output_type": "stream",
          "text": [
            "Cosine Similarity: 0.9251556232078532\n",
            "Jaccard Similarity: 0.5919055649241147\n",
            "Levenshtein Distance: 947\n",
            "BLEU Score: 0.5306926233594238\n"
          ]
        }
      ],
      "source": [
        "reference_file = \"your directory\"\n",
        "output_file = \"your directory\"\n",
        "\n",
        "reference = read_file(reference_file)\n",
        "output = read_file(output_file)\n",
        "\n",
        "print(\"Cosine Similarity:\", cosine_similarity_between_texts(reference, output))\n",
        "print(\"Jaccard Similarity:\", jaccard_similarity(reference, output))\n",
        "print(\"Levenshtein Distance:\", levenshtein_distance(reference, output))\n",
        "print(\"BLEU Score:\", bleu_score(reference, output))"
      ]
    },
    {
      "cell_type": "markdown",
      "metadata": {
        "id": "JDKYmnFSwyQ_"
      },
      "source": [
        "#### ArabicOCR - not aligned"
      ]
    },
    {
      "cell_type": "code",
      "execution_count": 8,
      "metadata": {
        "colab": {
          "base_uri": "https://localhost:8080/"
        },
        "id": "bVpzy8Y-e-yK",
        "outputId": "87eda067-6b1e-490d-975a-05d30754563a"
      },
      "outputs": [
        {
          "name": "stdout",
          "output_type": "stream",
          "text": [
            "Cosine Similarity: 0.3283041748889854\n",
            "Jaccard Similarity: 0.13228919032303174\n",
            "Levenshtein Distance: 90721\n",
            "BLEU Score: 0.06775391777365243\n"
          ]
        }
      ],
      "source": [
        "reference_file = \"your directory\"\n",
        "output_file = \"your directory\"\n",
        "\n",
        "reference = read_file(reference_file)\n",
        "output = read_file(output_file)\n",
        "\n",
        "print(\"Cosine Similarity:\", cosine_similarity_between_texts(reference, output))\n",
        "print(\"Jaccard Similarity:\", jaccard_similarity(reference, output))\n",
        "print(\"Levenshtein Distance:\", levenshtein_distance(reference, output))\n",
        "print(\"BLEU Score:\", bleu_score(reference, output))"
      ]
    },
    {
      "cell_type": "markdown",
      "metadata": {
        "id": "15BQ-39cw3Jq"
      },
      "source": [
        "#### EasyOCR - not aligned"
      ]
    },
    {
      "cell_type": "code",
      "execution_count": 9,
      "metadata": {
        "colab": {
          "base_uri": "https://localhost:8080/"
        },
        "id": "muZWKAhygAc0",
        "outputId": "0d75518b-0f0b-4b08-e303-94f0879de2be"
      },
      "outputs": [
        {
          "name": "stdout",
          "output_type": "stream",
          "text": [
            "Cosine Similarity: 0.9130973685715067\n",
            "Jaccard Similarity: 0.48565573770491804\n",
            "Levenshtein Distance: 11882\n",
            "BLEU Score: 0.2655351139480616\n"
          ]
        }
      ],
      "source": [
        "reference_file = \"your directory\"\n",
        "output_file = \"your directory\"\n",
        "\n",
        "reference = read_file(reference_file)\n",
        "output = read_file(output_file)\n",
        "\n",
        "print(\"Cosine Similarity:\", cosine_similarity_between_texts(reference, output))\n",
        "print(\"Jaccard Similarity:\", jaccard_similarity(reference, output))\n",
        "print(\"Levenshtein Distance:\", levenshtein_distance(reference, output))\n",
        "print(\"BLEU Score:\", bleu_score(reference, output))"
      ]
    },
    {
      "cell_type": "markdown",
      "metadata": {
        "id": "aN-vC_7jw590"
      },
      "source": [
        "#### PDFMiner - not aligned"
      ]
    },
    {
      "cell_type": "code",
      "execution_count": 10,
      "metadata": {
        "colab": {
          "base_uri": "https://localhost:8080/"
        },
        "id": "gNUOdvw9gEXn",
        "outputId": "f241a8f3-34ec-4c74-e7a6-b96ad9ca80e1"
      },
      "outputs": [
        {
          "name": "stdout",
          "output_type": "stream",
          "text": [
            "Cosine Similarity: 0.6121412758780899\n",
            "Jaccard Similarity: 0.23711755233494364\n",
            "Levenshtein Distance: 14921\n",
            "BLEU Score: 0.08431199759497457\n"
          ]
        }
      ],
      "source": [
        "reference_file = \"your directory\"\n",
        "output_file = \"your directory\"\n",
        "\n",
        "reference = read_file(reference_file)\n",
        "output = read_file(output_file)\n",
        "\n",
        "print(\"Cosine Similarity:\", cosine_similarity_between_texts(reference, output))\n",
        "print(\"Jaccard Similarity:\", jaccard_similarity(reference, output))\n",
        "print(\"Levenshtein Distance:\", levenshtein_distance(reference, output))\n",
        "print(\"BLEU Score:\", bleu_score(reference, output))"
      ]
    },
    {
      "cell_type": "markdown",
      "metadata": {
        "id": "Ftr0-FNsw93C"
      },
      "source": [
        "#### PyPDF2 - not aligned"
      ]
    },
    {
      "cell_type": "code",
      "execution_count": 11,
      "metadata": {
        "colab": {
          "base_uri": "https://localhost:8080/"
        },
        "id": "V57xy5IEluCD",
        "outputId": "9142f076-7bff-4cf5-9b2a-25a59eff4389"
      },
      "outputs": [
        {
          "name": "stdout",
          "output_type": "stream",
          "text": [
            "Cosine Similarity: 0.7815970032060438\n",
            "Jaccard Similarity: 0.410933081998115\n",
            "Levenshtein Distance: 61567\n",
            "BLEU Score: 0.08667143864764858\n"
          ]
        }
      ],
      "source": [
        "reference_file = \"your directory\"\n",
        "output_file = \"your directory\"\n",
        "\n",
        "reference = read_file(reference_file)\n",
        "output = read_file(output_file)\n",
        "\n",
        "print(\"Cosine Similarity:\", cosine_similarity_between_texts(reference, output))\n",
        "print(\"Jaccard Similarity:\", jaccard_similarity(reference, output))\n",
        "print(\"Levenshtein Distance:\", levenshtein_distance(reference, output))\n",
        "print(\"BLEU Score:\", bleu_score(reference, output))"
      ]
    },
    {
      "cell_type": "markdown",
      "metadata": {
        "id": "qsJbiSIwxBTD"
      },
      "source": [
        "#### Tesseract - not aligned"
      ]
    },
    {
      "cell_type": "code",
      "execution_count": 12,
      "metadata": {
        "colab": {
          "base_uri": "https://localhost:8080/"
        },
        "id": "SZum1up_ly5P",
        "outputId": "d8a7cfe7-7c58-428f-b8fa-100127b7600b"
      },
      "outputs": [
        {
          "name": "stdout",
          "output_type": "stream",
          "text": [
            "Cosine Similarity: 0.6543281479389381\n",
            "Jaccard Similarity: 0.4010036496350365\n",
            "Levenshtein Distance: 10273\n",
            "BLEU Score: 0.30086039319125396\n"
          ]
        }
      ],
      "source": [
        "reference_file = \"your directory\"\n",
        "output_file = \"your directory\"\n",
        "\n",
        "reference = read_file(reference_file)\n",
        "output = read_file(output_file)\n",
        "\n",
        "print(\"Cosine Similarity:\", cosine_similarity_between_texts(reference, output))\n",
        "print(\"Jaccard Similarity:\", jaccard_similarity(reference, output))\n",
        "print(\"Levenshtein Distance:\", levenshtein_distance(reference, output))\n",
        "print(\"BLEU Score:\", bleu_score(reference, output))"
      ]
    }
  ],
  "metadata": {
    "accelerator": "GPU",
    "colab": {
      "gpuType": "T4",
      "provenance": []
    },
    "kernelspec": {
      "display_name": "Python 3",
      "name": "python3"
    },
    "language_info": {
      "name": "python"
    }
  },
  "nbformat": 4,
  "nbformat_minor": 0
}
