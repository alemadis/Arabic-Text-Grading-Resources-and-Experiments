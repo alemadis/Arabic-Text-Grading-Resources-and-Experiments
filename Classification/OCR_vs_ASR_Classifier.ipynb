{
  "cells": [
    {
      "cell_type": "code",
      "execution_count": null,
      "metadata": {
        "colab": {
          "base_uri": "https://localhost:8080/"
        },
        "id": "OzVgW8kCepm8",
        "outputId": "ab7f75d2-26f9-4349-a174-bb74d81606e3"
      },
      "outputs": [
        {
          "name": "stdout",
          "output_type": "stream",
          "text": [
            "Mounted at /content/drive/\n"
          ]
        }
      ],
      "source": [
        "from google.colab import drive\n",
        "drive.mount('/content/drive/')"
      ]
    },
    {
      "cell_type": "code",
      "execution_count": null,
      "metadata": {
        "colab": {
          "base_uri": "https://localhost:8080/"
        },
        "id": "FNJM0cnce19Y",
        "outputId": "d00a84a0-d6e6-4d79-a609-dcbe70d101b0"
      },
      "outputs": [
        {
          "name": "stdout",
          "output_type": "stream",
          "text": [
            "Collecting farasapy\n",
            "  Downloading farasapy-0.0.14-py3-none-any.whl (11 kB)\n",
            "Requirement already satisfied: requests in /usr/local/lib/python3.10/dist-packages (from farasapy) (2.31.0)\n",
            "Requirement already satisfied: tqdm in /usr/local/lib/python3.10/dist-packages (from farasapy) (4.66.1)\n",
            "Requirement already satisfied: charset-normalizer<4,>=2 in /usr/local/lib/python3.10/dist-packages (from requests->farasapy) (3.2.0)\n",
            "Requirement already satisfied: idna<4,>=2.5 in /usr/local/lib/python3.10/dist-packages (from requests->farasapy) (3.4)\n",
            "Requirement already satisfied: urllib3<3,>=1.21.1 in /usr/local/lib/python3.10/dist-packages (from requests->farasapy) (2.0.4)\n",
            "Requirement already satisfied: certifi>=2017.4.17 in /usr/local/lib/python3.10/dist-packages (from requests->farasapy) (2023.7.22)\n",
            "Installing collected packages: farasapy\n",
            "Successfully installed farasapy-0.0.14\n"
          ]
        }
      ],
      "source": [
        "pip install farasapy"
      ]
    },
    {
      "cell_type": "code",
      "execution_count": null,
      "metadata": {
        "id": "kGWLnJaAe0GY"
      },
      "outputs": [],
      "source": [
        "import os\n",
        "import pandas as pd\n",
        "import string\n",
        "import numpy as np\n",
        "import re\n",
        "from nltk.corpus import stopwords\n",
        "from farasa.segmenter import FarasaSegmenter\n",
        "from farasa.stemmer import FarasaStemmer\n",
        "import pandas as pd\n",
        "import matplotlib.pyplot as plt"
      ]
    },
    {
      "cell_type": "markdown",
      "metadata": {
        "id": "SfQnqcA7e8fF"
      },
      "source": [
        "## Loading OCR dataset"
      ]
    },
    {
      "cell_type": "code",
      "execution_count": null,
      "metadata": {
        "colab": {
          "base_uri": "https://localhost:8080/"
        },
        "id": "uzCJMLGwe-Ra",
        "outputId": "e57db69a-3a33-427f-f4a4-7ca673fd43a5"
      },
      "outputs": [
        {
          "name": "stdout",
          "output_type": "stream",
          "text": [
            "               filename                                           sentence  \\\n",
            "0     G01_Sentences.txt  وهو كتاب بني على الطريقة الجامعة بين الطريقتين...   \n",
            "1     G01_Sentences.txt  ولا سيما نتاجات التعلم الهادفة إلى تعليم اللغة...   \n",
            "2     G01_Sentences.txt  يبدأ الكتاب بوحدة تمهيدية منوعة تراعي حاجات ال...   \n",
            "3     G01_Sentences.txt           وتحتوي على أنشطة وتدريبات ملائمة لحواس .   \n",
            "4     G01_Sentences.txt                           وفي طريقة تعلم الكتابة :   \n",
            "...                 ...                                                ...   \n",
            "5672  G12_Sentences.txt                                 14 نوفمير 1949 م .   \n",
            "5673  G12_Sentences.txt  المجلد 10 الجزء 40 , النادي الأدبي , 1422 ه , ...   \n",
            "5674  G12_Sentences.txt         49 ا موقع مكتب الاتصال الحكومي لدولة قطر .   \n",
            "5675  G12_Sentences.txt                 ١ موقع المجلس العلمي ( الألوية ) .   \n",
            "5676  G12_Sentences.txt  موقع البيئة العامة للاستعلامات المصرية » عدد 2...   \n",
            "\n",
            "     Grade  \n",
            "0      G01  \n",
            "1      G01  \n",
            "2      G01  \n",
            "3      G01  \n",
            "4      G01  \n",
            "...    ...  \n",
            "5672   G12  \n",
            "5673   G12  \n",
            "5674   G12  \n",
            "5675   G12  \n",
            "5676   G12  \n",
            "\n",
            "[5677 rows x 3 columns]\n"
          ]
        }
      ],
      "source": [
        "folder_path = 'your directory'\n",
        "\n",
        "data = []\n",
        "\n",
        "\n",
        "for filename in os.listdir(folder_path):\n",
        "    file_path = os.path.join(folder_path, filename)\n",
        "    with open(file_path, 'r') as f:\n",
        "      for line in f:\n",
        "        data.append({'filename': filename, 'sentence': line.strip()})\n",
        "\n",
        "df_ocr = pd.DataFrame(data)\n",
        "df_ocr['Grade'] = df_ocr['filename'].str[:3]\n",
        "print(df_ocr)"
      ]
    },
    {
      "cell_type": "code",
      "execution_count": null,
      "metadata": {
        "colab": {
          "base_uri": "https://localhost:8080/",
          "height": 564
        },
        "id": "BnUEH31Sfkqc",
        "outputId": "a30d7bb3-5236-4433-a671-cd683afef43c"
      },
      "outputs": [
        {
          "data": {
            "image/png": "[encoded data removed]",
            "text/plain": [
              "<Figure size 1200x600 with 1 Axes>"
            ]
          },
          "metadata": {},
          "output_type": "display_data"
        }
      ],
      "source": [
        "grade_counts = df_ocr.groupby('Grade').size()\n",
        "grade_counts\n",
        "plt.figure(figsize=(12, 6))  # Adjust the figure size if needed\n",
        "plt.bar(grade_counts.index, grade_counts.values)\n",
        "plt.xlabel('Grade')\n",
        "plt.ylabel('Frequency')\n",
        "plt.title('Class Distribution')\n",
        "plt.show()"
      ]
    },
    {
      "cell_type": "markdown",
      "metadata": {
        "id": "eTfZcev3ft-I"
      },
      "source": [
        "### Feature Extraction"
      ]
    },
    {
      "cell_type": "code",
      "execution_count": null,
      "metadata": {
        "id": "hR8Xs97efwJk"
      },
      "outputs": [],
      "source": [
        "def sentence_length(s):\n",
        "  s = s.split()\n",
        "  return len(s)\n",
        "\n",
        "df_ocr['sentence_length'] = df_ocr['sentence'].apply(lambda x: sentence_length(x))\n"
      ]
    },
    {
      "cell_type": "code",
      "execution_count": null,
      "metadata": {
        "colab": {
          "base_uri": "https://localhost:8080/"
        },
        "id": "okTfQgjif3Wy",
        "outputId": "43957be0-62cb-4fb9-9aca-6338091d3011"
      },
      "outputs": [
        {
          "name": "stdout",
          "output_type": "stream",
          "text": [
            "Grade\n",
            "G01    11.016129\n",
            "G04     9.827941\n",
            "G06    10.297333\n",
            "G09    10.415793\n",
            "G12    10.409949\n",
            "Name: sentence_length, dtype: float64\n"
          ]
        }
      ],
      "source": [
        "average_sent_length = df_ocr.groupby('Grade')['sentence_length'].mean()\n",
        "print(average_sent_length)"
      ]
    },
    {
      "cell_type": "code",
      "execution_count": null,
      "metadata": {
        "id": "E_y_OZTJf5Rs"
      },
      "outputs": [],
      "source": [
        "def average_word_length(s):\n",
        "  words = s.split()\n",
        "  total_length = 0\n",
        "  for word in words:\n",
        "    total_length += len(word)\n",
        "  if len(words) != 0:\n",
        "    return total_length/len(words)\n",
        "  else:\n",
        "    return 0\n",
        "df_ocr['average_word_length'] = df_ocr['sentence'].apply(lambda x: average_word_length(x))\n"
      ]
    },
    {
      "cell_type": "code",
      "execution_count": null,
      "metadata": {
        "colab": {
          "base_uri": "https://localhost:8080/"
        },
        "id": "aBjGRhoGf-Km",
        "outputId": "77f89b3e-88b2-4d28-a322-d059796b2f14"
      },
      "outputs": [
        {
          "name": "stdout",
          "output_type": "stream",
          "text": [
            "Grade\n",
            "G01    3.876825\n",
            "G04    3.865070\n",
            "G06    3.930864\n",
            "G09    3.992176\n",
            "G12    4.044438\n",
            "Name: average_word_length, dtype: float64\n"
          ]
        }
      ],
      "source": [
        "average_word_length = df_ocr.groupby('Grade')['average_word_length'].mean()\n",
        "print(average_word_length)"
      ]
    },
    {
      "cell_type": "code",
      "execution_count": null,
      "metadata": {
        "id": "dPVhbRa5gB4v"
      },
      "outputs": [],
      "source": [
        "def countLongWords(s):\n",
        "  sent = s.split()\n",
        "  count = 0\n",
        "  for word in sent:\n",
        "    if len(word) > 7:\n",
        "      count += 1\n",
        "  return count\n",
        "\n",
        "df_ocr['countLongWords'] = df_ocr['sentence'].apply(lambda x: countLongWords(x))\n"
      ]
    },
    {
      "cell_type": "code",
      "execution_count": null,
      "metadata": {
        "id": "G6JOKa0YgJ6P"
      },
      "outputs": [],
      "source": [
        "def countSegments(sentence):\n",
        "  return sentence.count(\"،\") + 1\n",
        "df_ocr['countSegments'] = df_ocr['sentence'].apply(lambda x: countSegments(x))\n"
      ]
    },
    {
      "cell_type": "code",
      "execution_count": null,
      "metadata": {
        "id": "b9XnDyMBgMBF"
      },
      "outputs": [],
      "source": [
        "# ------------------------------------------------------------------------------------------ Readability Scores --------------------------------------------------------------------------------\n",
        "def calculateFKGL(sentence):\n",
        "  totalWords = len(sentence.split())\n",
        "  totalSentences = countSegments(sentence)\n",
        "  totalLetters = 0\n",
        "  for word in sentence.split():\n",
        "    totalLetters += len(word)\n",
        "  FKGL = 0.39 * (totalWords / totalSentences) + 11.8 * (totalLetters / totalWords) - 15.59\n",
        "  return FKGL\n",
        "\n",
        "def countLongWords(sentence):\n",
        "  count = 0\n",
        "  sentence = sentence.split()\n",
        "  for word in sentence:\n",
        "    if len(word) > 8:\n",
        "      count += 1\n",
        "  return count\n",
        "\n",
        "def calculateGFI(sentence):\n",
        "  totalWords = len(sentence.split())\n",
        "  totalSentences = countSegments(sentence)\n",
        "  complexWords = countLongWords(sentence)\n",
        "  GFI = 0.4 * ((totalWords / totalSentences) + 100 * (complexWords / totalWords))\n",
        "  return GFI\n",
        "\n",
        "def calculateARI(sentence):\n",
        "  characters = 0\n",
        "  for word in sentence.split():\n",
        "    characters += len(word)\n",
        "  words = len(sentence.split())\n",
        "  sentences = countSegments(sentence)\n",
        "  ARI = 4.71 * (characters / words) + 0.5 * (words / sentences) - 21.43\n",
        "  return ARI\n",
        "\n",
        "def calculateTTR(sentence):\n",
        "  words = sentence.split()\n",
        "  uniqueWords = []\n",
        "  for word in words:\n",
        "    if word not in uniqueWords:\n",
        "      uniqueWords.append(word)\n",
        "  return len(uniqueWords)/len(words)"
      ]
    },
    {
      "cell_type": "code",
      "execution_count": null,
      "metadata": {
        "id": "_UkPnstJgbi1"
      },
      "outputs": [],
      "source": [
        "df_ocr['FKGL'] = df_ocr['sentence'].apply(lambda x: calculateFKGL(x))\n",
        "df_ocr['GFI'] = df_ocr['sentence'].apply(lambda x: calculateGFI(x))\n",
        "df_ocr['ARI'] = df_ocr['sentence'].apply(lambda x: calculateARI(x))\n",
        "df_ocr['TTR'] = df_ocr['sentence'].apply(lambda x: calculateTTR(x))"
      ]
    },
    {
      "cell_type": "code",
      "execution_count": null,
      "metadata": {
        "id": "6ZupzW0HgnkI"
      },
      "outputs": [],
      "source": [
        "# ------------------------------------------------------------------------------------------ Word/frequency Complexity --------------------------------------------------------------------------------\n",
        "\n",
        "wordFrequency = {}\n",
        "for sentence in df_ocr['sentence']:\n",
        "  words = sentence.split()\n",
        "  for word in words:\n",
        "    if word not in wordFrequency:\n",
        "      wordFrequency[word] = 1\n",
        "    else:\n",
        "      wordFrequency[word] += 1\n",
        "\n",
        "\n",
        "sorted_wordFrequency = sorted(wordFrequency, key=wordFrequency.get)\n",
        "\n",
        "import math\n",
        "\n",
        "complexity_scores = {}\n",
        "max_rank = len(sorted_wordFrequency)\n",
        "for rank, word in enumerate(sorted_wordFrequency):\n",
        "    scaled_score = 1 + 99 * (math.log(1 + rank) / math.log(max_rank + 1))  # Logarithmic scaling between 1 and 100\n",
        "    complexity_scores[word] = scaled_score\n",
        "\n",
        "def calculateComplexity(sentence, compDict):\n",
        "  words = sentence.split()\n",
        "  score = sum(complexity_scores.get(word, 1) for word in words)  # Default to 1 if word not found\n",
        "  if len(words) > 0:\n",
        "    normScore = score/len(words)\n",
        "  else:\n",
        "    normScore = 0\n",
        "  return normScore\n",
        "\n",
        "df_ocr['complexity'] = df_ocr['sentence'].apply(lambda x: calculateComplexity(x, complexity_scores))\n"
      ]
    },
    {
      "cell_type": "markdown",
      "metadata": {
        "id": "uMPCv17Yg4fK"
      },
      "source": [
        "### Feature Scalling"
      ]
    },
    {
      "cell_type": "code",
      "execution_count": null,
      "metadata": {
        "id": "PsWhW8u8g1du"
      },
      "outputs": [],
      "source": [
        "import numpy as np\n",
        "from sklearn.preprocessing import StandardScaler"
      ]
    },
    {
      "cell_type": "code",
      "execution_count": null,
      "metadata": {
        "id": "cBfX_Lncg9k8"
      },
      "outputs": [],
      "source": [
        "sentence_length = df_ocr['sentence_length'].values.reshape(-1, 1)  # Reshape to a 2D array\n",
        "average_word_length = df_ocr['average_word_length'].values.reshape(-1, 1)  # Reshape to a 2D array\n",
        "countLongWords = df_ocr['countLongWords'].values.reshape(-1, 1)  # Reshape to a 2D array\n",
        "countSegments = df_ocr['countSegments'].values.reshape(-1, 1)  # Reshape to a 2D array\n",
        "FKGL = df_ocr['FKGL'].values.reshape(-1, 1)  # Reshape to a 2D array\n",
        "GFI = df_ocr['GFI'].values.reshape(-1, 1)  # Reshape to a 2D array\n",
        "ARI = df_ocr['ARI'].values.reshape(-1, 1)  # Reshape to a 2D array\n",
        "TTR = df_ocr['TTR'].values.reshape(-1, 1)  # Reshape to a 2D array\n",
        "complexity = df_ocr['complexity'].values.reshape(-1, 1)  # Reshape to a 2D array"
      ]
    },
    {
      "cell_type": "code",
      "execution_count": null,
      "metadata": {
        "id": "zbrEE2unhFA_"
      },
      "outputs": [],
      "source": [
        "scaler = StandardScaler()\n",
        "z_transformed_sentence_length = scaler.fit_transform(sentence_length)\n",
        "z_transformed_average_word_length = scaler.fit_transform(average_word_length)\n",
        "z_transformed_countLongWords = scaler.fit_transform(countLongWords)\n",
        "z_transformed_countSegments = scaler.fit_transform(countSegments)\n",
        "z_transformed_FKGL = scaler.fit_transform(FKGL)\n",
        "z_transformed_GFI = scaler.fit_transform(GFI)\n",
        "z_transformed_ARI = scaler.fit_transform(ARI)\n",
        "z_transformed_TTR = scaler.fit_transform(TTR)\n",
        "z_transformed_complexity = scaler.fit_transform(complexity)"
      ]
    },
    {
      "cell_type": "code",
      "execution_count": null,
      "metadata": {
        "id": "9W8SGxl_hFnk"
      },
      "outputs": [],
      "source": [
        "df_ocr['sentence_length_transformed'] = z_transformed_sentence_length\n",
        "df_ocr['average_word_length_transformed'] = z_transformed_average_word_length\n",
        "df_ocr['countLongWords_transformed'] = z_transformed_countLongWords\n",
        "df_ocr['countSegments_transformed'] = z_transformed_countSegments\n",
        "df_ocr['FKGL_transformed'] = z_transformed_FKGL\n",
        "df_ocr['GFI_transformed'] = z_transformed_GFI\n",
        "df_ocr['ARI_transformed'] = z_transformed_ARI\n",
        "df_ocr['TTR_transformed'] = z_transformed_TTR\n",
        "df_ocr['complexity_transformed'] = z_transformed_complexity"
      ]
    },
    {
      "cell_type": "code",
      "execution_count": null,
      "metadata": {
        "colab": {
          "base_uri": "https://localhost:8080/",
          "height": 964
        },
        "id": "u4y_FdNhhNZs",
        "outputId": "313b5c76-9a7f-4107-d2cf-ad1aa5757ffb"
      },
      "outputs": [
        {
          "data": {
            "text/html": [
              "\n",
              "  <div id=\"df-5fc914b9-fd9c-4575-8378-fc6ac7ace41a\" class=\"colab-df-container\">\n",
              "    <div>\n",
              "<style scoped>\n",
              "    .dataframe tbody tr th:only-of-type {\n",
              "        vertical-align: middle;\n",
              "    }\n",
              "\n",
              "    .dataframe tbody tr th {\n",
              "        vertical-align: top;\n",
              "    }\n",
              "\n",
              "    .dataframe thead th {\n",
              "        text-align: right;\n",
              "    }\n",
              "</style>\n",
              "<table border=\"1\" class=\"dataframe\">\n",
              "  <thead>\n",
              "    <tr style=\"text-align: right;\">\n",
              "      <th></th>\n",
              "      <th>filename</th>\n",
              "      <th>sentence</th>\n",
              "      <th>Grade</th>\n",
              "      <th>sentence_length</th>\n",
              "      <th>average_word_length</th>\n",
              "      <th>countLongWords</th>\n",
              "      <th>countSegments</th>\n",
              "      <th>FKGL</th>\n",
              "      <th>GFI</th>\n",
              "      <th>ARI</th>\n",
              "      <th>...</th>\n",
              "      <th>complexity</th>\n",
              "      <th>sentence_length_transformed</th>\n",
              "      <th>average_word_length_transformed</th>\n",
              "      <th>countLongWords_transformed</th>\n",
              "      <th>countSegments_transformed</th>\n",
              "      <th>FKGL_transformed</th>\n",
              "      <th>GFI_transformed</th>\n",
              "      <th>ARI_transformed</th>\n",
              "      <th>TTR_transformed</th>\n",
              "      <th>complexity_transformed</th>\n",
              "    </tr>\n",
              "  </thead>\n",
              "  <tbody>\n",
              "    <tr>\n",
              "      <th>0</th>\n",
              "      <td>G01_Sentences.txt</td>\n",
              "      <td>وهو كتاب بني على الطريقة الجامعة بين الطريقتين...</td>\n",
              "      <td>G01</td>\n",
              "      <td>37</td>\n",
              "      <td>4.810811</td>\n",
              "      <td>2</td>\n",
              "      <td>1</td>\n",
              "      <td>55.607568</td>\n",
              "      <td>15.881081</td>\n",
              "      <td>19.728919</td>\n",
              "      <td>...</td>\n",
              "      <td>95.864485</td>\n",
              "      <td>4.147961</td>\n",
              "      <td>1.070088</td>\n",
              "      <td>1.372631</td>\n",
              "      <td>0.0</td>\n",
              "      <td>2.073397</td>\n",
              "      <td>3.289077</td>\n",
              "      <td>3.350555</td>\n",
              "      <td>-1.175865</td>\n",
              "      <td>-0.307947</td>\n",
              "    </tr>\n",
              "    <tr>\n",
              "      <th>1</th>\n",
              "      <td>G01_Sentences.txt</td>\n",
              "      <td>ولا سيما نتاجات التعلم الهادفة إلى تعليم اللغة...</td>\n",
              "      <td>G01</td>\n",
              "      <td>24</td>\n",
              "      <td>5.083333</td>\n",
              "      <td>3</td>\n",
              "      <td>1</td>\n",
              "      <td>53.753333</td>\n",
              "      <td>11.266667</td>\n",
              "      <td>14.512500</td>\n",
              "      <td>...</td>\n",
              "      <td>84.663145</td>\n",
              "      <td>2.125821</td>\n",
              "      <td>1.426653</td>\n",
              "      <td>2.357270</td>\n",
              "      <td>0.0</td>\n",
              "      <td>1.881656</td>\n",
              "      <td>1.904562</td>\n",
              "      <td>2.333536</td>\n",
              "      <td>0.402492</td>\n",
              "      <td>-3.630761</td>\n",
              "    </tr>\n",
              "    <tr>\n",
              "      <th>2</th>\n",
              "      <td>G01_Sentences.txt</td>\n",
              "      <td>يبدأ الكتاب بوحدة تمهيدية منوعة تراعي حاجات ال...</td>\n",
              "      <td>G01</td>\n",
              "      <td>18</td>\n",
              "      <td>5.444444</td>\n",
              "      <td>1</td>\n",
              "      <td>1</td>\n",
              "      <td>55.674444</td>\n",
              "      <td>9.422222</td>\n",
              "      <td>13.213333</td>\n",
              "      <td>...</td>\n",
              "      <td>72.592530</td>\n",
              "      <td>1.192526</td>\n",
              "      <td>1.899127</td>\n",
              "      <td>0.387993</td>\n",
              "      <td>0.0</td>\n",
              "      <td>2.080313</td>\n",
              "      <td>1.351152</td>\n",
              "      <td>2.080245</td>\n",
              "      <td>0.402492</td>\n",
              "      <td>-7.211440</td>\n",
              "    </tr>\n",
              "    <tr>\n",
              "      <th>3</th>\n",
              "      <td>G01_Sentences.txt</td>\n",
              "      <td>وتحتوي على أنشطة وتدريبات ملائمة لحواس .</td>\n",
              "      <td>G01</td>\n",
              "      <td>7</td>\n",
              "      <td>4.857143</td>\n",
              "      <td>1</td>\n",
              "      <td>1</td>\n",
              "      <td>44.454286</td>\n",
              "      <td>2.800000</td>\n",
              "      <td>4.947143</td>\n",
              "      <td>...</td>\n",
              "      <td>68.158298</td>\n",
              "      <td>-0.518516</td>\n",
              "      <td>1.130708</td>\n",
              "      <td>0.387993</td>\n",
              "      <td>0.0</td>\n",
              "      <td>0.920066</td>\n",
              "      <td>-0.635788</td>\n",
              "      <td>0.468628</td>\n",
              "      <td>0.402492</td>\n",
              "      <td>-8.526829</td>\n",
              "    </tr>\n",
              "    <tr>\n",
              "      <th>4</th>\n",
              "      <td>G01_Sentences.txt</td>\n",
              "      <td>وفي طريقة تعلم الكتابة :</td>\n",
              "      <td>G01</td>\n",
              "      <td>5</td>\n",
              "      <td>4.000000</td>\n",
              "      <td>0</td>\n",
              "      <td>1</td>\n",
              "      <td>33.560000</td>\n",
              "      <td>2.000000</td>\n",
              "      <td>-0.090000</td>\n",
              "      <td>...</td>\n",
              "      <td>99.711132</td>\n",
              "      <td>-0.829614</td>\n",
              "      <td>0.009232</td>\n",
              "      <td>-0.596645</td>\n",
              "      <td>0.0</td>\n",
              "      <td>-0.206482</td>\n",
              "      <td>-0.875821</td>\n",
              "      <td>-0.513439</td>\n",
              "      <td>0.402492</td>\n",
              "      <td>0.833139</td>\n",
              "    </tr>\n",
              "    <tr>\n",
              "      <th>...</th>\n",
              "      <td>...</td>\n",
              "      <td>...</td>\n",
              "      <td>...</td>\n",
              "      <td>...</td>\n",
              "      <td>...</td>\n",
              "      <td>...</td>\n",
              "      <td>...</td>\n",
              "      <td>...</td>\n",
              "      <td>...</td>\n",
              "      <td>...</td>\n",
              "      <td>...</td>\n",
              "      <td>...</td>\n",
              "      <td>...</td>\n",
              "      <td>...</td>\n",
              "      <td>...</td>\n",
              "      <td>...</td>\n",
              "      <td>...</td>\n",
              "      <td>...</td>\n",
              "      <td>...</td>\n",
              "      <td>...</td>\n",
              "      <td>...</td>\n",
              "    </tr>\n",
              "    <tr>\n",
              "      <th>5672</th>\n",
              "      <td>G12_Sentences.txt</td>\n",
              "      <td>14 نوفمير 1949 م .</td>\n",
              "      <td>G12</td>\n",
              "      <td>5</td>\n",
              "      <td>2.800000</td>\n",
              "      <td>0</td>\n",
              "      <td>1</td>\n",
              "      <td>19.400000</td>\n",
              "      <td>2.000000</td>\n",
              "      <td>-5.742000</td>\n",
              "      <td>...</td>\n",
              "      <td>98.472792</td>\n",
              "      <td>-0.829614</td>\n",
              "      <td>-1.560835</td>\n",
              "      <td>-0.596645</td>\n",
              "      <td>0.0</td>\n",
              "      <td>-1.670730</td>\n",
              "      <td>-0.875821</td>\n",
              "      <td>-1.615380</td>\n",
              "      <td>0.402492</td>\n",
              "      <td>0.465793</td>\n",
              "    </tr>\n",
              "    <tr>\n",
              "      <th>5673</th>\n",
              "      <td>G12_Sentences.txt</td>\n",
              "      <td>المجلد 10 الجزء 40 , النادي الأدبي , 1422 ه , ...</td>\n",
              "      <td>G12</td>\n",
              "      <td>13</td>\n",
              "      <td>3.000000</td>\n",
              "      <td>0</td>\n",
              "      <td>1</td>\n",
              "      <td>24.880000</td>\n",
              "      <td>5.200000</td>\n",
              "      <td>-0.800000</td>\n",
              "      <td>...</td>\n",
              "      <td>98.861363</td>\n",
              "      <td>0.414780</td>\n",
              "      <td>-1.299157</td>\n",
              "      <td>-0.596645</td>\n",
              "      <td>0.0</td>\n",
              "      <td>-1.104058</td>\n",
              "      <td>0.084311</td>\n",
              "      <td>-0.651864</td>\n",
              "      <td>-2.592339</td>\n",
              "      <td>0.581060</td>\n",
              "    </tr>\n",
              "    <tr>\n",
              "      <th>5674</th>\n",
              "      <td>G12_Sentences.txt</td>\n",
              "      <td>49 ا موقع مكتب الاتصال الحكومي لدولة قطر .</td>\n",
              "      <td>G12</td>\n",
              "      <td>9</td>\n",
              "      <td>3.777778</td>\n",
              "      <td>0</td>\n",
              "      <td>1</td>\n",
              "      <td>32.497778</td>\n",
              "      <td>3.600000</td>\n",
              "      <td>0.863333</td>\n",
              "      <td>...</td>\n",
              "      <td>98.880272</td>\n",
              "      <td>-0.207417</td>\n",
              "      <td>-0.281521</td>\n",
              "      <td>-0.596645</td>\n",
              "      <td>0.0</td>\n",
              "      <td>-0.316324</td>\n",
              "      <td>-0.395755</td>\n",
              "      <td>-0.327572</td>\n",
              "      <td>0.402492</td>\n",
              "      <td>0.586669</td>\n",
              "    </tr>\n",
              "    <tr>\n",
              "      <th>5675</th>\n",
              "      <td>G12_Sentences.txt</td>\n",
              "      <td>١ موقع المجلس العلمي ( الألوية ) .</td>\n",
              "      <td>G12</td>\n",
              "      <td>8</td>\n",
              "      <td>3.375000</td>\n",
              "      <td>0</td>\n",
              "      <td>1</td>\n",
              "      <td>27.355000</td>\n",
              "      <td>3.200000</td>\n",
              "      <td>-1.533750</td>\n",
              "      <td>...</td>\n",
              "      <td>99.135857</td>\n",
              "      <td>-0.362966</td>\n",
              "      <td>-0.808511</td>\n",
              "      <td>-0.596645</td>\n",
              "      <td>0.0</td>\n",
              "      <td>-0.848125</td>\n",
              "      <td>-0.515772</td>\n",
              "      <td>-0.794919</td>\n",
              "      <td>0.402492</td>\n",
              "      <td>0.662487</td>\n",
              "    </tr>\n",
              "    <tr>\n",
              "      <th>5676</th>\n",
              "      <td>G12_Sentences.txt</td>\n",
              "      <td>موقع البيئة العامة للاستعلامات المصرية » عدد 2...</td>\n",
              "      <td>G12</td>\n",
              "      <td>10</td>\n",
              "      <td>4.700000</td>\n",
              "      <td>1</td>\n",
              "      <td>1</td>\n",
              "      <td>43.770000</td>\n",
              "      <td>8.000000</td>\n",
              "      <td>5.707000</td>\n",
              "      <td>...</td>\n",
              "      <td>99.087555</td>\n",
              "      <td>-0.051868</td>\n",
              "      <td>0.925104</td>\n",
              "      <td>0.387993</td>\n",
              "      <td>0.0</td>\n",
              "      <td>0.849306</td>\n",
              "      <td>0.924427</td>\n",
              "      <td>0.616773</td>\n",
              "      <td>0.402492</td>\n",
              "      <td>0.648159</td>\n",
              "    </tr>\n",
              "  </tbody>\n",
              "</table>\n",
              "<p>5677 rows × 21 columns</p>\n",
              "</div>\n",
              "    <div class=\"colab-df-buttons\">\n",
              "\n",
              "  <div class=\"colab-df-container\">\n",
              "    <button class=\"colab-df-convert\" onclick=\"convertToInteractive('df-5fc914b9-fd9c-4575-8378-fc6ac7ace41a')\"\n",
              "            title=\"Convert this dataframe to an interactive table.\"\n",
              "            style=\"display:none;\">\n",
              "\n",
              "  <svg xmlns=\"http://www.w3.org/2000/svg\" height=\"24px\" viewBox=\"0 -960 960 960\">\n",
              "    <path d=\"M120-120v-720h720v720H120Zm60-500h600v-160H180v160Zm220 220h160v-160H400v160Zm0 220h160v-160H400v160ZM180-400h160v-160H180v160Zm440 0h160v-160H620v160ZM180-180h160v-160H180v160Zm440 0h160v-160H620v160Z\"/>\n",
              "  </svg>\n",
              "    </button>\n",
              "\n",
              "  <style>\n",
              "    .colab-df-container {\n",
              "      display:flex;\n",
              "      gap: 12px;\n",
              "    }\n",
              "\n",
              "    .colab-df-convert {\n",
              "      background-color: #E8F0FE;\n",
              "      border: none;\n",
              "      border-radius: 50%;\n",
              "      cursor: pointer;\n",
              "      display: none;\n",
              "      fill: #1967D2;\n",
              "      height: 32px;\n",
              "      padding: 0 0 0 0;\n",
              "      width: 32px;\n",
              "    }\n",
              "\n",
              "    .colab-df-convert:hover {\n",
              "      background-color: #E2EBFA;\n",
              "      box-shadow: 0px 1px 2px rgba(60, 64, 67, 0.3), 0px 1px 3px 1px rgba(60, 64, 67, 0.15);\n",
              "      fill: #174EA6;\n",
              "    }\n",
              "\n",
              "    .colab-df-buttons div {\n",
              "      margin-bottom: 4px;\n",
              "    }\n",
              "\n",
              "    [theme=dark] .colab-df-convert {\n",
              "      background-color: #3B4455;\n",
              "      fill: #D2E3FC;\n",
              "    }\n",
              "\n",
              "    [theme=dark] .colab-df-convert:hover {\n",
              "      background-color: #434B5C;\n",
              "      box-shadow: 0px 1px 3px 1px rgba(0, 0, 0, 0.15);\n",
              "      filter: drop-shadow(0px 1px 2px rgba(0, 0, 0, 0.3));\n",
              "      fill: #FFFFFF;\n",
              "    }\n",
              "  </style>\n",
              "\n",
              "    <script>\n",
              "      const buttonEl =\n",
              "        document.querySelector('#df-5fc914b9-fd9c-4575-8378-fc6ac7ace41a button.colab-df-convert');\n",
              "      buttonEl.style.display =\n",
              "        google.colab.kernel.accessAllowed ? 'block' : 'none';\n",
              "\n",
              "      async function convertToInteractive(key) {\n",
              "        const element = document.querySelector('#df-5fc914b9-fd9c-4575-8378-fc6ac7ace41a');\n",
              "        const dataTable =\n",
              "          await google.colab.kernel.invokeFunction('convertToInteractive',\n",
              "                                                    [key], {});\n",
              "        if (!dataTable) return;\n",
              "\n",
              "        const docLinkHtml = 'Like what you see? Visit the ' +\n",
              "          '<a target=\"_blank\" href=https://colab.research.google.com/notebooks/data_table.ipynb>data table notebook</a>'\n",
              "          + ' to learn more about interactive tables.';\n",
              "        element.innerHTML = '';\n",
              "        dataTable['output_type'] = 'display_data';\n",
              "        await google.colab.output.renderOutput(dataTable, element);\n",
              "        const docLink = document.createElement('div');\n",
              "        docLink.innerHTML = docLinkHtml;\n",
              "        element.appendChild(docLink);\n",
              "      }\n",
              "    </script>\n",
              "  </div>\n",
              "\n",
              "\n",
              "<div id=\"df-fcf4416c-b445-4629-bc0a-6718cba473c1\">\n",
              "  <button class=\"colab-df-quickchart\" onclick=\"quickchart('df-fcf4416c-b445-4629-bc0a-6718cba473c1')\"\n",
              "            title=\"Suggest charts.\"\n",
              "            style=\"display:none;\">\n",
              "\n",
              "<svg xmlns=\"http://www.w3.org/2000/svg\" height=\"24px\"viewBox=\"0 0 24 24\"\n",
              "     width=\"24px\">\n",
              "    <g>\n",
              "        <path d=\"M19 3H5c-1.1 0-2 .9-2 2v14c0 1.1.9 2 2 2h14c1.1 0 2-.9 2-2V5c0-1.1-.9-2-2-2zM9 17H7v-7h2v7zm4 0h-2V7h2v10zm4 0h-2v-4h2v4z\"/>\n",
              "    </g>\n",
              "</svg>\n",
              "  </button>\n",
              "\n",
              "<style>\n",
              "  .colab-df-quickchart {\n",
              "      --bg-color: #E8F0FE;\n",
              "      --fill-color: #1967D2;\n",
              "      --hover-bg-color: #E2EBFA;\n",
              "      --hover-fill-color: #174EA6;\n",
              "      --disabled-fill-color: #AAA;\n",
              "      --disabled-bg-color: #DDD;\n",
              "  }\n",
              "\n",
              "  [theme=dark] .colab-df-quickchart {\n",
              "      --bg-color: #3B4455;\n",
              "      --fill-color: #D2E3FC;\n",
              "      --hover-bg-color: #434B5C;\n",
              "      --hover-fill-color: #FFFFFF;\n",
              "      --disabled-bg-color: #3B4455;\n",
              "      --disabled-fill-color: #666;\n",
              "  }\n",
              "\n",
              "  .colab-df-quickchart {\n",
              "    background-color: var(--bg-color);\n",
              "    border: none;\n",
              "    border-radius: 50%;\n",
              "    cursor: pointer;\n",
              "    display: none;\n",
              "    fill: var(--fill-color);\n",
              "    height: 32px;\n",
              "    padding: 0;\n",
              "    width: 32px;\n",
              "  }\n",
              "\n",
              "  .colab-df-quickchart:hover {\n",
              "    background-color: var(--hover-bg-color);\n",
              "    box-shadow: 0 1px 2px rgba(60, 64, 67, 0.3), 0 1px 3px 1px rgba(60, 64, 67, 0.15);\n",
              "    fill: var(--button-hover-fill-color);\n",
              "  }\n",
              "\n",
              "  .colab-df-quickchart-complete:disabled,\n",
              "  .colab-df-quickchart-complete:disabled:hover {\n",
              "    background-color: var(--disabled-bg-color);\n",
              "    fill: var(--disabled-fill-color);\n",
              "    box-shadow: none;\n",
              "  }\n",
              "\n",
              "  .colab-df-spinner {\n",
              "    border: 2px solid var(--fill-color);\n",
              "    border-color: transparent;\n",
              "    border-bottom-color: var(--fill-color);\n",
              "    animation:\n",
              "      spin 1s steps(1) infinite;\n",
              "  }\n",
              "\n",
              "  @keyframes spin {\n",
              "    0% {\n",
              "      border-color: transparent;\n",
              "      border-bottom-color: var(--fill-color);\n",
              "      border-left-color: var(--fill-color);\n",
              "    }\n",
              "    20% {\n",
              "      border-color: transparent;\n",
              "      border-left-color: var(--fill-color);\n",
              "      border-top-color: var(--fill-color);\n",
              "    }\n",
              "    30% {\n",
              "      border-color: transparent;\n",
              "      border-left-color: var(--fill-color);\n",
              "      border-top-color: var(--fill-color);\n",
              "      border-right-color: var(--fill-color);\n",
              "    }\n",
              "    40% {\n",
              "      border-color: transparent;\n",
              "      border-right-color: var(--fill-color);\n",
              "      border-top-color: var(--fill-color);\n",
              "    }\n",
              "    60% {\n",
              "      border-color: transparent;\n",
              "      border-right-color: var(--fill-color);\n",
              "    }\n",
              "    80% {\n",
              "      border-color: transparent;\n",
              "      border-right-color: var(--fill-color);\n",
              "      border-bottom-color: var(--fill-color);\n",
              "    }\n",
              "    90% {\n",
              "      border-color: transparent;\n",
              "      border-bottom-color: var(--fill-color);\n",
              "    }\n",
              "  }\n",
              "</style>\n",
              "\n",
              "  <script>\n",
              "    async function quickchart(key) {\n",
              "      const quickchartButtonEl =\n",
              "        document.querySelector('#' + key + ' button');\n",
              "      quickchartButtonEl.disabled = true;  // To prevent multiple clicks.\n",
              "      quickchartButtonEl.classList.add('colab-df-spinner');\n",
              "      try {\n",
              "        const charts = await google.colab.kernel.invokeFunction(\n",
              "            'suggestCharts', [key], {});\n",
              "      } catch (error) {\n",
              "        console.error('Error during call to suggestCharts:', error);\n",
              "      }\n",
              "      quickchartButtonEl.classList.remove('colab-df-spinner');\n",
              "      quickchartButtonEl.classList.add('colab-df-quickchart-complete');\n",
              "    }\n",
              "    (() => {\n",
              "      let quickchartButtonEl =\n",
              "        document.querySelector('#df-fcf4416c-b445-4629-bc0a-6718cba473c1 button');\n",
              "      quickchartButtonEl.style.display =\n",
              "        google.colab.kernel.accessAllowed ? 'block' : 'none';\n",
              "    })();\n",
              "  </script>\n",
              "</div>\n",
              "    </div>\n",
              "  </div>\n"
            ],
            "text/plain": [
              "               filename                                           sentence  \\\n",
              "0     G01_Sentences.txt  وهو كتاب بني على الطريقة الجامعة بين الطريقتين...   \n",
              "1     G01_Sentences.txt  ولا سيما نتاجات التعلم الهادفة إلى تعليم اللغة...   \n",
              "2     G01_Sentences.txt  يبدأ الكتاب بوحدة تمهيدية منوعة تراعي حاجات ال...   \n",
              "3     G01_Sentences.txt           وتحتوي على أنشطة وتدريبات ملائمة لحواس .   \n",
              "4     G01_Sentences.txt                           وفي طريقة تعلم الكتابة :   \n",
              "...                 ...                                                ...   \n",
              "5672  G12_Sentences.txt                                 14 نوفمير 1949 م .   \n",
              "5673  G12_Sentences.txt  المجلد 10 الجزء 40 , النادي الأدبي , 1422 ه , ...   \n",
              "5674  G12_Sentences.txt         49 ا موقع مكتب الاتصال الحكومي لدولة قطر .   \n",
              "5675  G12_Sentences.txt                 ١ موقع المجلس العلمي ( الألوية ) .   \n",
              "5676  G12_Sentences.txt  موقع البيئة العامة للاستعلامات المصرية » عدد 2...   \n",
              "\n",
              "     Grade  sentence_length  average_word_length  countLongWords  \\\n",
              "0      G01               37             4.810811               2   \n",
              "1      G01               24             5.083333               3   \n",
              "2      G01               18             5.444444               1   \n",
              "3      G01                7             4.857143               1   \n",
              "4      G01                5             4.000000               0   \n",
              "...    ...              ...                  ...             ...   \n",
              "5672   G12                5             2.800000               0   \n",
              "5673   G12               13             3.000000               0   \n",
              "5674   G12                9             3.777778               0   \n",
              "5675   G12                8             3.375000               0   \n",
              "5676   G12               10             4.700000               1   \n",
              "\n",
              "      countSegments       FKGL        GFI        ARI  ...  complexity  \\\n",
              "0                 1  55.607568  15.881081  19.728919  ...   95.864485   \n",
              "1                 1  53.753333  11.266667  14.512500  ...   84.663145   \n",
              "2                 1  55.674444   9.422222  13.213333  ...   72.592530   \n",
              "3                 1  44.454286   2.800000   4.947143  ...   68.158298   \n",
              "4                 1  33.560000   2.000000  -0.090000  ...   99.711132   \n",
              "...             ...        ...        ...        ...  ...         ...   \n",
              "5672              1  19.400000   2.000000  -5.742000  ...   98.472792   \n",
              "5673              1  24.880000   5.200000  -0.800000  ...   98.861363   \n",
              "5674              1  32.497778   3.600000   0.863333  ...   98.880272   \n",
              "5675              1  27.355000   3.200000  -1.533750  ...   99.135857   \n",
              "5676              1  43.770000   8.000000   5.707000  ...   99.087555   \n",
              "\n",
              "      sentence_length_transformed  average_word_length_transformed  \\\n",
              "0                        4.147961                         1.070088   \n",
              "1                        2.125821                         1.426653   \n",
              "2                        1.192526                         1.899127   \n",
              "3                       -0.518516                         1.130708   \n",
              "4                       -0.829614                         0.009232   \n",
              "...                           ...                              ...   \n",
              "5672                    -0.829614                        -1.560835   \n",
              "5673                     0.414780                        -1.299157   \n",
              "5674                    -0.207417                        -0.281521   \n",
              "5675                    -0.362966                        -0.808511   \n",
              "5676                    -0.051868                         0.925104   \n",
              "\n",
              "      countLongWords_transformed  countSegments_transformed  FKGL_transformed  \\\n",
              "0                       1.372631                        0.0          2.073397   \n",
              "1                       2.357270                        0.0          1.881656   \n",
              "2                       0.387993                        0.0          2.080313   \n",
              "3                       0.387993                        0.0          0.920066   \n",
              "4                      -0.596645                        0.0         -0.206482   \n",
              "...                          ...                        ...               ...   \n",
              "5672                   -0.596645                        0.0         -1.670730   \n",
              "5673                   -0.596645                        0.0         -1.104058   \n",
              "5674                   -0.596645                        0.0         -0.316324   \n",
              "5675                   -0.596645                        0.0         -0.848125   \n",
              "5676                    0.387993                        0.0          0.849306   \n",
              "\n",
              "      GFI_transformed  ARI_transformed  TTR_transformed  \\\n",
              "0            3.289077         3.350555        -1.175865   \n",
              "1            1.904562         2.333536         0.402492   \n",
              "2            1.351152         2.080245         0.402492   \n",
              "3           -0.635788         0.468628         0.402492   \n",
              "4           -0.875821        -0.513439         0.402492   \n",
              "...               ...              ...              ...   \n",
              "5672        -0.875821        -1.615380         0.402492   \n",
              "5673         0.084311        -0.651864        -2.592339   \n",
              "5674        -0.395755        -0.327572         0.402492   \n",
              "5675        -0.515772        -0.794919         0.402492   \n",
              "5676         0.924427         0.616773         0.402492   \n",
              "\n",
              "      complexity_transformed  \n",
              "0                  -0.307947  \n",
              "1                  -3.630761  \n",
              "2                  -7.211440  \n",
              "3                  -8.526829  \n",
              "4                   0.833139  \n",
              "...                      ...  \n",
              "5672                0.465793  \n",
              "5673                0.581060  \n",
              "5674                0.586669  \n",
              "5675                0.662487  \n",
              "5676                0.648159  \n",
              "\n",
              "[5677 rows x 21 columns]"
            ]
          },
          "execution_count": 27,
          "metadata": {},
          "output_type": "execute_result"
        }
      ],
      "source": [
        "df_ocr"
      ]
    },
    {
      "cell_type": "markdown",
      "metadata": {
        "id": "-u9cGulthUJ0"
      },
      "source": [
        "### Models - OCR"
      ]
    },
    {
      "cell_type": "code",
      "execution_count": null,
      "metadata": {
        "id": "1ve5S-lNA5TD"
      },
      "outputs": [],
      "source": [
        "from sklearn.model_selection import train_test_split\n",
        "from sklearn.metrics import accuracy_score, classification_report"
      ]
    },
    {
      "cell_type": "code",
      "execution_count": null,
      "metadata": {
        "id": "mATh1FLt5kzL"
      },
      "outputs": [],
      "source": [
        "X = df_ocr[['sentence_length_transformed', 'average_word_length_transformed', 'countSegments', 'FKGL_transformed', 'GFI_transformed', 'ARI_transformed', 'TTR_transformed', 'complexity_transformed']]\n",
        "#X = df[['sentence_length', 'average_word_length', 'countSegments', 'FKGL', 'GFI', 'ARI', 'TTR', 'complexity']]\n",
        "y = df_ocr['Grade']"
      ]
    },
    {
      "cell_type": "code",
      "execution_count": null,
      "metadata": {
        "id": "5FSqYqB-6AQ0"
      },
      "outputs": [],
      "source": [
        "X_train, X_test, y_train, y_test = train_test_split(X, y, test_size=0.2, random_state=42)"
      ]
    },
    {
      "cell_type": "code",
      "execution_count": null,
      "metadata": {
        "colab": {
          "base_uri": "https://localhost:8080/"
        },
        "id": "8UUknVXWWfF-",
        "outputId": "2022e74b-9da7-4d3d-d69d-8e9a57a9431b"
      },
      "outputs": [
        {
          "data": {
            "text/plain": [
              "(4541,)"
            ]
          },
          "execution_count": 59,
          "metadata": {},
          "output_type": "execute_result"
        }
      ],
      "source": [
        "y_train.shape"
      ]
    },
    {
      "cell_type": "markdown",
      "metadata": {
        "id": "noOWpuOu9eQL"
      },
      "source": [
        "#### Logistic regression"
      ]
    },
    {
      "cell_type": "code",
      "execution_count": null,
      "metadata": {
        "id": "NQ9TvPgI8QTU"
      },
      "outputs": [],
      "source": [
        "from sklearn.feature_extraction.text import CountVectorizer\n",
        "from sklearn.linear_model import LogisticRegression"
      ]
    },
    {
      "cell_type": "code",
      "execution_count": null,
      "metadata": {
        "id": "7rryRv7N9o8Z"
      },
      "outputs": [],
      "source": [
        "classifier = LogisticRegression(max_iter=1000, random_state=42)\n",
        "classifier.fit(X_train, y_train)\n",
        "\n",
        "# Make predictions on the testing set\n",
        "predictions = classifier.predict(X_test)"
      ]
    },
    {
      "cell_type": "code",
      "execution_count": null,
      "metadata": {
        "colab": {
          "base_uri": "https://localhost:8080/"
        },
        "id": "DS3W0Nr_-FhQ",
        "outputId": "d59268f8-d0ca-4b57-de5c-d29c7df658f7"
      },
      "outputs": [
        {
          "data": {
            "text/plain": [
              "array(['G12', 'G06', 'G12', ..., 'G12', 'G12', 'G12'], dtype=object)"
            ]
          },
          "execution_count": 34,
          "metadata": {},
          "output_type": "execute_result"
        }
      ],
      "source": [
        "predictions"
      ]
    },
    {
      "cell_type": "code",
      "execution_count": null,
      "metadata": {
        "colab": {
          "base_uri": "https://localhost:8080/"
        },
        "id": "QLSW9uUf-S2p",
        "outputId": "b9f0435d-e6da-49e5-e6aa-58d104dfa0de"
      },
      "outputs": [
        {
          "name": "stdout",
          "output_type": "stream",
          "text": [
            "Accuracy: 0.5669014084507042\n"
          ]
        }
      ],
      "source": [
        "accuracy = accuracy_score(y_test, predictions)\n",
        "print(\"Accuracy:\", accuracy)"
      ]
    },
    {
      "cell_type": "markdown",
      "metadata": {
        "id": "s6ORJVZZ6pe3"
      },
      "source": [
        "#### SVM"
      ]
    },
    {
      "cell_type": "code",
      "execution_count": null,
      "metadata": {
        "id": "JAfQI7Vl6pe4"
      },
      "outputs": [],
      "source": [
        "from sklearn.svm import SVC\n"
      ]
    },
    {
      "cell_type": "code",
      "execution_count": null,
      "metadata": {
        "id": "_3tmi-P76pe5"
      },
      "outputs": [],
      "source": [
        "space_vector = SVC().fit(X_train, y_train)\n",
        "svm_predictions = space_vector.predict(X_test)"
      ]
    },
    {
      "cell_type": "code",
      "execution_count": null,
      "metadata": {
        "colab": {
          "base_uri": "https://localhost:8080/"
        },
        "id": "XjFa5RbS6pe5",
        "outputId": "45c93bdd-4aae-4f96-e247-e3bfc514c5d6"
      },
      "outputs": [
        {
          "data": {
            "text/plain": [
              "array(['G09', 'G06', 'G12', ..., 'G12', 'G12', 'G12'], dtype=object)"
            ]
          },
          "execution_count": 63,
          "metadata": {},
          "output_type": "execute_result"
        }
      ],
      "source": [
        "svm_predictions"
      ]
    },
    {
      "cell_type": "code",
      "execution_count": null,
      "metadata": {
        "colab": {
          "base_uri": "https://localhost:8080/"
        },
        "id": "Bk3IpDe96pe5",
        "outputId": "e70a73f0-5121-483f-85a8-77d0eda5e9b9"
      },
      "outputs": [
        {
          "name": "stdout",
          "output_type": "stream",
          "text": [
            "Accuracy: 0.5616197183098591\n"
          ]
        }
      ],
      "source": [
        "accuracy = accuracy_score(y_test, svm_predictions)\n",
        "print(\"Accuracy:\", accuracy)"
      ]
    },
    {
      "cell_type": "markdown",
      "metadata": {
        "id": "TgAa3WRp9bw-"
      },
      "source": [
        "#### Decision tree"
      ]
    },
    {
      "cell_type": "code",
      "execution_count": null,
      "metadata": {
        "colab": {
          "base_uri": "https://localhost:8080/",
          "height": 74
        },
        "id": "pMWWoB9X6Kas",
        "outputId": "6dc93871-0280-4903-fbd6-331e9ddc781d"
      },
      "outputs": [
        {
          "data": {
            "text/html": [
              "<style>#sk-container-id-1 {color: black;background-color: white;}#sk-container-id-1 pre{padding: 0;}#sk-container-id-1 div.sk-toggleable {background-color: white;}#sk-container-id-1 label.sk-toggleable__label {cursor: pointer;display: block;width: 100%;margin-bottom: 0;padding: 0.3em;box-sizing: border-box;text-align: center;}#sk-container-id-1 label.sk-toggleable__label-arrow:before {content: \"▸\";float: left;margin-right: 0.25em;color: #696969;}#sk-container-id-1 label.sk-toggleable__label-arrow:hover:before {color: black;}#sk-container-id-1 div.sk-estimator:hover label.sk-toggleable__label-arrow:before {color: black;}#sk-container-id-1 div.sk-toggleable__content {max-height: 0;max-width: 0;overflow: hidden;text-align: left;background-color: #f0f8ff;}#sk-container-id-1 div.sk-toggleable__content pre {margin: 0.2em;color: black;border-radius: 0.25em;background-color: #f0f8ff;}#sk-container-id-1 input.sk-toggleable__control:checked~div.sk-toggleable__content {max-height: 200px;max-width: 100%;overflow: auto;}#sk-container-id-1 input.sk-toggleable__control:checked~label.sk-toggleable__label-arrow:before {content: \"▾\";}#sk-container-id-1 div.sk-estimator input.sk-toggleable__control:checked~label.sk-toggleable__label {background-color: #d4ebff;}#sk-container-id-1 div.sk-label input.sk-toggleable__control:checked~label.sk-toggleable__label {background-color: #d4ebff;}#sk-container-id-1 input.sk-hidden--visually {border: 0;clip: rect(1px 1px 1px 1px);clip: rect(1px, 1px, 1px, 1px);height: 1px;margin: -1px;overflow: hidden;padding: 0;position: absolute;width: 1px;}#sk-container-id-1 div.sk-estimator {font-family: monospace;background-color: #f0f8ff;border: 1px dotted black;border-radius: 0.25em;box-sizing: border-box;margin-bottom: 0.5em;}#sk-container-id-1 div.sk-estimator:hover {background-color: #d4ebff;}#sk-container-id-1 div.sk-parallel-item::after {content: \"\";width: 100%;border-bottom: 1px solid gray;flex-grow: 1;}#sk-container-id-1 div.sk-label:hover label.sk-toggleable__label {background-color: #d4ebff;}#sk-container-id-1 div.sk-serial::before {content: \"\";position: absolute;border-left: 1px solid gray;box-sizing: border-box;top: 0;bottom: 0;left: 50%;z-index: 0;}#sk-container-id-1 div.sk-serial {display: flex;flex-direction: column;align-items: center;background-color: white;padding-right: 0.2em;padding-left: 0.2em;position: relative;}#sk-container-id-1 div.sk-item {position: relative;z-index: 1;}#sk-container-id-1 div.sk-parallel {display: flex;align-items: stretch;justify-content: center;background-color: white;position: relative;}#sk-container-id-1 div.sk-item::before, #sk-container-id-1 div.sk-parallel-item::before {content: \"\";position: absolute;border-left: 1px solid gray;box-sizing: border-box;top: 0;bottom: 0;left: 50%;z-index: -1;}#sk-container-id-1 div.sk-parallel-item {display: flex;flex-direction: column;z-index: 1;position: relative;background-color: white;}#sk-container-id-1 div.sk-parallel-item:first-child::after {align-self: flex-end;width: 50%;}#sk-container-id-1 div.sk-parallel-item:last-child::after {align-self: flex-start;width: 50%;}#sk-container-id-1 div.sk-parallel-item:only-child::after {width: 0;}#sk-container-id-1 div.sk-dashed-wrapped {border: 1px dashed gray;margin: 0 0.4em 0.5em 0.4em;box-sizing: border-box;padding-bottom: 0.4em;background-color: white;}#sk-container-id-1 div.sk-label label {font-family: monospace;font-weight: bold;display: inline-block;line-height: 1.2em;}#sk-container-id-1 div.sk-label-container {text-align: center;}#sk-container-id-1 div.sk-container {/* jupyter's `normalize.less` sets `[hidden] { display: none; }` but bootstrap.min.css set `[hidden] { display: none !important; }` so we also need the `!important` here to be able to override the default hidden behavior on the sphinx rendered scikit-learn.org. See: https://github.com/scikit-learn/scikit-learn/issues/21755 */display: inline-block !important;position: relative;}#sk-container-id-1 div.sk-text-repr-fallback {display: none;}</style><div id=\"sk-container-id-1\" class=\"sk-top-container\"><div class=\"sk-text-repr-fallback\"><pre>DecisionTreeClassifier(random_state=42)</pre><b>In a Jupyter environment, please rerun this cell to show the HTML representation or trust the notebook. <br />On GitHub, the HTML representation is unable to render, please try loading this page with nbviewer.org.</b></div><div class=\"sk-container\" hidden><div class=\"sk-item\"><div class=\"sk-estimator sk-toggleable\"><input class=\"sk-toggleable__control sk-hidden--visually\" id=\"sk-estimator-id-1\" type=\"checkbox\" checked><label for=\"sk-estimator-id-1\" class=\"sk-toggleable__label sk-toggleable__label-arrow\">DecisionTreeClassifier</label><div class=\"sk-toggleable__content\"><pre>DecisionTreeClassifier(random_state=42)</pre></div></div></div></div></div>"
            ],
            "text/plain": [
              "DecisionTreeClassifier(random_state=42)"
            ]
          },
          "execution_count": 36,
          "metadata": {},
          "output_type": "execute_result"
        }
      ],
      "source": [
        "from sklearn.tree import DecisionTreeClassifier\n",
        "classifier = DecisionTreeClassifier(random_state=42)\n",
        "classifier.fit(X_train, y_train)"
      ]
    },
    {
      "cell_type": "code",
      "execution_count": null,
      "metadata": {
        "id": "9Dgq7qPs6TN9"
      },
      "outputs": [],
      "source": [
        "predictions = classifier.predict(X_test)"
      ]
    },
    {
      "cell_type": "code",
      "execution_count": null,
      "metadata": {
        "colab": {
          "base_uri": "https://localhost:8080/"
        },
        "id": "Jfs5fuW58W48",
        "outputId": "a405ad09-b3ed-4510-d4ec-901156ab6fa2"
      },
      "outputs": [
        {
          "data": {
            "text/plain": [
              "array(['G04', 'G06', 'G09', ..., 'G12', 'G12', 'G12'], dtype=object)"
            ]
          },
          "execution_count": 38,
          "metadata": {},
          "output_type": "execute_result"
        }
      ],
      "source": [
        "predictions"
      ]
    },
    {
      "cell_type": "code",
      "execution_count": null,
      "metadata": {
        "colab": {
          "base_uri": "https://localhost:8080/"
        },
        "id": "-fA9rkFD6Vwn",
        "outputId": "67b59eb2-a6f4-4981-e5c7-fe95ff3304da"
      },
      "outputs": [
        {
          "name": "stdout",
          "output_type": "stream",
          "text": [
            "Accuracy: 0.4788732394366197\n"
          ]
        }
      ],
      "source": [
        "accuracy = accuracy_score(y_test, predictions)\n",
        "print(\"Accuracy:\", accuracy)"
      ]
    },
    {
      "cell_type": "markdown",
      "metadata": {
        "id": "utNxuDehid-9"
      },
      "source": [
        "#### Random forrest"
      ]
    },
    {
      "cell_type": "code",
      "execution_count": null,
      "metadata": {
        "id": "HGIDF32RL_WA"
      },
      "outputs": [],
      "source": [
        "from sklearn.ensemble import RandomForestClassifier"
      ]
    },
    {
      "cell_type": "code",
      "execution_count": null,
      "metadata": {
        "id": "17Wkg4WEMhU-"
      },
      "outputs": [],
      "source": [
        "# Initialize the Random Forest classifier\n",
        "rf_classifier = RandomForestClassifier(n_estimators=100, random_state=42)\n",
        "\n",
        "# Train the model\n",
        "rf_classifier.fit(X_train, y_train)\n",
        "y_pred = rf_classifier.predict(X_test)"
      ]
    },
    {
      "cell_type": "code",
      "execution_count": null,
      "metadata": {
        "colab": {
          "base_uri": "https://localhost:8080/"
        },
        "id": "i66wbpveMk0m",
        "outputId": "65f38518-e5cb-4a7d-f506-425558535d35"
      },
      "outputs": [
        {
          "data": {
            "text/plain": [
              "array(['G12', 'G06', 'G09', ..., 'G12', 'G12', 'G12'], dtype=object)"
            ]
          },
          "execution_count": 45,
          "metadata": {},
          "output_type": "execute_result"
        }
      ],
      "source": [
        "y_pred"
      ]
    },
    {
      "cell_type": "code",
      "execution_count": null,
      "metadata": {
        "colab": {
          "base_uri": "https://localhost:8080/"
        },
        "id": "Dly-LOrBQvas",
        "outputId": "edb47344-fbd2-4406-a4c8-e01bd9126efe"
      },
      "outputs": [
        {
          "name": "stdout",
          "output_type": "stream",
          "text": [
            "Accuracy: 0.5140845070422535\n"
          ]
        }
      ],
      "source": [
        "accuracy = accuracy_score(y_test, y_pred)\n",
        "print(\"Accuracy:\", accuracy)"
      ]
    },
    {
      "cell_type": "markdown",
      "metadata": {
        "id": "7INBRGb3ifVe"
      },
      "source": [
        "#### Neural network"
      ]
    },
    {
      "cell_type": "code",
      "execution_count": null,
      "metadata": {
        "id": "wvm3jhpRidzf"
      },
      "outputs": [],
      "source": [
        "import tensorflow as tf\n",
        "from tensorflow import keras\n",
        "from keras.models import Sequential\n",
        "from keras.layers import Dense, Dropout, Activation, Flatten"
      ]
    },
    {
      "cell_type": "code",
      "execution_count": null,
      "metadata": {
        "id": "rh98_5M6eJVd"
      },
      "outputs": [],
      "source": [
        "y = pd.get_dummies(y)"
      ]
    },
    {
      "cell_type": "code",
      "execution_count": null,
      "metadata": {
        "id": "4qgDNN_aemin"
      },
      "outputs": [],
      "source": [
        "X_train, X_test, y_train, y_test = train_test_split(X, y, test_size=0.2, random_state=42)"
      ]
    },
    {
      "cell_type": "code",
      "execution_count": null,
      "metadata": {
        "id": "LAJZWvVvU-CR"
      },
      "outputs": [],
      "source": [
        "MLP_model = Sequential()\n",
        "\n",
        "# Input layer has 8 units. The first hidden layer 12 units\n",
        "MLP_model.add(Dense(16, input_dim=8, use_bias=True, activation='relu'))\n",
        "\n",
        "# second hidden layer has 8 units\n",
        "MLP_model.add(Dense(16, use_bias=True, activation='relu'))\n",
        "\n",
        "MLP_model.add(Dense(16, use_bias=True, activation='relu'))\n",
        "\n",
        "MLP_model.add(Dense(16, use_bias=True, activation='relu'))\n",
        "\n",
        "MLP_model.add(Dense(16, use_bias=True, activation='relu'))\n",
        "\n",
        "MLP_model.add(Dense(16, use_bias=True, activation='relu'))\n",
        "\n",
        "MLP_model.add(Dense(16, use_bias=True, activation='relu'))\n",
        "\n",
        "# last/output layer, 1 units\n",
        "MLP_model.add(Dense(5, use_bias=True, activation='softmax'))"
      ]
    },
    {
      "cell_type": "code",
      "execution_count": null,
      "metadata": {
        "colab": {
          "base_uri": "https://localhost:8080/"
        },
        "id": "Y19EjK4PcFwL",
        "outputId": "32e93ecc-312a-460d-b5fb-aafe82b01091"
      },
      "outputs": [
        {
          "name": "stdout",
          "output_type": "stream",
          "text": [
            "Model: \"sequential\"\n",
            "_________________________________________________________________\n",
            " Layer (type)                Output Shape              Param #   \n",
            "=================================================================\n",
            " dense (Dense)               (None, 16)                144       \n",
            "                                                                 \n",
            " dense_1 (Dense)             (None, 16)                272       \n",
            "                                                                 \n",
            " dense_2 (Dense)             (None, 16)                272       \n",
            "                                                                 \n",
            " dense_3 (Dense)             (None, 16)                272       \n",
            "                                                                 \n",
            " dense_4 (Dense)             (None, 16)                272       \n",
            "                                                                 \n",
            " dense_5 (Dense)             (None, 16)                272       \n",
            "                                                                 \n",
            " dense_6 (Dense)             (None, 16)                272       \n",
            "                                                                 \n",
            " dense_7 (Dense)             (None, 5)                 85        \n",
            "                                                                 \n",
            "=================================================================\n",
            "Total params: 1861 (7.27 KB)\n",
            "Trainable params: 1861 (7.27 KB)\n",
            "Non-trainable params: 0 (0.00 Byte)\n",
            "_________________________________________________________________\n"
          ]
        }
      ],
      "source": [
        "MLP_model.summary()"
      ]
    },
    {
      "cell_type": "code",
      "execution_count": null,
      "metadata": {
        "id": "y4W8hnF7V-hR"
      },
      "outputs": [],
      "source": [
        "MLP_model.compile(optimizer='adam', loss='categorical_crossentropy', metrics=['accuracy'])"
      ]
    },
    {
      "cell_type": "code",
      "execution_count": null,
      "metadata": {
        "colab": {
          "base_uri": "https://localhost:8080/"
        },
        "id": "EwUhq4K5WJq8",
        "outputId": "fcd272a9-100b-4342-84c5-c06b765e61a3"
      },
      "outputs": [
        {
          "name": "stdout",
          "output_type": "stream",
          "text": [
            "Epoch 1/70\n",
            "128/128 [==============================] - 6s 5ms/step - loss: 1.3682 - accuracy: 0.4366 - val_loss: 1.1636 - val_accuracy: 0.5143\n",
            "Epoch 2/70\n",
            "128/128 [==============================] - 0s 3ms/step - loss: 1.1730 - accuracy: 0.5218 - val_loss: 1.0815 - val_accuracy: 0.5868\n",
            "Epoch 3/70\n",
            "128/128 [==============================] - 0s 3ms/step - loss: 1.1157 - accuracy: 0.5578 - val_loss: 1.0612 - val_accuracy: 0.5890\n",
            "Epoch 4/70\n",
            "128/128 [==============================] - 0s 3ms/step - loss: 1.0989 - accuracy: 0.5646 - val_loss: 1.0616 - val_accuracy: 0.6000\n",
            "Epoch 5/70\n",
            "128/128 [==============================] - 0s 3ms/step - loss: 1.0891 - accuracy: 0.5690 - val_loss: 1.0701 - val_accuracy: 0.5802\n",
            "Epoch 6/70\n",
            "128/128 [==============================] - 0s 3ms/step - loss: 1.0870 - accuracy: 0.5671 - val_loss: 1.0618 - val_accuracy: 0.5802\n",
            "Epoch 7/70\n",
            "128/128 [==============================] - 0s 3ms/step - loss: 1.0874 - accuracy: 0.5651 - val_loss: 1.0682 - val_accuracy: 0.5824\n",
            "Epoch 8/70\n",
            "128/128 [==============================] - 0s 3ms/step - loss: 1.0811 - accuracy: 0.5675 - val_loss: 1.0541 - val_accuracy: 0.5934\n",
            "Epoch 9/70\n",
            "128/128 [==============================] - 0s 3ms/step - loss: 1.0772 - accuracy: 0.5702 - val_loss: 1.0562 - val_accuracy: 0.5868\n",
            "Epoch 10/70\n",
            "128/128 [==============================] - 0s 3ms/step - loss: 1.0779 - accuracy: 0.5695 - val_loss: 1.0561 - val_accuracy: 0.5846\n",
            "Epoch 11/70\n",
            "128/128 [==============================] - 0s 3ms/step - loss: 1.0777 - accuracy: 0.5702 - val_loss: 1.0730 - val_accuracy: 0.5890\n",
            "Epoch 12/70\n",
            "128/128 [==============================] - 0s 3ms/step - loss: 1.0718 - accuracy: 0.5683 - val_loss: 1.0540 - val_accuracy: 0.5868\n",
            "Epoch 13/70\n",
            "128/128 [==============================] - 0s 3ms/step - loss: 1.0724 - accuracy: 0.5641 - val_loss: 1.0814 - val_accuracy: 0.5780\n",
            "Epoch 14/70\n",
            "128/128 [==============================] - 0s 3ms/step - loss: 1.0667 - accuracy: 0.5715 - val_loss: 1.0526 - val_accuracy: 0.5934\n",
            "Epoch 15/70\n",
            "128/128 [==============================] - 0s 3ms/step - loss: 1.0697 - accuracy: 0.5693 - val_loss: 1.0533 - val_accuracy: 0.5912\n",
            "Epoch 16/70\n",
            "128/128 [==============================] - 0s 3ms/step - loss: 1.0669 - accuracy: 0.5698 - val_loss: 1.0577 - val_accuracy: 0.5890\n",
            "Epoch 17/70\n",
            "128/128 [==============================] - 1s 5ms/step - loss: 1.0654 - accuracy: 0.5695 - val_loss: 1.0594 - val_accuracy: 0.5890\n",
            "Epoch 18/70\n",
            "128/128 [==============================] - 1s 5ms/step - loss: 1.0645 - accuracy: 0.5646 - val_loss: 1.0706 - val_accuracy: 0.5714\n",
            "Epoch 19/70\n",
            "128/128 [==============================] - 1s 5ms/step - loss: 1.0600 - accuracy: 0.5702 - val_loss: 1.0597 - val_accuracy: 0.5868\n",
            "Epoch 20/70\n",
            "128/128 [==============================] - 1s 5ms/step - loss: 1.0621 - accuracy: 0.5717 - val_loss: 1.0527 - val_accuracy: 0.5846\n",
            "Epoch 21/70\n",
            "128/128 [==============================] - 1s 4ms/step - loss: 1.0601 - accuracy: 0.5678 - val_loss: 1.0732 - val_accuracy: 0.5736\n",
            "Epoch 22/70\n",
            "128/128 [==============================] - 1s 5ms/step - loss: 1.0576 - accuracy: 0.5702 - val_loss: 1.0623 - val_accuracy: 0.5934\n",
            "Epoch 23/70\n",
            "128/128 [==============================] - 1s 5ms/step - loss: 1.0587 - accuracy: 0.5675 - val_loss: 1.0514 - val_accuracy: 0.5934\n",
            "Epoch 24/70\n",
            "128/128 [==============================] - 0s 3ms/step - loss: 1.0559 - accuracy: 0.5742 - val_loss: 1.0465 - val_accuracy: 0.5912\n",
            "Epoch 25/70\n",
            "128/128 [==============================] - 0s 3ms/step - loss: 1.0569 - accuracy: 0.5698 - val_loss: 1.0607 - val_accuracy: 0.5978\n",
            "Epoch 26/70\n",
            "128/128 [==============================] - 0s 3ms/step - loss: 1.0527 - accuracy: 0.5653 - val_loss: 1.0589 - val_accuracy: 0.5890\n",
            "Epoch 27/70\n",
            "128/128 [==============================] - 0s 3ms/step - loss: 1.0514 - accuracy: 0.5700 - val_loss: 1.0852 - val_accuracy: 0.5802\n",
            "Epoch 28/70\n",
            "128/128 [==============================] - 0s 3ms/step - loss: 1.0550 - accuracy: 0.5680 - val_loss: 1.0650 - val_accuracy: 0.5824\n",
            "Epoch 29/70\n",
            "128/128 [==============================] - 0s 3ms/step - loss: 1.0522 - accuracy: 0.5700 - val_loss: 1.0629 - val_accuracy: 0.5890\n",
            "Epoch 30/70\n",
            "128/128 [==============================] - 0s 3ms/step - loss: 1.0475 - accuracy: 0.5749 - val_loss: 1.0596 - val_accuracy: 0.5934\n",
            "Epoch 31/70\n",
            "128/128 [==============================] - 0s 3ms/step - loss: 1.0495 - accuracy: 0.5673 - val_loss: 1.0751 - val_accuracy: 0.5868\n",
            "Epoch 32/70\n",
            "128/128 [==============================] - 0s 3ms/step - loss: 1.0479 - accuracy: 0.5702 - val_loss: 1.0629 - val_accuracy: 0.5692\n",
            "Epoch 33/70\n",
            "128/128 [==============================] - 0s 3ms/step - loss: 1.0489 - accuracy: 0.5617 - val_loss: 1.0769 - val_accuracy: 0.5912\n",
            "Epoch 34/70\n",
            "128/128 [==============================] - 0s 3ms/step - loss: 1.0456 - accuracy: 0.5678 - val_loss: 1.0563 - val_accuracy: 0.5956\n",
            "Epoch 35/70\n",
            "128/128 [==============================] - 0s 3ms/step - loss: 1.0484 - accuracy: 0.5707 - val_loss: 1.0809 - val_accuracy: 0.5736\n",
            "Epoch 36/70\n",
            "128/128 [==============================] - 0s 3ms/step - loss: 1.0448 - accuracy: 0.5705 - val_loss: 1.0637 - val_accuracy: 0.5890\n",
            "Epoch 37/70\n",
            "128/128 [==============================] - 0s 3ms/step - loss: 1.0461 - accuracy: 0.5668 - val_loss: 1.0648 - val_accuracy: 0.5736\n",
            "Epoch 38/70\n",
            "128/128 [==============================] - 0s 3ms/step - loss: 1.0451 - accuracy: 0.5705 - val_loss: 1.0729 - val_accuracy: 0.5824\n",
            "Epoch 39/70\n",
            "128/128 [==============================] - 0s 3ms/step - loss: 1.0455 - accuracy: 0.5651 - val_loss: 1.0669 - val_accuracy: 0.5890\n",
            "Epoch 40/70\n",
            "128/128 [==============================] - 0s 3ms/step - loss: 1.0418 - accuracy: 0.5759 - val_loss: 1.0734 - val_accuracy: 0.5758\n",
            "Epoch 41/70\n",
            "128/128 [==============================] - 0s 3ms/step - loss: 1.0419 - accuracy: 0.5705 - val_loss: 1.0563 - val_accuracy: 0.5692\n",
            "Epoch 42/70\n",
            "128/128 [==============================] - 0s 3ms/step - loss: 1.0430 - accuracy: 0.5673 - val_loss: 1.0708 - val_accuracy: 0.5868\n",
            "Epoch 43/70\n",
            "128/128 [==============================] - 0s 3ms/step - loss: 1.0403 - accuracy: 0.5727 - val_loss: 1.0661 - val_accuracy: 0.5846\n",
            "Epoch 44/70\n",
            "128/128 [==============================] - 0s 3ms/step - loss: 1.0426 - accuracy: 0.5715 - val_loss: 1.0716 - val_accuracy: 0.5956\n",
            "Epoch 45/70\n",
            "128/128 [==============================] - 0s 3ms/step - loss: 1.0393 - accuracy: 0.5702 - val_loss: 1.0832 - val_accuracy: 0.5824\n",
            "Epoch 46/70\n",
            "128/128 [==============================] - 0s 3ms/step - loss: 1.0393 - accuracy: 0.5688 - val_loss: 1.0509 - val_accuracy: 0.5846\n",
            "Epoch 47/70\n",
            "128/128 [==============================] - 0s 3ms/step - loss: 1.0388 - accuracy: 0.5732 - val_loss: 1.0821 - val_accuracy: 0.5736\n",
            "Epoch 48/70\n",
            "128/128 [==============================] - 0s 3ms/step - loss: 1.0361 - accuracy: 0.5715 - val_loss: 1.0771 - val_accuracy: 0.5890\n",
            "Epoch 49/70\n",
            "128/128 [==============================] - 1s 5ms/step - loss: 1.0367 - accuracy: 0.5705 - val_loss: 1.0796 - val_accuracy: 0.5802\n",
            "Epoch 50/70\n",
            "128/128 [==============================] - 1s 5ms/step - loss: 1.0412 - accuracy: 0.5732 - val_loss: 1.0676 - val_accuracy: 0.5934\n",
            "Epoch 51/70\n",
            "128/128 [==============================] - 1s 5ms/step - loss: 1.0352 - accuracy: 0.5702 - val_loss: 1.0778 - val_accuracy: 0.5890\n",
            "Epoch 52/70\n",
            "128/128 [==============================] - 1s 10ms/step - loss: 1.0354 - accuracy: 0.5710 - val_loss: 1.0827 - val_accuracy: 0.5868\n",
            "Epoch 53/70\n",
            "128/128 [==============================] - 1s 9ms/step - loss: 1.0361 - accuracy: 0.5671 - val_loss: 1.0831 - val_accuracy: 0.5956\n",
            "Epoch 54/70\n",
            "128/128 [==============================] - 1s 9ms/step - loss: 1.0351 - accuracy: 0.5727 - val_loss: 1.0631 - val_accuracy: 0.5934\n",
            "Epoch 55/70\n",
            "128/128 [==============================] - 1s 7ms/step - loss: 1.0352 - accuracy: 0.5678 - val_loss: 1.0567 - val_accuracy: 0.5934\n",
            "Epoch 56/70\n",
            "128/128 [==============================] - 2s 13ms/step - loss: 1.0341 - accuracy: 0.5698 - val_loss: 1.0738 - val_accuracy: 0.5912\n",
            "Epoch 57/70\n",
            "128/128 [==============================] - 1s 7ms/step - loss: 1.0331 - accuracy: 0.5732 - val_loss: 1.0537 - val_accuracy: 0.5956\n",
            "Epoch 58/70\n",
            "128/128 [==============================] - 1s 7ms/step - loss: 1.0325 - accuracy: 0.5720 - val_loss: 1.0586 - val_accuracy: 0.5956\n",
            "Epoch 59/70\n",
            "128/128 [==============================] - 1s 7ms/step - loss: 1.0300 - accuracy: 0.5663 - val_loss: 1.0823 - val_accuracy: 0.5846\n",
            "Epoch 60/70\n",
            "128/128 [==============================] - 1s 8ms/step - loss: 1.0293 - accuracy: 0.5656 - val_loss: 1.0710 - val_accuracy: 0.5934\n",
            "Epoch 61/70\n",
            "128/128 [==============================] - 1s 6ms/step - loss: 1.0296 - accuracy: 0.5729 - val_loss: 1.0717 - val_accuracy: 0.5846\n",
            "Epoch 62/70\n",
            "128/128 [==============================] - 1s 7ms/step - loss: 1.0289 - accuracy: 0.5688 - val_loss: 1.0749 - val_accuracy: 0.5978\n",
            "Epoch 63/70\n",
            "128/128 [==============================] - 1s 6ms/step - loss: 1.0274 - accuracy: 0.5717 - val_loss: 1.0705 - val_accuracy: 0.6000\n",
            "Epoch 64/70\n",
            "128/128 [==============================] - 1s 5ms/step - loss: 1.0289 - accuracy: 0.5729 - val_loss: 1.0702 - val_accuracy: 0.5956\n",
            "Epoch 65/70\n",
            "128/128 [==============================] - 2s 13ms/step - loss: 1.0269 - accuracy: 0.5756 - val_loss: 1.0905 - val_accuracy: 0.5890\n",
            "Epoch 66/70\n",
            "128/128 [==============================] - 1s 11ms/step - loss: 1.0294 - accuracy: 0.5688 - val_loss: 1.0752 - val_accuracy: 0.5846\n",
            "Epoch 67/70\n",
            "128/128 [==============================] - 1s 11ms/step - loss: 1.0265 - accuracy: 0.5724 - val_loss: 1.0700 - val_accuracy: 0.5934\n",
            "Epoch 68/70\n",
            "128/128 [==============================] - 1s 8ms/step - loss: 1.0255 - accuracy: 0.5724 - val_loss: 1.0663 - val_accuracy: 0.5956\n",
            "Epoch 69/70\n",
            "128/128 [==============================] - 1s 5ms/step - loss: 1.0258 - accuracy: 0.5771 - val_loss: 1.0828 - val_accuracy: 0.5846\n",
            "Epoch 70/70\n",
            "128/128 [==============================] - 1s 6ms/step - loss: 1.0254 - accuracy: 0.5749 - val_loss: 1.0680 - val_accuracy: 0.5912\n"
          ]
        }
      ],
      "source": [
        "learning_evolution = MLP_model.fit(X_train, y_train, epochs=70, batch_size=32, validation_split=0.1)"
      ]
    },
    {
      "cell_type": "code",
      "execution_count": null,
      "metadata": {
        "colab": {
          "base_uri": "https://localhost:8080/"
        },
        "id": "HKV2fW8ufaOy",
        "outputId": "99d2d737-e90d-4684-e54c-53e3cc1a91b8"
      },
      "outputs": [
        {
          "name": "stdout",
          "output_type": "stream",
          "text": [
            "36/36 [==============================] - 0s 5ms/step - loss: 1.0881 - accuracy: 0.5731\n",
            "Accuracy: 57.31% - Loss 1.09\n"
          ]
        }
      ],
      "source": [
        "loss, accuracy = MLP_model.evaluate(X_test, y_test)\n",
        "print('Accuracy: {:.2f}% - Loss {:.2f}'.format(accuracy*100, loss))"
      ]
    },
    {
      "cell_type": "markdown",
      "metadata": {
        "id": "PONMuixtiSPa"
      },
      "source": [
        "## Loading ASR dataset"
      ]
    },
    {
      "cell_type": "code",
      "execution_count": null,
      "metadata": {
        "id": "EGDRmo-QiTVP"
      },
      "outputs": [],
      "source": [
        "import os\n",
        "import pandas as pd\n",
        "import json\n",
        "\n",
        "def extract_sentences(text):\n",
        "    # Split the text into potential sentences by <eos>\n",
        "    potential_sentences = re.split(r'<eos>', text)\n",
        "\n",
        "    # Clean and filter the sentences\n",
        "    sentences = []\n",
        "    for sentence in potential_sentences:\n",
        "        stripped_sentence = sentence.strip().replace(\"<eos>\", \"\").strip()\n",
        "        word_count = len(stripped_sentence.split())\n",
        "        if word_count > 3:  # ensuring no sentences with less than 3 words\n",
        "            sentences.append(stripped_sentence)\n",
        "    return sentences\n",
        "\n",
        "\n",
        "def format_grade(title):\n",
        "    return title.split(\":\")[0]\n",
        "\n",
        "def json_folder_to_excel_sentences(json_folder_path, output_excel_path):\n",
        "\n",
        "    all_data = []\n",
        "\n",
        "    for filename in os.listdir(json_folder_path):\n",
        "        if filename.endswith('.json'):\n",
        "            with open(os.path.join(json_folder_path, filename), 'r', encoding='utf-8') as file:\n",
        "                data = json.load(file)\n",
        "\n",
        "                for entry in data:\n",
        "                    grade = format_grade(entry[\"title\"])\n",
        "                    sentences = extract_sentences(entry[\"text\"])\n",
        "                    for sentence in sentences:\n",
        "                        all_data.append([grade, sentence])\n",
        "\n",
        "    df = pd.DataFrame(all_data, columns=[\"Grade\", \"sentence\"])\n",
        "    df.to_excel(output_excel_path, index=False)\n",
        "\n",
        "json_folder_to_excel_sentences('your directory', 'your directory')"
      ]
    },
    {
      "cell_type": "code",
      "execution_count": null,
      "metadata": {
        "colab": {
          "base_uri": "https://localhost:8080/",
          "height": 423
        },
        "id": "T_nA2HnDiZhq",
        "outputId": "78bfd7bb-2552-4287-fd18-ad7e39f5abfe"
      },
      "outputs": [
        {
          "data": {
            "text/html": [
              "\n",
              "  <div id=\"df-d01f3ce3-58c7-4233-9e36-7e87a52a98e4\" class=\"colab-df-container\">\n",
              "    <div>\n",
              "<style scoped>\n",
              "    .dataframe tbody tr th:only-of-type {\n",
              "        vertical-align: middle;\n",
              "    }\n",
              "\n",
              "    .dataframe tbody tr th {\n",
              "        vertical-align: top;\n",
              "    }\n",
              "\n",
              "    .dataframe thead th {\n",
              "        text-align: right;\n",
              "    }\n",
              "</style>\n",
              "<table border=\"1\" class=\"dataframe\">\n",
              "  <thead>\n",
              "    <tr style=\"text-align: right;\">\n",
              "      <th></th>\n",
              "      <th>Grade</th>\n",
              "      <th>sentence</th>\n",
              "    </tr>\n",
              "  </thead>\n",
              "  <tbody>\n",
              "    <tr>\n",
              "      <th>0</th>\n",
              "      <td>Grade_1</td>\n",
              "      <td>لطلاب الصف الأول، أهلا وسهلا بكم. عدت إليكم مع...</td>\n",
              "    </tr>\n",
              "    <tr>\n",
              "      <th>1</th>\n",
              "      <td>Grade_1</td>\n",
              "      <td>لقد أضعت قلمي لا أجده أيمكنكم مساعدتي أم أحسنت...</td>\n",
              "    </tr>\n",
              "    <tr>\n",
              "      <th>2</th>\n",
              "      <td>Grade_1</td>\n",
              "      <td>أين مكان القلم تحت؟ لاحظوا الكلمة الملونة بالل...</td>\n",
              "    </tr>\n",
              "    <tr>\n",
              "      <th>3</th>\n",
              "      <td>Grade_1</td>\n",
              "      <td>أنظروا جيدا أحسنتم، جلست ريم تحت تحت المظلة جل...</td>\n",
              "    </tr>\n",
              "    <tr>\n",
              "      <th>4</th>\n",
              "      <td>Grade_1</td>\n",
              "      <td>فكروا ما اسمها هذه الكتاب؟ فوق فوق الطاولة الك...</td>\n",
              "    </tr>\n",
              "    <tr>\n",
              "      <th>...</th>\n",
              "      <td>...</td>\n",
              "      <td>...</td>\n",
              "    </tr>\n",
              "    <tr>\n",
              "      <th>8580</th>\n",
              "      <td>Grade_12</td>\n",
              "      <td>عزيز زياد طالب بعد أن استعرضنا بعض أسئلة اللغة...</td>\n",
              "    </tr>\n",
              "    <tr>\n",
              "      <th>8581</th>\n",
              "      <td>Grade_12</td>\n",
              "      <td>رب رأس حصيد لسان المرء بأصغريه قلبه ولسانه الك...</td>\n",
              "    </tr>\n",
              "    <tr>\n",
              "      <th>8582</th>\n",
              "      <td>Grade_12</td>\n",
              "      <td>السؤال الثاني يناقش الحديث الشريف قضية مهمة يغ...</td>\n",
              "    </tr>\n",
              "    <tr>\n",
              "      <th>8583</th>\n",
              "      <td>Grade_12</td>\n",
              "      <td>أحسنت بني؟ القضية هي خطورة اللسان وأثره وأهمية...</td>\n",
              "    </tr>\n",
              "    <tr>\n",
              "      <th>8584</th>\n",
              "      <td>Grade_12</td>\n",
              "      <td>الحل معاهدة النفس على طلب السماح ممن اغتبته في...</td>\n",
              "    </tr>\n",
              "  </tbody>\n",
              "</table>\n",
              "<p>8585 rows × 2 columns</p>\n",
              "</div>\n",
              "    <div class=\"colab-df-buttons\">\n",
              "\n",
              "  <div class=\"colab-df-container\">\n",
              "    <button class=\"colab-df-convert\" onclick=\"convertToInteractive('df-d01f3ce3-58c7-4233-9e36-7e87a52a98e4')\"\n",
              "            title=\"Convert this dataframe to an interactive table.\"\n",
              "            style=\"display:none;\">\n",
              "\n",
              "  <svg xmlns=\"http://www.w3.org/2000/svg\" height=\"24px\" viewBox=\"0 -960 960 960\">\n",
              "    <path d=\"M120-120v-720h720v720H120Zm60-500h600v-160H180v160Zm220 220h160v-160H400v160Zm0 220h160v-160H400v160ZM180-400h160v-160H180v160Zm440 0h160v-160H620v160ZM180-180h160v-160H180v160Zm440 0h160v-160H620v160Z\"/>\n",
              "  </svg>\n",
              "    </button>\n",
              "\n",
              "  <style>\n",
              "    .colab-df-container {\n",
              "      display:flex;\n",
              "      gap: 12px;\n",
              "    }\n",
              "\n",
              "    .colab-df-convert {\n",
              "      background-color: #E8F0FE;\n",
              "      border: none;\n",
              "      border-radius: 50%;\n",
              "      cursor: pointer;\n",
              "      display: none;\n",
              "      fill: #1967D2;\n",
              "      height: 32px;\n",
              "      padding: 0 0 0 0;\n",
              "      width: 32px;\n",
              "    }\n",
              "\n",
              "    .colab-df-convert:hover {\n",
              "      background-color: #E2EBFA;\n",
              "      box-shadow: 0px 1px 2px rgba(60, 64, 67, 0.3), 0px 1px 3px 1px rgba(60, 64, 67, 0.15);\n",
              "      fill: #174EA6;\n",
              "    }\n",
              "\n",
              "    .colab-df-buttons div {\n",
              "      margin-bottom: 4px;\n",
              "    }\n",
              "\n",
              "    [theme=dark] .colab-df-convert {\n",
              "      background-color: #3B4455;\n",
              "      fill: #D2E3FC;\n",
              "    }\n",
              "\n",
              "    [theme=dark] .colab-df-convert:hover {\n",
              "      background-color: #434B5C;\n",
              "      box-shadow: 0px 1px 3px 1px rgba(0, 0, 0, 0.15);\n",
              "      filter: drop-shadow(0px 1px 2px rgba(0, 0, 0, 0.3));\n",
              "      fill: #FFFFFF;\n",
              "    }\n",
              "  </style>\n",
              "\n",
              "    <script>\n",
              "      const buttonEl =\n",
              "        document.querySelector('#df-d01f3ce3-58c7-4233-9e36-7e87a52a98e4 button.colab-df-convert');\n",
              "      buttonEl.style.display =\n",
              "        google.colab.kernel.accessAllowed ? 'block' : 'none';\n",
              "\n",
              "      async function convertToInteractive(key) {\n",
              "        const element = document.querySelector('#df-d01f3ce3-58c7-4233-9e36-7e87a52a98e4');\n",
              "        const dataTable =\n",
              "          await google.colab.kernel.invokeFunction('convertToInteractive',\n",
              "                                                    [key], {});\n",
              "        if (!dataTable) return;\n",
              "\n",
              "        const docLinkHtml = 'Like what you see? Visit the ' +\n",
              "          '<a target=\"_blank\" href=https://colab.research.google.com/notebooks/data_table.ipynb>data table notebook</a>'\n",
              "          + ' to learn more about interactive tables.';\n",
              "        element.innerHTML = '';\n",
              "        dataTable['output_type'] = 'display_data';\n",
              "        await google.colab.output.renderOutput(dataTable, element);\n",
              "        const docLink = document.createElement('div');\n",
              "        docLink.innerHTML = docLinkHtml;\n",
              "        element.appendChild(docLink);\n",
              "      }\n",
              "    </script>\n",
              "  </div>\n",
              "\n",
              "\n",
              "<div id=\"df-aefd60d5-41ee-4925-964d-7e5569c16bc3\">\n",
              "  <button class=\"colab-df-quickchart\" onclick=\"quickchart('df-aefd60d5-41ee-4925-964d-7e5569c16bc3')\"\n",
              "            title=\"Suggest charts.\"\n",
              "            style=\"display:none;\">\n",
              "\n",
              "<svg xmlns=\"http://www.w3.org/2000/svg\" height=\"24px\"viewBox=\"0 0 24 24\"\n",
              "     width=\"24px\">\n",
              "    <g>\n",
              "        <path d=\"M19 3H5c-1.1 0-2 .9-2 2v14c0 1.1.9 2 2 2h14c1.1 0 2-.9 2-2V5c0-1.1-.9-2-2-2zM9 17H7v-7h2v7zm4 0h-2V7h2v10zm4 0h-2v-4h2v4z\"/>\n",
              "    </g>\n",
              "</svg>\n",
              "  </button>\n",
              "\n",
              "<style>\n",
              "  .colab-df-quickchart {\n",
              "      --bg-color: #E8F0FE;\n",
              "      --fill-color: #1967D2;\n",
              "      --hover-bg-color: #E2EBFA;\n",
              "      --hover-fill-color: #174EA6;\n",
              "      --disabled-fill-color: #AAA;\n",
              "      --disabled-bg-color: #DDD;\n",
              "  }\n",
              "\n",
              "  [theme=dark] .colab-df-quickchart {\n",
              "      --bg-color: #3B4455;\n",
              "      --fill-color: #D2E3FC;\n",
              "      --hover-bg-color: #434B5C;\n",
              "      --hover-fill-color: #FFFFFF;\n",
              "      --disabled-bg-color: #3B4455;\n",
              "      --disabled-fill-color: #666;\n",
              "  }\n",
              "\n",
              "  .colab-df-quickchart {\n",
              "    background-color: var(--bg-color);\n",
              "    border: none;\n",
              "    border-radius: 50%;\n",
              "    cursor: pointer;\n",
              "    display: none;\n",
              "    fill: var(--fill-color);\n",
              "    height: 32px;\n",
              "    padding: 0;\n",
              "    width: 32px;\n",
              "  }\n",
              "\n",
              "  .colab-df-quickchart:hover {\n",
              "    background-color: var(--hover-bg-color);\n",
              "    box-shadow: 0 1px 2px rgba(60, 64, 67, 0.3), 0 1px 3px 1px rgba(60, 64, 67, 0.15);\n",
              "    fill: var(--button-hover-fill-color);\n",
              "  }\n",
              "\n",
              "  .colab-df-quickchart-complete:disabled,\n",
              "  .colab-df-quickchart-complete:disabled:hover {\n",
              "    background-color: var(--disabled-bg-color);\n",
              "    fill: var(--disabled-fill-color);\n",
              "    box-shadow: none;\n",
              "  }\n",
              "\n",
              "  .colab-df-spinner {\n",
              "    border: 2px solid var(--fill-color);\n",
              "    border-color: transparent;\n",
              "    border-bottom-color: var(--fill-color);\n",
              "    animation:\n",
              "      spin 1s steps(1) infinite;\n",
              "  }\n",
              "\n",
              "  @keyframes spin {\n",
              "    0% {\n",
              "      border-color: transparent;\n",
              "      border-bottom-color: var(--fill-color);\n",
              "      border-left-color: var(--fill-color);\n",
              "    }\n",
              "    20% {\n",
              "      border-color: transparent;\n",
              "      border-left-color: var(--fill-color);\n",
              "      border-top-color: var(--fill-color);\n",
              "    }\n",
              "    30% {\n",
              "      border-color: transparent;\n",
              "      border-left-color: var(--fill-color);\n",
              "      border-top-color: var(--fill-color);\n",
              "      border-right-color: var(--fill-color);\n",
              "    }\n",
              "    40% {\n",
              "      border-color: transparent;\n",
              "      border-right-color: var(--fill-color);\n",
              "      border-top-color: var(--fill-color);\n",
              "    }\n",
              "    60% {\n",
              "      border-color: transparent;\n",
              "      border-right-color: var(--fill-color);\n",
              "    }\n",
              "    80% {\n",
              "      border-color: transparent;\n",
              "      border-right-color: var(--fill-color);\n",
              "      border-bottom-color: var(--fill-color);\n",
              "    }\n",
              "    90% {\n",
              "      border-color: transparent;\n",
              "      border-bottom-color: var(--fill-color);\n",
              "    }\n",
              "  }\n",
              "</style>\n",
              "\n",
              "  <script>\n",
              "    async function quickchart(key) {\n",
              "      const quickchartButtonEl =\n",
              "        document.querySelector('#' + key + ' button');\n",
              "      quickchartButtonEl.disabled = true;  // To prevent multiple clicks.\n",
              "      quickchartButtonEl.classList.add('colab-df-spinner');\n",
              "      try {\n",
              "        const charts = await google.colab.kernel.invokeFunction(\n",
              "            'suggestCharts', [key], {});\n",
              "      } catch (error) {\n",
              "        console.error('Error during call to suggestCharts:', error);\n",
              "      }\n",
              "      quickchartButtonEl.classList.remove('colab-df-spinner');\n",
              "      quickchartButtonEl.classList.add('colab-df-quickchart-complete');\n",
              "    }\n",
              "    (() => {\n",
              "      let quickchartButtonEl =\n",
              "        document.querySelector('#df-aefd60d5-41ee-4925-964d-7e5569c16bc3 button');\n",
              "      quickchartButtonEl.style.display =\n",
              "        google.colab.kernel.accessAllowed ? 'block' : 'none';\n",
              "    })();\n",
              "  </script>\n",
              "</div>\n",
              "    </div>\n",
              "  </div>\n"
            ],
            "text/plain": [
              "         Grade                                           sentence\n",
              "0      Grade_1  لطلاب الصف الأول، أهلا وسهلا بكم. عدت إليكم مع...\n",
              "1      Grade_1  لقد أضعت قلمي لا أجده أيمكنكم مساعدتي أم أحسنت...\n",
              "2      Grade_1  أين مكان القلم تحت؟ لاحظوا الكلمة الملونة بالل...\n",
              "3      Grade_1  أنظروا جيدا أحسنتم، جلست ريم تحت تحت المظلة جل...\n",
              "4      Grade_1  فكروا ما اسمها هذه الكتاب؟ فوق فوق الطاولة الك...\n",
              "...        ...                                                ...\n",
              "8580  Grade_12  عزيز زياد طالب بعد أن استعرضنا بعض أسئلة اللغة...\n",
              "8581  Grade_12  رب رأس حصيد لسان المرء بأصغريه قلبه ولسانه الك...\n",
              "8582  Grade_12  السؤال الثاني يناقش الحديث الشريف قضية مهمة يغ...\n",
              "8583  Grade_12  أحسنت بني؟ القضية هي خطورة اللسان وأثره وأهمية...\n",
              "8584  Grade_12  الحل معاهدة النفس على طلب السماح ممن اغتبته في...\n",
              "\n",
              "[8585 rows x 2 columns]"
            ]
          },
          "execution_count": 72,
          "metadata": {},
          "output_type": "execute_result"
        }
      ],
      "source": [
        "excel_file_path = 'your directory'\n",
        "\n",
        "df_asr = pd.read_excel(excel_file_path)\n",
        "\n",
        "df_asr"
      ]
    },
    {
      "cell_type": "code",
      "execution_count": null,
      "metadata": {
        "colab": {
          "base_uri": "https://localhost:8080/",
          "height": 564
        },
        "id": "PMl9QEjuignd",
        "outputId": "35e5c1b3-8895-4189-ad08-77d738b10bd3"
      },
      "outputs": [
        {
          "data": {
            "image/png": "[encoded data removed]",
            "text/plain": [
              "<Figure size 1200x600 with 1 Axes>"
            ]
          },
          "metadata": {},
          "output_type": "display_data"
        }
      ],
      "source": [
        "grade_counts = df_asr.groupby('Grade').size()\n",
        "grade_counts\n",
        "plt.figure(figsize=(12, 6))  # Adjust the figure size if needed\n",
        "plt.bar(grade_counts.index, grade_counts.values)\n",
        "plt.xlabel('Grade')\n",
        "plt.ylabel('Frequency')\n",
        "plt.title('Class Distribution')\n",
        "plt.show()"
      ]
    },
    {
      "cell_type": "markdown",
      "metadata": {
        "id": "j9Asn6hUio28"
      },
      "source": [
        "### Feature Extraction"
      ]
    },
    {
      "cell_type": "code",
      "execution_count": null,
      "metadata": {
        "id": "3RUBvvL4io2-"
      },
      "outputs": [],
      "source": [
        "def sentence_length(s):\n",
        "  s = s.split()\n",
        "  return len(s)\n",
        "\n",
        "df_asr['sentence_length'] = df_asr['sentence'].apply(lambda x: sentence_length(x))\n"
      ]
    },
    {
      "cell_type": "code",
      "execution_count": null,
      "metadata": {
        "colab": {
          "base_uri": "https://localhost:8080/"
        },
        "id": "XrvBIe3Gio2_",
        "outputId": "b7ae232f-ce35-4473-ca13-1168e1d8f3d6"
      },
      "outputs": [
        {
          "name": "stdout",
          "output_type": "stream",
          "text": [
            "Grade\n",
            "Grade_1     29.592793\n",
            "Grade_12    37.611063\n",
            "Grade_4     31.281537\n",
            "Grade_6     33.749751\n",
            "Grade_9     33.497914\n",
            "Name: sentence_length, dtype: float64\n"
          ]
        }
      ],
      "source": [
        "average_sent_length = df_asr.groupby('Grade')['sentence_length'].mean()\n",
        "print(average_sent_length)"
      ]
    },
    {
      "cell_type": "code",
      "execution_count": null,
      "metadata": {
        "id": "TqqvaDU6io2_"
      },
      "outputs": [],
      "source": [
        "def average_word_length(s):\n",
        "  words = s.split()\n",
        "  total_length = 0\n",
        "  for word in words:\n",
        "    total_length += len(word)\n",
        "  if len(words) != 0:\n",
        "    return total_length/len(words)\n",
        "  else:\n",
        "    return 0\n",
        "df_asr['average_word_length'] = df_asr['sentence'].apply(lambda x: average_word_length(x))\n"
      ]
    },
    {
      "cell_type": "code",
      "execution_count": null,
      "metadata": {
        "colab": {
          "base_uri": "https://localhost:8080/"
        },
        "id": "wb5_bDinio3A",
        "outputId": "bf5e53cb-e9a8-4f8d-f515-869418a1da4d"
      },
      "outputs": [
        {
          "name": "stdout",
          "output_type": "stream",
          "text": [
            "Grade\n",
            "Grade_1     4.327749\n",
            "Grade_12    4.780394\n",
            "Grade_4     4.647701\n",
            "Grade_6     4.745058\n",
            "Grade_9     4.689870\n",
            "Name: average_word_length, dtype: float64\n"
          ]
        }
      ],
      "source": [
        "average_word_length = df_asr.groupby('Grade')['average_word_length'].mean()\n",
        "print(average_word_length)"
      ]
    },
    {
      "cell_type": "code",
      "execution_count": null,
      "metadata": {
        "id": "7-es-Q_iio3A"
      },
      "outputs": [],
      "source": [
        "def countLongWords(s):\n",
        "  sent = s.split()\n",
        "  count = 0\n",
        "  for word in sent:\n",
        "    if len(word) > 7:\n",
        "      count += 1\n",
        "  return count\n",
        "\n",
        "df_asr['countLongWords'] = df_asr['sentence'].apply(lambda x: countLongWords(x))\n"
      ]
    },
    {
      "cell_type": "code",
      "execution_count": null,
      "metadata": {
        "id": "6Ug5do1Gio3A"
      },
      "outputs": [],
      "source": [
        "def countSegments(sentence):\n",
        "  return sentence.count(\"،\") + 1\n",
        "df_asr['countSegments'] = df_asr['sentence'].apply(lambda x: countSegments(x))\n"
      ]
    },
    {
      "cell_type": "code",
      "execution_count": null,
      "metadata": {
        "id": "YPfpCzlMio3A"
      },
      "outputs": [],
      "source": [
        "# ------------------------------------------------------------------------------------------ Readability Scores --------------------------------------------------------------------------------\n",
        "def calculateFKGL(sentence):\n",
        "  totalWords = len(sentence.split())\n",
        "  totalSentences = countSegments(sentence)\n",
        "  totalLetters = 0\n",
        "  for word in sentence.split():\n",
        "    totalLetters += len(word)\n",
        "  FKGL = 0.39 * (totalWords / totalSentences) + 11.8 * (totalLetters / totalWords) - 15.59\n",
        "  return FKGL\n",
        "\n",
        "def countLongWords(sentence):\n",
        "  count = 0\n",
        "  sentence = sentence.split()\n",
        "  for word in sentence:\n",
        "    if len(word) > 8:\n",
        "      count += 1\n",
        "  return count\n",
        "\n",
        "def calculateGFI(sentence):\n",
        "  totalWords = len(sentence.split())\n",
        "  totalSentences = countSegments(sentence)\n",
        "  complexWords = countLongWords(sentence)\n",
        "  GFI = 0.4 * ((totalWords / totalSentences) + 100 * (complexWords / totalWords))\n",
        "  return GFI\n",
        "\n",
        "def calculateARI(sentence):\n",
        "  characters = 0\n",
        "  for word in sentence.split():\n",
        "    characters += len(word)\n",
        "  words = len(sentence.split())\n",
        "  sentences = countSegments(sentence)\n",
        "  ARI = 4.71 * (characters / words) + 0.5 * (words / sentences) - 21.43\n",
        "  return ARI\n",
        "\n",
        "def calculateTTR(sentence):\n",
        "  words = sentence.split()\n",
        "  uniqueWords = []\n",
        "  for word in words:\n",
        "    if word not in uniqueWords:\n",
        "      uniqueWords.append(word)\n",
        "  return len(uniqueWords)/len(words)"
      ]
    },
    {
      "cell_type": "code",
      "execution_count": null,
      "metadata": {
        "id": "Gf86lm8Uio3B"
      },
      "outputs": [],
      "source": [
        "df_asr['FKGL'] = df_asr['sentence'].apply(lambda x: calculateFKGL(x))\n",
        "df_asr['GFI'] = df_asr['sentence'].apply(lambda x: calculateGFI(x))\n",
        "df_asr['ARI'] = df_asr['sentence'].apply(lambda x: calculateARI(x))\n",
        "df_asr['TTR'] = df_asr['sentence'].apply(lambda x: calculateTTR(x))"
      ]
    },
    {
      "cell_type": "code",
      "execution_count": null,
      "metadata": {
        "id": "XYPJ0uSoio3B"
      },
      "outputs": [],
      "source": [
        "# ------------------------------------------------------------------------------------------ Word/frequency Complexity --------------------------------------------------------------------------------\n",
        "\n",
        "wordFrequency = {}\n",
        "for sentence in df_asr['sentence']:\n",
        "  words = sentence.split()\n",
        "  for word in words:\n",
        "    if word not in wordFrequency:\n",
        "      wordFrequency[word] = 1\n",
        "    else:\n",
        "      wordFrequency[word] += 1\n",
        "\n",
        "\n",
        "sorted_wordFrequency = sorted(wordFrequency, key=wordFrequency.get)\n",
        "\n",
        "import math\n",
        "\n",
        "complexity_scores = {}\n",
        "max_rank = len(sorted_wordFrequency)\n",
        "for rank, word in enumerate(sorted_wordFrequency):\n",
        "    scaled_score = 1 + 99 * (math.log(1 + rank) / math.log(max_rank + 1))  # Logarithmic scaling between 1 and 100\n",
        "    complexity_scores[word] = scaled_score\n",
        "\n",
        "def calculateComplexity(sentence, compDict):\n",
        "  words = sentence.split()\n",
        "  score = sum(complexity_scores.get(word, 1) for word in words)  # Default to 1 if word not found\n",
        "  if len(words) > 0:\n",
        "    normScore = score/len(words)\n",
        "  else:\n",
        "    normScore = 0\n",
        "  return normScore\n",
        "\n",
        "df_asr['complexity'] = df_asr['sentence'].apply(lambda x: calculateComplexity(x, complexity_scores))\n"
      ]
    },
    {
      "cell_type": "markdown",
      "metadata": {
        "id": "fzhR1FXljDls"
      },
      "source": [
        "### Feature Scalling"
      ]
    },
    {
      "cell_type": "code",
      "execution_count": null,
      "metadata": {
        "id": "64ToROe9jDls"
      },
      "outputs": [],
      "source": [
        "import numpy as np\n",
        "from sklearn.preprocessing import StandardScaler"
      ]
    },
    {
      "cell_type": "code",
      "execution_count": null,
      "metadata": {
        "id": "axLOb5wxjDls"
      },
      "outputs": [],
      "source": [
        "sentence_length = df_asr['sentence_length'].values.reshape(-1, 1)  # Reshape to a 2D array\n",
        "average_word_length = df_asr['average_word_length'].values.reshape(-1, 1)  # Reshape to a 2D array\n",
        "countLongWords = df_asr['countLongWords'].values.reshape(-1, 1)  # Reshape to a 2D array\n",
        "countSegments = df_asr['countSegments'].values.reshape(-1, 1)  # Reshape to a 2D array\n",
        "FKGL = df_asr['FKGL'].values.reshape(-1, 1)  # Reshape to a 2D array\n",
        "GFI = df_asr['GFI'].values.reshape(-1, 1)  # Reshape to a 2D array\n",
        "ARI = df_asr['ARI'].values.reshape(-1, 1)  # Reshape to a 2D array\n",
        "TTR = df_asr['TTR'].values.reshape(-1, 1)  # Reshape to a 2D array\n",
        "complexity = df_asr['complexity'].values.reshape(-1, 1)  # Reshape to a 2D array"
      ]
    },
    {
      "cell_type": "code",
      "execution_count": null,
      "metadata": {
        "id": "nnflYNqEjDlt"
      },
      "outputs": [],
      "source": [
        "scaler = StandardScaler()\n",
        "z_transformed_sentence_length = scaler.fit_transform(sentence_length)\n",
        "z_transformed_average_word_length = scaler.fit_transform(average_word_length)\n",
        "z_transformed_countLongWords = scaler.fit_transform(countLongWords)\n",
        "z_transformed_countSegments = scaler.fit_transform(countSegments)\n",
        "z_transformed_FKGL = scaler.fit_transform(FKGL)\n",
        "z_transformed_GFI = scaler.fit_transform(GFI)\n",
        "z_transformed_ARI = scaler.fit_transform(ARI)\n",
        "z_transformed_TTR = scaler.fit_transform(TTR)\n",
        "z_transformed_complexity = scaler.fit_transform(complexity)"
      ]
    },
    {
      "cell_type": "code",
      "execution_count": null,
      "metadata": {
        "id": "8jBKZxKLjDlt"
      },
      "outputs": [],
      "source": [
        "df_asr['sentence_length_transformed'] = z_transformed_sentence_length\n",
        "df_asr['average_word_length_transformed'] = z_transformed_average_word_length\n",
        "df_asr['countLongWords_transformed'] = z_transformed_countLongWords\n",
        "df_asr['countSegments_transformed'] = z_transformed_countSegments\n",
        "df_asr['FKGL_transformed'] = z_transformed_FKGL\n",
        "df_asr['GFI_transformed'] = z_transformed_GFI\n",
        "df_asr['ARI_transformed'] = z_transformed_ARI\n",
        "df_asr['TTR_transformed'] = z_transformed_TTR\n",
        "df_asr['complexity_transformed'] = z_transformed_complexity"
      ]
    },
    {
      "cell_type": "code",
      "execution_count": null,
      "metadata": {
        "colab": {
          "base_uri": "https://localhost:8080/",
          "height": 1000
        },
        "id": "mpM1oUapjDlt",
        "outputId": "e4ccf366-dbd6-4b87-dbc7-34f4cb6908a4"
      },
      "outputs": [
        {
          "data": {
            "text/html": [
              "\n",
              "  <div id=\"df-e39aaf2e-670b-43dc-b084-c9da2d392fe8\" class=\"colab-df-container\">\n",
              "    <div>\n",
              "<style scoped>\n",
              "    .dataframe tbody tr th:only-of-type {\n",
              "        vertical-align: middle;\n",
              "    }\n",
              "\n",
              "    .dataframe tbody tr th {\n",
              "        vertical-align: top;\n",
              "    }\n",
              "\n",
              "    .dataframe thead th {\n",
              "        text-align: right;\n",
              "    }\n",
              "</style>\n",
              "<table border=\"1\" class=\"dataframe\">\n",
              "  <thead>\n",
              "    <tr style=\"text-align: right;\">\n",
              "      <th></th>\n",
              "      <th>Grade</th>\n",
              "      <th>sentence</th>\n",
              "      <th>sentence_length</th>\n",
              "      <th>average_word_length</th>\n",
              "      <th>countLongWords</th>\n",
              "      <th>countSegments</th>\n",
              "      <th>FKGL</th>\n",
              "      <th>GFI</th>\n",
              "      <th>ARI</th>\n",
              "      <th>TTR</th>\n",
              "      <th>complexity</th>\n",
              "      <th>sentence_length_transformed</th>\n",
              "      <th>average_word_length_transformed</th>\n",
              "      <th>countLongWords_transformed</th>\n",
              "      <th>countSegments_transformed</th>\n",
              "      <th>FKGL_transformed</th>\n",
              "      <th>GFI_transformed</th>\n",
              "      <th>ARI_transformed</th>\n",
              "      <th>TTR_transformed</th>\n",
              "      <th>complexity_transformed</th>\n",
              "    </tr>\n",
              "  </thead>\n",
              "  <tbody>\n",
              "    <tr>\n",
              "      <th>0</th>\n",
              "      <td>Grade_1</td>\n",
              "      <td>لطلاب الصف الأول، أهلا وسهلا بكم. عدت إليكم مع...</td>\n",
              "      <td>32</td>\n",
              "      <td>4.750000</td>\n",
              "      <td>2</td>\n",
              "      <td>5</td>\n",
              "      <td>42.956000</td>\n",
              "      <td>5.060000</td>\n",
              "      <td>4.142500</td>\n",
              "      <td>0.906250</td>\n",
              "      <td>96.508044</td>\n",
              "      <td>-0.078773</td>\n",
              "      <td>0.212418</td>\n",
              "      <td>0.099039</td>\n",
              "      <td>2.342087</td>\n",
              "      <td>-0.460708</td>\n",
              "      <td>-0.843073</td>\n",
              "      <td>-0.870970</td>\n",
              "      <td>0.012328</td>\n",
              "      <td>-1.097878</td>\n",
              "    </tr>\n",
              "    <tr>\n",
              "      <th>1</th>\n",
              "      <td>Grade_1</td>\n",
              "      <td>لقد أضعت قلمي لا أجده أيمكنكم مساعدتي أم أحسنت...</td>\n",
              "      <td>19</td>\n",
              "      <td>4.631579</td>\n",
              "      <td>1</td>\n",
              "      <td>2</td>\n",
              "      <td>42.767632</td>\n",
              "      <td>5.905263</td>\n",
              "      <td>5.134737</td>\n",
              "      <td>0.842105</td>\n",
              "      <td>76.769037</td>\n",
              "      <td>-1.115137</td>\n",
              "      <td>-0.056288</td>\n",
              "      <td>-0.437060</td>\n",
              "      <td>-0.322597</td>\n",
              "      <td>-0.491014</td>\n",
              "      <td>-0.654730</td>\n",
              "      <td>-0.684983</td>\n",
              "      <td>-0.783939</td>\n",
              "      <td>-13.732001</td>\n",
              "    </tr>\n",
              "    <tr>\n",
              "      <th>2</th>\n",
              "      <td>Grade_1</td>\n",
              "      <td>أين مكان القلم تحت؟ لاحظوا الكلمة الملونة بالل...</td>\n",
              "      <td>26</td>\n",
              "      <td>4.730769</td>\n",
              "      <td>0</td>\n",
              "      <td>2</td>\n",
              "      <td>45.303077</td>\n",
              "      <td>5.200000</td>\n",
              "      <td>7.351923</td>\n",
              "      <td>0.961538</td>\n",
              "      <td>93.438619</td>\n",
              "      <td>-0.557095</td>\n",
              "      <td>0.168782</td>\n",
              "      <td>-0.973159</td>\n",
              "      <td>-0.322597</td>\n",
              "      <td>-0.083103</td>\n",
              "      <td>-0.811878</td>\n",
              "      <td>-0.269388</td>\n",
              "      <td>0.698658</td>\n",
              "      <td>-3.062491</td>\n",
              "    </tr>\n",
              "    <tr>\n",
              "      <th>3</th>\n",
              "      <td>Grade_1</td>\n",
              "      <td>أنظروا جيدا أحسنتم، جلست ريم تحت تحت المظلة جل...</td>\n",
              "      <td>26</td>\n",
              "      <td>4.615385</td>\n",
              "      <td>0</td>\n",
              "      <td>3</td>\n",
              "      <td>42.251538</td>\n",
              "      <td>3.466667</td>\n",
              "      <td>4.641795</td>\n",
              "      <td>0.807692</td>\n",
              "      <td>95.765648</td>\n",
              "      <td>-0.557095</td>\n",
              "      <td>-0.093034</td>\n",
              "      <td>-0.973159</td>\n",
              "      <td>0.565631</td>\n",
              "      <td>-0.574044</td>\n",
              "      <td>-1.198103</td>\n",
              "      <td>-0.777381</td>\n",
              "      <td>-1.211129</td>\n",
              "      <td>-1.573055</td>\n",
              "    </tr>\n",
              "    <tr>\n",
              "      <th>4</th>\n",
              "      <td>Grade_1</td>\n",
              "      <td>فكروا ما اسمها هذه الكتاب؟ فوق فوق الطاولة الك...</td>\n",
              "      <td>32</td>\n",
              "      <td>4.625000</td>\n",
              "      <td>0</td>\n",
              "      <td>2</td>\n",
              "      <td>45.225000</td>\n",
              "      <td>6.400000</td>\n",
              "      <td>8.353750</td>\n",
              "      <td>0.875000</td>\n",
              "      <td>96.737494</td>\n",
              "      <td>-0.078773</td>\n",
              "      <td>-0.071216</td>\n",
              "      <td>-0.973159</td>\n",
              "      <td>-0.322597</td>\n",
              "      <td>-0.095665</td>\n",
              "      <td>-0.544491</td>\n",
              "      <td>-0.081604</td>\n",
              "      <td>-0.375597</td>\n",
              "      <td>-0.951017</td>\n",
              "    </tr>\n",
              "    <tr>\n",
              "      <th>...</th>\n",
              "      <td>...</td>\n",
              "      <td>...</td>\n",
              "      <td>...</td>\n",
              "      <td>...</td>\n",
              "      <td>...</td>\n",
              "      <td>...</td>\n",
              "      <td>...</td>\n",
              "      <td>...</td>\n",
              "      <td>...</td>\n",
              "      <td>...</td>\n",
              "      <td>...</td>\n",
              "      <td>...</td>\n",
              "      <td>...</td>\n",
              "      <td>...</td>\n",
              "      <td>...</td>\n",
              "      <td>...</td>\n",
              "      <td>...</td>\n",
              "      <td>...</td>\n",
              "      <td>...</td>\n",
              "      <td>...</td>\n",
              "    </tr>\n",
              "    <tr>\n",
              "      <th>8580</th>\n",
              "      <td>Grade_12</td>\n",
              "      <td>عزيز زياد طالب بعد أن استعرضنا بعض أسئلة اللغة...</td>\n",
              "      <td>37</td>\n",
              "      <td>4.540541</td>\n",
              "      <td>2</td>\n",
              "      <td>3</td>\n",
              "      <td>42.798378</td>\n",
              "      <td>7.095495</td>\n",
              "      <td>6.122613</td>\n",
              "      <td>0.918919</td>\n",
              "      <td>99.729128</td>\n",
              "      <td>0.319828</td>\n",
              "      <td>-0.262861</td>\n",
              "      <td>0.099039</td>\n",
              "      <td>0.565631</td>\n",
              "      <td>-0.486067</td>\n",
              "      <td>-0.389520</td>\n",
              "      <td>-0.499813</td>\n",
              "      <td>0.169596</td>\n",
              "      <td>0.963804</td>\n",
              "    </tr>\n",
              "    <tr>\n",
              "      <th>8581</th>\n",
              "      <td>Grade_12</td>\n",
              "      <td>رب رأس حصيد لسان المرء بأصغريه قلبه ولسانه الك...</td>\n",
              "      <td>32</td>\n",
              "      <td>4.250000</td>\n",
              "      <td>0</td>\n",
              "      <td>2</td>\n",
              "      <td>40.800000</td>\n",
              "      <td>6.400000</td>\n",
              "      <td>6.587500</td>\n",
              "      <td>0.812500</td>\n",
              "      <td>98.417363</td>\n",
              "      <td>-0.078773</td>\n",
              "      <td>-0.922120</td>\n",
              "      <td>-0.973159</td>\n",
              "      <td>-0.322597</td>\n",
              "      <td>-0.807572</td>\n",
              "      <td>-0.544491</td>\n",
              "      <td>-0.412673</td>\n",
              "      <td>-1.151448</td>\n",
              "      <td>0.124198</td>\n",
              "    </tr>\n",
              "    <tr>\n",
              "      <th>8582</th>\n",
              "      <td>Grade_12</td>\n",
              "      <td>السؤال الثاني يناقش الحديث الشريف قضية مهمة يغ...</td>\n",
              "      <td>19</td>\n",
              "      <td>4.789474</td>\n",
              "      <td>1</td>\n",
              "      <td>2</td>\n",
              "      <td>44.630789</td>\n",
              "      <td>5.905263</td>\n",
              "      <td>5.878421</td>\n",
              "      <td>0.947368</td>\n",
              "      <td>99.230776</td>\n",
              "      <td>-1.115137</td>\n",
              "      <td>0.301987</td>\n",
              "      <td>-0.437060</td>\n",
              "      <td>-0.322597</td>\n",
              "      <td>-0.191263</td>\n",
              "      <td>-0.654730</td>\n",
              "      <td>-0.545585</td>\n",
              "      <td>0.522757</td>\n",
              "      <td>0.644830</td>\n",
              "    </tr>\n",
              "    <tr>\n",
              "      <th>8583</th>\n",
              "      <td>Grade_12</td>\n",
              "      <td>أحسنت بني؟ القضية هي خطورة اللسان وأثره وأهمية...</td>\n",
              "      <td>31</td>\n",
              "      <td>4.612903</td>\n",
              "      <td>1</td>\n",
              "      <td>3</td>\n",
              "      <td>42.872258</td>\n",
              "      <td>5.423656</td>\n",
              "      <td>5.463441</td>\n",
              "      <td>0.935484</td>\n",
              "      <td>97.971612</td>\n",
              "      <td>-0.158493</td>\n",
              "      <td>-0.098665</td>\n",
              "      <td>-0.437060</td>\n",
              "      <td>0.565631</td>\n",
              "      <td>-0.474181</td>\n",
              "      <td>-0.762043</td>\n",
              "      <td>-0.623370</td>\n",
              "      <td>0.375226</td>\n",
              "      <td>-0.161109</td>\n",
              "    </tr>\n",
              "    <tr>\n",
              "      <th>8584</th>\n",
              "      <td>Grade_12</td>\n",
              "      <td>الحل معاهدة النفس على طلب السماح ممن اغتبته في...</td>\n",
              "      <td>38</td>\n",
              "      <td>4.657895</td>\n",
              "      <td>3</td>\n",
              "      <td>2</td>\n",
              "      <td>46.783158</td>\n",
              "      <td>10.757895</td>\n",
              "      <td>10.008684</td>\n",
              "      <td>0.921053</td>\n",
              "      <td>98.934792</td>\n",
              "      <td>0.399549</td>\n",
              "      <td>0.003424</td>\n",
              "      <td>0.635139</td>\n",
              "      <td>-0.322597</td>\n",
              "      <td>0.155017</td>\n",
              "      <td>0.426544</td>\n",
              "      <td>0.228601</td>\n",
              "      <td>0.196083</td>\n",
              "      <td>0.455383</td>\n",
              "    </tr>\n",
              "  </tbody>\n",
              "</table>\n",
              "<p>8585 rows × 20 columns</p>\n",
              "</div>\n",
              "    <div class=\"colab-df-buttons\">\n",
              "\n",
              "  <div class=\"colab-df-container\">\n",
              "    <button class=\"colab-df-convert\" onclick=\"convertToInteractive('df-e39aaf2e-670b-43dc-b084-c9da2d392fe8')\"\n",
              "            title=\"Convert this dataframe to an interactive table.\"\n",
              "            style=\"display:none;\">\n",
              "\n",
              "  <svg xmlns=\"http://www.w3.org/2000/svg\" height=\"24px\" viewBox=\"0 -960 960 960\">\n",
              "    <path d=\"M120-120v-720h720v720H120Zm60-500h600v-160H180v160Zm220 220h160v-160H400v160Zm0 220h160v-160H400v160ZM180-400h160v-160H180v160Zm440 0h160v-160H620v160ZM180-180h160v-160H180v160Zm440 0h160v-160H620v160Z\"/>\n",
              "  </svg>\n",
              "    </button>\n",
              "\n",
              "  <style>\n",
              "    .colab-df-container {\n",
              "      display:flex;\n",
              "      gap: 12px;\n",
              "    }\n",
              "\n",
              "    .colab-df-convert {\n",
              "      background-color: #E8F0FE;\n",
              "      border: none;\n",
              "      border-radius: 50%;\n",
              "      cursor: pointer;\n",
              "      display: none;\n",
              "      fill: #1967D2;\n",
              "      height: 32px;\n",
              "      padding: 0 0 0 0;\n",
              "      width: 32px;\n",
              "    }\n",
              "\n",
              "    .colab-df-convert:hover {\n",
              "      background-color: #E2EBFA;\n",
              "      box-shadow: 0px 1px 2px rgba(60, 64, 67, 0.3), 0px 1px 3px 1px rgba(60, 64, 67, 0.15);\n",
              "      fill: #174EA6;\n",
              "    }\n",
              "\n",
              "    .colab-df-buttons div {\n",
              "      margin-bottom: 4px;\n",
              "    }\n",
              "\n",
              "    [theme=dark] .colab-df-convert {\n",
              "      background-color: #3B4455;\n",
              "      fill: #D2E3FC;\n",
              "    }\n",
              "\n",
              "    [theme=dark] .colab-df-convert:hover {\n",
              "      background-color: #434B5C;\n",
              "      box-shadow: 0px 1px 3px 1px rgba(0, 0, 0, 0.15);\n",
              "      filter: drop-shadow(0px 1px 2px rgba(0, 0, 0, 0.3));\n",
              "      fill: #FFFFFF;\n",
              "    }\n",
              "  </style>\n",
              "\n",
              "    <script>\n",
              "      const buttonEl =\n",
              "        document.querySelector('#df-e39aaf2e-670b-43dc-b084-c9da2d392fe8 button.colab-df-convert');\n",
              "      buttonEl.style.display =\n",
              "        google.colab.kernel.accessAllowed ? 'block' : 'none';\n",
              "\n",
              "      async function convertToInteractive(key) {\n",
              "        const element = document.querySelector('#df-e39aaf2e-670b-43dc-b084-c9da2d392fe8');\n",
              "        const dataTable =\n",
              "          await google.colab.kernel.invokeFunction('convertToInteractive',\n",
              "                                                    [key], {});\n",
              "        if (!dataTable) return;\n",
              "\n",
              "        const docLinkHtml = 'Like what you see? Visit the ' +\n",
              "          '<a target=\"_blank\" href=https://colab.research.google.com/notebooks/data_table.ipynb>data table notebook</a>'\n",
              "          + ' to learn more about interactive tables.';\n",
              "        element.innerHTML = '';\n",
              "        dataTable['output_type'] = 'display_data';\n",
              "        await google.colab.output.renderOutput(dataTable, element);\n",
              "        const docLink = document.createElement('div');\n",
              "        docLink.innerHTML = docLinkHtml;\n",
              "        element.appendChild(docLink);\n",
              "      }\n",
              "    </script>\n",
              "  </div>\n",
              "\n",
              "\n",
              "<div id=\"df-258d889b-9d9f-40f9-9fcf-9285bf781c54\">\n",
              "  <button class=\"colab-df-quickchart\" onclick=\"quickchart('df-258d889b-9d9f-40f9-9fcf-9285bf781c54')\"\n",
              "            title=\"Suggest charts.\"\n",
              "            style=\"display:none;\">\n",
              "\n",
              "<svg xmlns=\"http://www.w3.org/2000/svg\" height=\"24px\"viewBox=\"0 0 24 24\"\n",
              "     width=\"24px\">\n",
              "    <g>\n",
              "        <path d=\"M19 3H5c-1.1 0-2 .9-2 2v14c0 1.1.9 2 2 2h14c1.1 0 2-.9 2-2V5c0-1.1-.9-2-2-2zM9 17H7v-7h2v7zm4 0h-2V7h2v10zm4 0h-2v-4h2v4z\"/>\n",
              "    </g>\n",
              "</svg>\n",
              "  </button>\n",
              "\n",
              "<style>\n",
              "  .colab-df-quickchart {\n",
              "      --bg-color: #E8F0FE;\n",
              "      --fill-color: #1967D2;\n",
              "      --hover-bg-color: #E2EBFA;\n",
              "      --hover-fill-color: #174EA6;\n",
              "      --disabled-fill-color: #AAA;\n",
              "      --disabled-bg-color: #DDD;\n",
              "  }\n",
              "\n",
              "  [theme=dark] .colab-df-quickchart {\n",
              "      --bg-color: #3B4455;\n",
              "      --fill-color: #D2E3FC;\n",
              "      --hover-bg-color: #434B5C;\n",
              "      --hover-fill-color: #FFFFFF;\n",
              "      --disabled-bg-color: #3B4455;\n",
              "      --disabled-fill-color: #666;\n",
              "  }\n",
              "\n",
              "  .colab-df-quickchart {\n",
              "    background-color: var(--bg-color);\n",
              "    border: none;\n",
              "    border-radius: 50%;\n",
              "    cursor: pointer;\n",
              "    display: none;\n",
              "    fill: var(--fill-color);\n",
              "    height: 32px;\n",
              "    padding: 0;\n",
              "    width: 32px;\n",
              "  }\n",
              "\n",
              "  .colab-df-quickchart:hover {\n",
              "    background-color: var(--hover-bg-color);\n",
              "    box-shadow: 0 1px 2px rgba(60, 64, 67, 0.3), 0 1px 3px 1px rgba(60, 64, 67, 0.15);\n",
              "    fill: var(--button-hover-fill-color);\n",
              "  }\n",
              "\n",
              "  .colab-df-quickchart-complete:disabled,\n",
              "  .colab-df-quickchart-complete:disabled:hover {\n",
              "    background-color: var(--disabled-bg-color);\n",
              "    fill: var(--disabled-fill-color);\n",
              "    box-shadow: none;\n",
              "  }\n",
              "\n",
              "  .colab-df-spinner {\n",
              "    border: 2px solid var(--fill-color);\n",
              "    border-color: transparent;\n",
              "    border-bottom-color: var(--fill-color);\n",
              "    animation:\n",
              "      spin 1s steps(1) infinite;\n",
              "  }\n",
              "\n",
              "  @keyframes spin {\n",
              "    0% {\n",
              "      border-color: transparent;\n",
              "      border-bottom-color: var(--fill-color);\n",
              "      border-left-color: var(--fill-color);\n",
              "    }\n",
              "    20% {\n",
              "      border-color: transparent;\n",
              "      border-left-color: var(--fill-color);\n",
              "      border-top-color: var(--fill-color);\n",
              "    }\n",
              "    30% {\n",
              "      border-color: transparent;\n",
              "      border-left-color: var(--fill-color);\n",
              "      border-top-color: var(--fill-color);\n",
              "      border-right-color: var(--fill-color);\n",
              "    }\n",
              "    40% {\n",
              "      border-color: transparent;\n",
              "      border-right-color: var(--fill-color);\n",
              "      border-top-color: var(--fill-color);\n",
              "    }\n",
              "    60% {\n",
              "      border-color: transparent;\n",
              "      border-right-color: var(--fill-color);\n",
              "    }\n",
              "    80% {\n",
              "      border-color: transparent;\n",
              "      border-right-color: var(--fill-color);\n",
              "      border-bottom-color: var(--fill-color);\n",
              "    }\n",
              "    90% {\n",
              "      border-color: transparent;\n",
              "      border-bottom-color: var(--fill-color);\n",
              "    }\n",
              "  }\n",
              "</style>\n",
              "\n",
              "  <script>\n",
              "    async function quickchart(key) {\n",
              "      const quickchartButtonEl =\n",
              "        document.querySelector('#' + key + ' button');\n",
              "      quickchartButtonEl.disabled = true;  // To prevent multiple clicks.\n",
              "      quickchartButtonEl.classList.add('colab-df-spinner');\n",
              "      try {\n",
              "        const charts = await google.colab.kernel.invokeFunction(\n",
              "            'suggestCharts', [key], {});\n",
              "      } catch (error) {\n",
              "        console.error('Error during call to suggestCharts:', error);\n",
              "      }\n",
              "      quickchartButtonEl.classList.remove('colab-df-spinner');\n",
              "      quickchartButtonEl.classList.add('colab-df-quickchart-complete');\n",
              "    }\n",
              "    (() => {\n",
              "      let quickchartButtonEl =\n",
              "        document.querySelector('#df-258d889b-9d9f-40f9-9fcf-9285bf781c54 button');\n",
              "      quickchartButtonEl.style.display =\n",
              "        google.colab.kernel.accessAllowed ? 'block' : 'none';\n",
              "    })();\n",
              "  </script>\n",
              "</div>\n",
              "    </div>\n",
              "  </div>\n"
            ],
            "text/plain": [
              "         Grade                                           sentence  \\\n",
              "0      Grade_1  لطلاب الصف الأول، أهلا وسهلا بكم. عدت إليكم مع...   \n",
              "1      Grade_1  لقد أضعت قلمي لا أجده أيمكنكم مساعدتي أم أحسنت...   \n",
              "2      Grade_1  أين مكان القلم تحت؟ لاحظوا الكلمة الملونة بالل...   \n",
              "3      Grade_1  أنظروا جيدا أحسنتم، جلست ريم تحت تحت المظلة جل...   \n",
              "4      Grade_1  فكروا ما اسمها هذه الكتاب؟ فوق فوق الطاولة الك...   \n",
              "...        ...                                                ...   \n",
              "8580  Grade_12  عزيز زياد طالب بعد أن استعرضنا بعض أسئلة اللغة...   \n",
              "8581  Grade_12  رب رأس حصيد لسان المرء بأصغريه قلبه ولسانه الك...   \n",
              "8582  Grade_12  السؤال الثاني يناقش الحديث الشريف قضية مهمة يغ...   \n",
              "8583  Grade_12  أحسنت بني؟ القضية هي خطورة اللسان وأثره وأهمية...   \n",
              "8584  Grade_12  الحل معاهدة النفس على طلب السماح ممن اغتبته في...   \n",
              "\n",
              "      sentence_length  average_word_length  countLongWords  countSegments  \\\n",
              "0                  32             4.750000               2              5   \n",
              "1                  19             4.631579               1              2   \n",
              "2                  26             4.730769               0              2   \n",
              "3                  26             4.615385               0              3   \n",
              "4                  32             4.625000               0              2   \n",
              "...               ...                  ...             ...            ...   \n",
              "8580               37             4.540541               2              3   \n",
              "8581               32             4.250000               0              2   \n",
              "8582               19             4.789474               1              2   \n",
              "8583               31             4.612903               1              3   \n",
              "8584               38             4.657895               3              2   \n",
              "\n",
              "           FKGL        GFI        ARI       TTR  complexity  \\\n",
              "0     42.956000   5.060000   4.142500  0.906250   96.508044   \n",
              "1     42.767632   5.905263   5.134737  0.842105   76.769037   \n",
              "2     45.303077   5.200000   7.351923  0.961538   93.438619   \n",
              "3     42.251538   3.466667   4.641795  0.807692   95.765648   \n",
              "4     45.225000   6.400000   8.353750  0.875000   96.737494   \n",
              "...         ...        ...        ...       ...         ...   \n",
              "8580  42.798378   7.095495   6.122613  0.918919   99.729128   \n",
              "8581  40.800000   6.400000   6.587500  0.812500   98.417363   \n",
              "8582  44.630789   5.905263   5.878421  0.947368   99.230776   \n",
              "8583  42.872258   5.423656   5.463441  0.935484   97.971612   \n",
              "8584  46.783158  10.757895  10.008684  0.921053   98.934792   \n",
              "\n",
              "      sentence_length_transformed  average_word_length_transformed  \\\n",
              "0                       -0.078773                         0.212418   \n",
              "1                       -1.115137                        -0.056288   \n",
              "2                       -0.557095                         0.168782   \n",
              "3                       -0.557095                        -0.093034   \n",
              "4                       -0.078773                        -0.071216   \n",
              "...                           ...                              ...   \n",
              "8580                     0.319828                        -0.262861   \n",
              "8581                    -0.078773                        -0.922120   \n",
              "8582                    -1.115137                         0.301987   \n",
              "8583                    -0.158493                        -0.098665   \n",
              "8584                     0.399549                         0.003424   \n",
              "\n",
              "      countLongWords_transformed  countSegments_transformed  FKGL_transformed  \\\n",
              "0                       0.099039                   2.342087         -0.460708   \n",
              "1                      -0.437060                  -0.322597         -0.491014   \n",
              "2                      -0.973159                  -0.322597         -0.083103   \n",
              "3                      -0.973159                   0.565631         -0.574044   \n",
              "4                      -0.973159                  -0.322597         -0.095665   \n",
              "...                          ...                        ...               ...   \n",
              "8580                    0.099039                   0.565631         -0.486067   \n",
              "8581                   -0.973159                  -0.322597         -0.807572   \n",
              "8582                   -0.437060                  -0.322597         -0.191263   \n",
              "8583                   -0.437060                   0.565631         -0.474181   \n",
              "8584                    0.635139                  -0.322597          0.155017   \n",
              "\n",
              "      GFI_transformed  ARI_transformed  TTR_transformed  \\\n",
              "0           -0.843073        -0.870970         0.012328   \n",
              "1           -0.654730        -0.684983        -0.783939   \n",
              "2           -0.811878        -0.269388         0.698658   \n",
              "3           -1.198103        -0.777381        -1.211129   \n",
              "4           -0.544491        -0.081604        -0.375597   \n",
              "...               ...              ...              ...   \n",
              "8580        -0.389520        -0.499813         0.169596   \n",
              "8581        -0.544491        -0.412673        -1.151448   \n",
              "8582        -0.654730        -0.545585         0.522757   \n",
              "8583        -0.762043        -0.623370         0.375226   \n",
              "8584         0.426544         0.228601         0.196083   \n",
              "\n",
              "      complexity_transformed  \n",
              "0                  -1.097878  \n",
              "1                 -13.732001  \n",
              "2                  -3.062491  \n",
              "3                  -1.573055  \n",
              "4                  -0.951017  \n",
              "...                      ...  \n",
              "8580                0.963804  \n",
              "8581                0.124198  \n",
              "8582                0.644830  \n",
              "8583               -0.161109  \n",
              "8584                0.455383  \n",
              "\n",
              "[8585 rows x 20 columns]"
            ]
          },
          "execution_count": 86,
          "metadata": {},
          "output_type": "execute_result"
        }
      ],
      "source": [
        "df_asr"
      ]
    },
    {
      "cell_type": "markdown",
      "metadata": {
        "id": "bd1quHTkjsLL"
      },
      "source": [
        "### Models -- Asr"
      ]
    },
    {
      "cell_type": "code",
      "execution_count": null,
      "metadata": {
        "id": "Ntq9cQaxjsLN"
      },
      "outputs": [],
      "source": [
        "from sklearn.model_selection import train_test_split\n",
        "from sklearn.metrics import accuracy_score, classification_report"
      ]
    },
    {
      "cell_type": "code",
      "execution_count": null,
      "metadata": {
        "id": "fEV3T7BijsLO"
      },
      "outputs": [],
      "source": [
        "X = df_asr[['sentence_length_transformed', 'average_word_length_transformed', 'countSegments', 'FKGL_transformed', 'GFI_transformed', 'ARI_transformed', 'TTR_transformed', 'complexity_transformed']]\n",
        "y = df_asr['Grade']"
      ]
    },
    {
      "cell_type": "code",
      "execution_count": null,
      "metadata": {
        "id": "nCoW8SbWjsLO"
      },
      "outputs": [],
      "source": [
        "X_train, X_test, y_train, y_test = train_test_split(X, y, test_size=0.2, random_state=42)"
      ]
    },
    {
      "cell_type": "code",
      "execution_count": null,
      "metadata": {
        "colab": {
          "base_uri": "https://localhost:8080/"
        },
        "id": "mIgaPQd4jsLO",
        "outputId": "aef90a4a-f0f6-406e-e2bf-4c96dedaeade"
      },
      "outputs": [
        {
          "data": {
            "text/plain": [
              "(6868,)"
            ]
          },
          "execution_count": 94,
          "metadata": {},
          "output_type": "execute_result"
        }
      ],
      "source": [
        "y_train.shape"
      ]
    },
    {
      "cell_type": "markdown",
      "metadata": {
        "id": "jghsqZ5fjsLP"
      },
      "source": [
        "#### Logistic regression"
      ]
    },
    {
      "cell_type": "code",
      "execution_count": null,
      "metadata": {
        "id": "mBxcoKeWjsLP"
      },
      "outputs": [],
      "source": [
        "from sklearn.feature_extraction.text import CountVectorizer\n",
        "from sklearn.linear_model import LogisticRegression"
      ]
    },
    {
      "cell_type": "code",
      "execution_count": null,
      "metadata": {
        "id": "us9twxRNjsLP"
      },
      "outputs": [],
      "source": [
        "classifier = LogisticRegression(max_iter=1000, random_state=42)\n",
        "classifier.fit(X_train, y_train)\n",
        "\n",
        "# Make predictions on the testing set\n",
        "predictions = classifier.predict(X_test)"
      ]
    },
    {
      "cell_type": "code",
      "execution_count": null,
      "metadata": {
        "colab": {
          "base_uri": "https://localhost:8080/"
        },
        "id": "mMpBkNawjsLP",
        "outputId": "b9e02766-dba2-44ac-e414-c25bd7c5c2b7"
      },
      "outputs": [
        {
          "data": {
            "text/plain": [
              "array(['Grade_9', 'Grade_6', 'Grade_4', ..., 'Grade_9', 'Grade_4',\n",
              "       'Grade_9'], dtype=object)"
            ]
          },
          "execution_count": 97,
          "metadata": {},
          "output_type": "execute_result"
        }
      ],
      "source": [
        "predictions"
      ]
    },
    {
      "cell_type": "code",
      "execution_count": null,
      "metadata": {
        "colab": {
          "base_uri": "https://localhost:8080/"
        },
        "id": "nGZVA0JpjsLP",
        "outputId": "e319acde-12af-4bf6-b078-6a1166411348"
      },
      "outputs": [
        {
          "name": "stdout",
          "output_type": "stream",
          "text": [
            "Accuracy: 0.3500291205591147\n"
          ]
        }
      ],
      "source": [
        "accuracy = accuracy_score(y_test, predictions)\n",
        "print(\"Accuracy:\", accuracy)"
      ]
    },
    {
      "cell_type": "markdown",
      "metadata": {
        "id": "0wY9-MlnjsLP"
      },
      "source": [
        "#### SVM"
      ]
    },
    {
      "cell_type": "code",
      "execution_count": null,
      "metadata": {
        "id": "lP94anDVjsLP"
      },
      "outputs": [],
      "source": [
        "from sklearn.svm import SVC\n"
      ]
    },
    {
      "cell_type": "code",
      "execution_count": null,
      "metadata": {
        "id": "XDBPgdVZjsLP"
      },
      "outputs": [],
      "source": [
        "space_vector = SVC().fit(X_train, y_train)\n",
        "svm_predictions = space_vector.predict(X_test)"
      ]
    },
    {
      "cell_type": "code",
      "execution_count": null,
      "metadata": {
        "colab": {
          "base_uri": "https://localhost:8080/"
        },
        "id": "LsbWEaEsjsLQ",
        "outputId": "a457c031-4672-4065-9f13-e6bd7cea74ee"
      },
      "outputs": [
        {
          "data": {
            "text/plain": [
              "array(['Grade_9', 'Grade_6', 'Grade_4', ..., 'Grade_9', 'Grade_4',\n",
              "       'Grade_6'], dtype=object)"
            ]
          },
          "execution_count": 101,
          "metadata": {},
          "output_type": "execute_result"
        }
      ],
      "source": [
        "svm_predictions"
      ]
    },
    {
      "cell_type": "code",
      "execution_count": null,
      "metadata": {
        "colab": {
          "base_uri": "https://localhost:8080/"
        },
        "id": "2TrTWBSCjsLQ",
        "outputId": "bd72dfb5-0973-43cf-e80e-02c6677bb4cd"
      },
      "outputs": [
        {
          "name": "stdout",
          "output_type": "stream",
          "text": [
            "Accuracy: 0.3523587652882935\n"
          ]
        }
      ],
      "source": [
        "accuracy = accuracy_score(y_test, svm_predictions)\n",
        "print(\"Accuracy:\", accuracy)"
      ]
    },
    {
      "cell_type": "markdown",
      "metadata": {
        "id": "ZJnQE5GSjsLQ"
      },
      "source": [
        "#### Decision tree"
      ]
    },
    {
      "cell_type": "code",
      "execution_count": null,
      "metadata": {
        "colab": {
          "base_uri": "https://localhost:8080/",
          "height": 74
        },
        "id": "SAralqT6jsLR",
        "outputId": "1d091f13-9cbe-4cac-8ae5-a69c50db6a37"
      },
      "outputs": [
        {
          "data": {
            "text/html": [
              "<style>#sk-container-id-2 {color: black;background-color: white;}#sk-container-id-2 pre{padding: 0;}#sk-container-id-2 div.sk-toggleable {background-color: white;}#sk-container-id-2 label.sk-toggleable__label {cursor: pointer;display: block;width: 100%;margin-bottom: 0;padding: 0.3em;box-sizing: border-box;text-align: center;}#sk-container-id-2 label.sk-toggleable__label-arrow:before {content: \"▸\";float: left;margin-right: 0.25em;color: #696969;}#sk-container-id-2 label.sk-toggleable__label-arrow:hover:before {color: black;}#sk-container-id-2 div.sk-estimator:hover label.sk-toggleable__label-arrow:before {color: black;}#sk-container-id-2 div.sk-toggleable__content {max-height: 0;max-width: 0;overflow: hidden;text-align: left;background-color: #f0f8ff;}#sk-container-id-2 div.sk-toggleable__content pre {margin: 0.2em;color: black;border-radius: 0.25em;background-color: #f0f8ff;}#sk-container-id-2 input.sk-toggleable__control:checked~div.sk-toggleable__content {max-height: 200px;max-width: 100%;overflow: auto;}#sk-container-id-2 input.sk-toggleable__control:checked~label.sk-toggleable__label-arrow:before {content: \"▾\";}#sk-container-id-2 div.sk-estimator input.sk-toggleable__control:checked~label.sk-toggleable__label {background-color: #d4ebff;}#sk-container-id-2 div.sk-label input.sk-toggleable__control:checked~label.sk-toggleable__label {background-color: #d4ebff;}#sk-container-id-2 input.sk-hidden--visually {border: 0;clip: rect(1px 1px 1px 1px);clip: rect(1px, 1px, 1px, 1px);height: 1px;margin: -1px;overflow: hidden;padding: 0;position: absolute;width: 1px;}#sk-container-id-2 div.sk-estimator {font-family: monospace;background-color: #f0f8ff;border: 1px dotted black;border-radius: 0.25em;box-sizing: border-box;margin-bottom: 0.5em;}#sk-container-id-2 div.sk-estimator:hover {background-color: #d4ebff;}#sk-container-id-2 div.sk-parallel-item::after {content: \"\";width: 100%;border-bottom: 1px solid gray;flex-grow: 1;}#sk-container-id-2 div.sk-label:hover label.sk-toggleable__label {background-color: #d4ebff;}#sk-container-id-2 div.sk-serial::before {content: \"\";position: absolute;border-left: 1px solid gray;box-sizing: border-box;top: 0;bottom: 0;left: 50%;z-index: 0;}#sk-container-id-2 div.sk-serial {display: flex;flex-direction: column;align-items: center;background-color: white;padding-right: 0.2em;padding-left: 0.2em;position: relative;}#sk-container-id-2 div.sk-item {position: relative;z-index: 1;}#sk-container-id-2 div.sk-parallel {display: flex;align-items: stretch;justify-content: center;background-color: white;position: relative;}#sk-container-id-2 div.sk-item::before, #sk-container-id-2 div.sk-parallel-item::before {content: \"\";position: absolute;border-left: 1px solid gray;box-sizing: border-box;top: 0;bottom: 0;left: 50%;z-index: -1;}#sk-container-id-2 div.sk-parallel-item {display: flex;flex-direction: column;z-index: 1;position: relative;background-color: white;}#sk-container-id-2 div.sk-parallel-item:first-child::after {align-self: flex-end;width: 50%;}#sk-container-id-2 div.sk-parallel-item:last-child::after {align-self: flex-start;width: 50%;}#sk-container-id-2 div.sk-parallel-item:only-child::after {width: 0;}#sk-container-id-2 div.sk-dashed-wrapped {border: 1px dashed gray;margin: 0 0.4em 0.5em 0.4em;box-sizing: border-box;padding-bottom: 0.4em;background-color: white;}#sk-container-id-2 div.sk-label label {font-family: monospace;font-weight: bold;display: inline-block;line-height: 1.2em;}#sk-container-id-2 div.sk-label-container {text-align: center;}#sk-container-id-2 div.sk-container {/* jupyter's `normalize.less` sets `[hidden] { display: none; }` but bootstrap.min.css set `[hidden] { display: none !important; }` so we also need the `!important` here to be able to override the default hidden behavior on the sphinx rendered scikit-learn.org. See: https://github.com/scikit-learn/scikit-learn/issues/21755 */display: inline-block !important;position: relative;}#sk-container-id-2 div.sk-text-repr-fallback {display: none;}</style><div id=\"sk-container-id-2\" class=\"sk-top-container\"><div class=\"sk-text-repr-fallback\"><pre>DecisionTreeClassifier(random_state=42)</pre><b>In a Jupyter environment, please rerun this cell to show the HTML representation or trust the notebook. <br />On GitHub, the HTML representation is unable to render, please try loading this page with nbviewer.org.</b></div><div class=\"sk-container\" hidden><div class=\"sk-item\"><div class=\"sk-estimator sk-toggleable\"><input class=\"sk-toggleable__control sk-hidden--visually\" id=\"sk-estimator-id-2\" type=\"checkbox\" checked><label for=\"sk-estimator-id-2\" class=\"sk-toggleable__label sk-toggleable__label-arrow\">DecisionTreeClassifier</label><div class=\"sk-toggleable__content\"><pre>DecisionTreeClassifier(random_state=42)</pre></div></div></div></div></div>"
            ],
            "text/plain": [
              "DecisionTreeClassifier(random_state=42)"
            ]
          },
          "execution_count": 103,
          "metadata": {},
          "output_type": "execute_result"
        }
      ],
      "source": [
        "from sklearn.tree import DecisionTreeClassifier\n",
        "classifier = DecisionTreeClassifier(random_state=42)\n",
        "classifier.fit(X_train, y_train)"
      ]
    },
    {
      "cell_type": "code",
      "execution_count": null,
      "metadata": {
        "id": "K_feV9LrjsLR"
      },
      "outputs": [],
      "source": [
        "predictions = classifier.predict(X_test)"
      ]
    },
    {
      "cell_type": "code",
      "execution_count": null,
      "metadata": {
        "colab": {
          "base_uri": "https://localhost:8080/"
        },
        "id": "bwMv__oHjsLR",
        "outputId": "6f6c1d79-3819-489b-baac-338541a8fe32"
      },
      "outputs": [
        {
          "data": {
            "text/plain": [
              "array(['Grade_4', 'Grade_12', 'Grade_6', ..., 'Grade_1', 'Grade_4',\n",
              "       'Grade_9'], dtype=object)"
            ]
          },
          "execution_count": 105,
          "metadata": {},
          "output_type": "execute_result"
        }
      ],
      "source": [
        "predictions"
      ]
    },
    {
      "cell_type": "code",
      "execution_count": null,
      "metadata": {
        "colab": {
          "base_uri": "https://localhost:8080/"
        },
        "id": "0VTLr016jsLR",
        "outputId": "1e1416bd-4182-4cd5-e095-b02a43f18031"
      },
      "outputs": [
        {
          "name": "stdout",
          "output_type": "stream",
          "text": [
            "Accuracy: 0.31683168316831684\n"
          ]
        }
      ],
      "source": [
        "accuracy = accuracy_score(y_test, predictions)\n",
        "print(\"Accuracy:\", accuracy)"
      ]
    },
    {
      "cell_type": "markdown",
      "metadata": {
        "id": "VXVeOa1_jsLR"
      },
      "source": [
        "#### Random forrest"
      ]
    },
    {
      "cell_type": "code",
      "execution_count": null,
      "metadata": {
        "id": "KB6DI04ijsLR"
      },
      "outputs": [],
      "source": [
        "from sklearn.ensemble import RandomForestClassifier"
      ]
    },
    {
      "cell_type": "code",
      "execution_count": null,
      "metadata": {
        "id": "_ZKMKp_2jsLR"
      },
      "outputs": [],
      "source": [
        "# Initialize the Random Forest classifier\n",
        "rf_classifier = RandomForestClassifier(n_estimators=100, random_state=42)\n",
        "\n",
        "# Train the model\n",
        "rf_classifier.fit(X_train, y_train)\n",
        "y_pred = rf_classifier.predict(X_test)"
      ]
    },
    {
      "cell_type": "code",
      "execution_count": null,
      "metadata": {
        "colab": {
          "base_uri": "https://localhost:8080/"
        },
        "id": "ifNXeW2ijsLR",
        "outputId": "ca417801-b7d8-4072-bba1-ceb4440b3c1f"
      },
      "outputs": [
        {
          "data": {
            "text/plain": [
              "array(['Grade_6', 'Grade_12', 'Grade_6', ..., 'Grade_9', 'Grade_4',\n",
              "       'Grade_6'], dtype=object)"
            ]
          },
          "execution_count": 109,
          "metadata": {},
          "output_type": "execute_result"
        }
      ],
      "source": [
        "y_pred"
      ]
    },
    {
      "cell_type": "code",
      "execution_count": null,
      "metadata": {
        "colab": {
          "base_uri": "https://localhost:8080/"
        },
        "id": "l1ahiESEjsLR",
        "outputId": "f3a4bd99-642b-4491-914e-2f13b9f2c386"
      },
      "outputs": [
        {
          "name": "stdout",
          "output_type": "stream",
          "text": [
            "Accuracy: 0.34886429819452536\n"
          ]
        }
      ],
      "source": [
        "accuracy = accuracy_score(y_test, y_pred)\n",
        "print(\"Accuracy:\", accuracy)"
      ]
    },
    {
      "cell_type": "markdown",
      "metadata": {
        "id": "nl7kOiMMjsLS"
      },
      "source": [
        "#### Neural network"
      ]
    },
    {
      "cell_type": "code",
      "execution_count": null,
      "metadata": {
        "id": "hrS-gzC6jsLS"
      },
      "outputs": [],
      "source": [
        "import tensorflow as tf\n",
        "from tensorflow import keras\n",
        "from keras.models import Sequential\n",
        "from keras.layers import Dense, Dropout, Activation, Flatten"
      ]
    },
    {
      "cell_type": "code",
      "execution_count": null,
      "metadata": {
        "id": "99V-YRkZjsLS"
      },
      "outputs": [],
      "source": [
        "y = pd.get_dummies(y)"
      ]
    },
    {
      "cell_type": "code",
      "execution_count": null,
      "metadata": {
        "id": "HO854G_ZjsLS"
      },
      "outputs": [],
      "source": [
        "X_train, X_test, y_train, y_test = train_test_split(X, y, test_size=0.2, random_state=42)"
      ]
    },
    {
      "cell_type": "code",
      "execution_count": null,
      "metadata": {
        "id": "SOkSXgXgjsLS"
      },
      "outputs": [],
      "source": [
        "MLP_model = Sequential()\n",
        "\n",
        "# Input layer has 8 units. The first hidden layer 12 units\n",
        "MLP_model.add(Dense(16, input_dim=8, use_bias=True, activation='relu'))\n",
        "\n",
        "# second hidden layer has 8 units\n",
        "MLP_model.add(Dense(16, use_bias=True, activation='relu'))\n",
        "\n",
        "MLP_model.add(Dense(16, use_bias=True, activation='relu'))\n",
        "\n",
        "MLP_model.add(Dense(16, use_bias=True, activation='relu'))\n",
        "\n",
        "MLP_model.add(Dense(16, use_bias=True, activation='relu'))\n",
        "\n",
        "MLP_model.add(Dense(16, use_bias=True, activation='relu'))\n",
        "\n",
        "MLP_model.add(Dense(16, use_bias=True, activation='relu'))\n",
        "\n",
        "# last/output layer, 1 units\n",
        "MLP_model.add(Dense(5, use_bias=True, activation='softmax'))"
      ]
    },
    {
      "cell_type": "code",
      "execution_count": null,
      "metadata": {
        "colab": {
          "base_uri": "https://localhost:8080/"
        },
        "id": "s4Asi5NZjsLS",
        "outputId": "373fac51-4a7f-42cf-dfa0-217a0a9c3da8"
      },
      "outputs": [
        {
          "name": "stdout",
          "output_type": "stream",
          "text": [
            "Model: \"sequential_1\"\n",
            "_________________________________________________________________\n",
            " Layer (type)                Output Shape              Param #   \n",
            "=================================================================\n",
            " dense_8 (Dense)             (None, 16)                144       \n",
            "                                                                 \n",
            " dense_9 (Dense)             (None, 16)                272       \n",
            "                                                                 \n",
            " dense_10 (Dense)            (None, 16)                272       \n",
            "                                                                 \n",
            " dense_11 (Dense)            (None, 16)                272       \n",
            "                                                                 \n",
            " dense_12 (Dense)            (None, 16)                272       \n",
            "                                                                 \n",
            " dense_13 (Dense)            (None, 16)                272       \n",
            "                                                                 \n",
            " dense_14 (Dense)            (None, 16)                272       \n",
            "                                                                 \n",
            " dense_15 (Dense)            (None, 5)                 85        \n",
            "                                                                 \n",
            "=================================================================\n",
            "Total params: 1861 (7.27 KB)\n",
            "Trainable params: 1861 (7.27 KB)\n",
            "Non-trainable params: 0 (0.00 Byte)\n",
            "_________________________________________________________________\n"
          ]
        }
      ],
      "source": [
        "MLP_model.summary()"
      ]
    },
    {
      "cell_type": "code",
      "execution_count": null,
      "metadata": {
        "id": "KEdwkji6jsLS"
      },
      "outputs": [],
      "source": [
        "MLP_model.compile(optimizer='adam', loss='categorical_crossentropy', metrics=['accuracy'])"
      ]
    },
    {
      "cell_type": "code",
      "execution_count": null,
      "metadata": {
        "colab": {
          "base_uri": "https://localhost:8080/"
        },
        "id": "81pU3mvNjsLS",
        "outputId": "79f0e052-2ce5-42b1-be7a-a8b905be8597"
      },
      "outputs": [
        {
          "name": "stdout",
          "output_type": "stream",
          "text": [
            "Epoch 1/70\n",
            "194/194 [==============================] - 3s 7ms/step - loss: 1.5275 - accuracy: 0.2912 - val_loss: 1.4634 - val_accuracy: 0.3275\n",
            "Epoch 2/70\n",
            "194/194 [==============================] - 1s 4ms/step - loss: 1.4292 - accuracy: 0.3464 - val_loss: 1.4450 - val_accuracy: 0.3275\n",
            "Epoch 3/70\n",
            "194/194 [==============================] - 1s 5ms/step - loss: 1.4109 - accuracy: 0.3639 - val_loss: 1.4341 - val_accuracy: 0.3377\n",
            "Epoch 4/70\n",
            "194/194 [==============================] - 1s 5ms/step - loss: 1.3996 - accuracy: 0.3619 - val_loss: 1.4245 - val_accuracy: 0.3624\n",
            "Epoch 5/70\n",
            "194/194 [==============================] - 1s 4ms/step - loss: 1.3950 - accuracy: 0.3648 - val_loss: 1.4324 - val_accuracy: 0.3392\n",
            "Epoch 6/70\n",
            "194/194 [==============================] - 1s 3ms/step - loss: 1.3930 - accuracy: 0.3634 - val_loss: 1.4199 - val_accuracy: 0.3566\n",
            "Epoch 7/70\n",
            "194/194 [==============================] - 1s 5ms/step - loss: 1.3870 - accuracy: 0.3674 - val_loss: 1.4168 - val_accuracy: 0.3479\n",
            "Epoch 8/70\n",
            "194/194 [==============================] - 1s 5ms/step - loss: 1.3860 - accuracy: 0.3676 - val_loss: 1.4165 - val_accuracy: 0.3595\n",
            "Epoch 9/70\n",
            "194/194 [==============================] - 1s 5ms/step - loss: 1.3811 - accuracy: 0.3768 - val_loss: 1.4156 - val_accuracy: 0.3639\n",
            "Epoch 10/70\n",
            "194/194 [==============================] - 1s 5ms/step - loss: 1.3802 - accuracy: 0.3694 - val_loss: 1.4057 - val_accuracy: 0.3712\n",
            "Epoch 11/70\n",
            "194/194 [==============================] - 1s 5ms/step - loss: 1.3745 - accuracy: 0.3774 - val_loss: 1.4134 - val_accuracy: 0.3581\n",
            "Epoch 12/70\n",
            "194/194 [==============================] - 1s 4ms/step - loss: 1.3742 - accuracy: 0.3757 - val_loss: 1.4050 - val_accuracy: 0.3755\n",
            "Epoch 13/70\n",
            "194/194 [==============================] - 1s 3ms/step - loss: 1.3725 - accuracy: 0.3755 - val_loss: 1.4028 - val_accuracy: 0.3755\n",
            "Epoch 14/70\n",
            "194/194 [==============================] - 1s 3ms/step - loss: 1.3691 - accuracy: 0.3804 - val_loss: 1.4079 - val_accuracy: 0.3712\n",
            "Epoch 15/70\n",
            "194/194 [==============================] - 1s 3ms/step - loss: 1.3660 - accuracy: 0.3815 - val_loss: 1.4073 - val_accuracy: 0.3785\n",
            "Epoch 16/70\n",
            "194/194 [==============================] - 1s 3ms/step - loss: 1.3654 - accuracy: 0.3802 - val_loss: 1.4074 - val_accuracy: 0.3552\n",
            "Epoch 17/70\n",
            "194/194 [==============================] - 1s 3ms/step - loss: 1.3659 - accuracy: 0.3791 - val_loss: 1.4073 - val_accuracy: 0.3741\n",
            "Epoch 18/70\n",
            "194/194 [==============================] - 1s 5ms/step - loss: 1.3591 - accuracy: 0.3878 - val_loss: 1.4024 - val_accuracy: 0.3726\n",
            "Epoch 19/70\n",
            "194/194 [==============================] - 1s 5ms/step - loss: 1.3581 - accuracy: 0.3938 - val_loss: 1.4033 - val_accuracy: 0.3654\n",
            "Epoch 20/70\n",
            "194/194 [==============================] - 1s 5ms/step - loss: 1.3571 - accuracy: 0.3863 - val_loss: 1.4172 - val_accuracy: 0.3755\n",
            "Epoch 21/70\n",
            "194/194 [==============================] - 1s 5ms/step - loss: 1.3565 - accuracy: 0.3846 - val_loss: 1.3996 - val_accuracy: 0.3712\n",
            "Epoch 22/70\n",
            "194/194 [==============================] - 1s 4ms/step - loss: 1.3554 - accuracy: 0.3914 - val_loss: 1.3947 - val_accuracy: 0.3639\n",
            "Epoch 23/70\n",
            "194/194 [==============================] - 1s 5ms/step - loss: 1.3541 - accuracy: 0.3938 - val_loss: 1.3989 - val_accuracy: 0.3785\n",
            "Epoch 24/70\n",
            "194/194 [==============================] - 1s 4ms/step - loss: 1.3500 - accuracy: 0.3935 - val_loss: 1.3892 - val_accuracy: 0.3843\n",
            "Epoch 25/70\n",
            "194/194 [==============================] - 1s 3ms/step - loss: 1.3496 - accuracy: 0.3888 - val_loss: 1.3992 - val_accuracy: 0.3697\n",
            "Epoch 26/70\n",
            "194/194 [==============================] - 1s 3ms/step - loss: 1.3476 - accuracy: 0.3967 - val_loss: 1.3991 - val_accuracy: 0.3712\n",
            "Epoch 27/70\n",
            "194/194 [==============================] - 1s 3ms/step - loss: 1.3500 - accuracy: 0.3883 - val_loss: 1.3902 - val_accuracy: 0.3974\n",
            "Epoch 28/70\n",
            "194/194 [==============================] - 1s 3ms/step - loss: 1.3468 - accuracy: 0.3944 - val_loss: 1.3992 - val_accuracy: 0.3741\n",
            "Epoch 29/70\n",
            "194/194 [==============================] - 1s 3ms/step - loss: 1.3466 - accuracy: 0.4014 - val_loss: 1.3932 - val_accuracy: 0.3886\n",
            "Epoch 30/70\n",
            "194/194 [==============================] - 1s 3ms/step - loss: 1.3441 - accuracy: 0.4004 - val_loss: 1.3978 - val_accuracy: 0.3799\n",
            "Epoch 31/70\n",
            "194/194 [==============================] - 1s 3ms/step - loss: 1.3434 - accuracy: 0.3990 - val_loss: 1.3967 - val_accuracy: 0.3668\n",
            "Epoch 32/70\n",
            "194/194 [==============================] - 1s 3ms/step - loss: 1.3429 - accuracy: 0.3998 - val_loss: 1.3977 - val_accuracy: 0.3843\n",
            "Epoch 33/70\n",
            "194/194 [==============================] - 1s 4ms/step - loss: 1.3435 - accuracy: 0.3948 - val_loss: 1.3954 - val_accuracy: 0.3726\n",
            "Epoch 34/70\n",
            "194/194 [==============================] - 1s 4ms/step - loss: 1.3419 - accuracy: 0.3946 - val_loss: 1.3937 - val_accuracy: 0.3697\n",
            "Epoch 35/70\n",
            "194/194 [==============================] - 1s 5ms/step - loss: 1.3399 - accuracy: 0.4012 - val_loss: 1.3942 - val_accuracy: 0.3916\n",
            "Epoch 36/70\n",
            "194/194 [==============================] - 1s 5ms/step - loss: 1.3393 - accuracy: 0.4007 - val_loss: 1.3991 - val_accuracy: 0.3799\n",
            "Epoch 37/70\n",
            "194/194 [==============================] - 1s 5ms/step - loss: 1.3404 - accuracy: 0.4001 - val_loss: 1.4196 - val_accuracy: 0.3799\n",
            "Epoch 38/70\n",
            "194/194 [==============================] - 1s 7ms/step - loss: 1.3390 - accuracy: 0.4030 - val_loss: 1.3942 - val_accuracy: 0.3886\n",
            "Epoch 39/70\n",
            "194/194 [==============================] - 2s 8ms/step - loss: 1.3357 - accuracy: 0.4014 - val_loss: 1.3954 - val_accuracy: 0.3916\n",
            "Epoch 40/70\n",
            "194/194 [==============================] - 1s 5ms/step - loss: 1.3346 - accuracy: 0.4045 - val_loss: 1.4074 - val_accuracy: 0.3654\n",
            "Epoch 41/70\n",
            "194/194 [==============================] - 1s 5ms/step - loss: 1.3333 - accuracy: 0.4004 - val_loss: 1.3857 - val_accuracy: 0.3901\n",
            "Epoch 42/70\n",
            "194/194 [==============================] - 1s 5ms/step - loss: 1.3356 - accuracy: 0.4079 - val_loss: 1.4007 - val_accuracy: 0.3872\n",
            "Epoch 43/70\n",
            "194/194 [==============================] - 1s 5ms/step - loss: 1.3312 - accuracy: 0.4045 - val_loss: 1.3947 - val_accuracy: 0.3770\n",
            "Epoch 44/70\n",
            "194/194 [==============================] - 1s 3ms/step - loss: 1.3312 - accuracy: 0.4105 - val_loss: 1.4203 - val_accuracy: 0.3770\n",
            "Epoch 45/70\n",
            "194/194 [==============================] - 1s 4ms/step - loss: 1.3330 - accuracy: 0.4092 - val_loss: 1.4039 - val_accuracy: 0.3741\n",
            "Epoch 46/70\n",
            "194/194 [==============================] - 1s 3ms/step - loss: 1.3295 - accuracy: 0.4061 - val_loss: 1.3924 - val_accuracy: 0.3930\n",
            "Epoch 47/70\n",
            "194/194 [==============================] - 1s 3ms/step - loss: 1.3290 - accuracy: 0.4075 - val_loss: 1.4014 - val_accuracy: 0.3770\n",
            "Epoch 48/70\n",
            "194/194 [==============================] - 1s 3ms/step - loss: 1.3268 - accuracy: 0.4114 - val_loss: 1.3950 - val_accuracy: 0.3799\n",
            "Epoch 49/70\n",
            "194/194 [==============================] - 1s 4ms/step - loss: 1.3282 - accuracy: 0.4069 - val_loss: 1.3960 - val_accuracy: 0.3872\n",
            "Epoch 50/70\n",
            "194/194 [==============================] - 1s 5ms/step - loss: 1.3270 - accuracy: 0.4126 - val_loss: 1.3957 - val_accuracy: 0.3959\n",
            "Epoch 51/70\n",
            "194/194 [==============================] - 1s 5ms/step - loss: 1.3241 - accuracy: 0.4109 - val_loss: 1.3930 - val_accuracy: 0.3945\n",
            "Epoch 52/70\n",
            "194/194 [==============================] - 1s 7ms/step - loss: 1.3255 - accuracy: 0.4108 - val_loss: 1.3971 - val_accuracy: 0.3886\n",
            "Epoch 53/70\n",
            "194/194 [==============================] - 1s 6ms/step - loss: 1.3254 - accuracy: 0.4085 - val_loss: 1.3999 - val_accuracy: 0.3828\n",
            "Epoch 54/70\n",
            "194/194 [==============================] - 1s 5ms/step - loss: 1.3218 - accuracy: 0.4185 - val_loss: 1.4014 - val_accuracy: 0.3843\n",
            "Epoch 55/70\n",
            "194/194 [==============================] - 3s 13ms/step - loss: 1.3239 - accuracy: 0.4151 - val_loss: 1.3904 - val_accuracy: 0.4090\n",
            "Epoch 56/70\n",
            "194/194 [==============================] - 2s 9ms/step - loss: 1.3233 - accuracy: 0.4145 - val_loss: 1.3951 - val_accuracy: 0.3988\n",
            "Epoch 57/70\n",
            "194/194 [==============================] - 2s 10ms/step - loss: 1.3204 - accuracy: 0.4106 - val_loss: 1.3880 - val_accuracy: 0.3959\n",
            "Epoch 58/70\n",
            "194/194 [==============================] - 1s 6ms/step - loss: 1.3231 - accuracy: 0.4113 - val_loss: 1.3912 - val_accuracy: 0.3988\n",
            "Epoch 59/70\n",
            "194/194 [==============================] - 2s 9ms/step - loss: 1.3190 - accuracy: 0.4172 - val_loss: 1.3946 - val_accuracy: 0.3974\n",
            "Epoch 60/70\n",
            "194/194 [==============================] - 1s 6ms/step - loss: 1.3172 - accuracy: 0.4116 - val_loss: 1.3952 - val_accuracy: 0.4017\n",
            "Epoch 61/70\n",
            "194/194 [==============================] - 1s 5ms/step - loss: 1.3183 - accuracy: 0.4174 - val_loss: 1.3837 - val_accuracy: 0.4076\n",
            "Epoch 62/70\n",
            "194/194 [==============================] - 1s 5ms/step - loss: 1.3179 - accuracy: 0.4184 - val_loss: 1.3894 - val_accuracy: 0.4032\n",
            "Epoch 63/70\n",
            "194/194 [==============================] - 1s 5ms/step - loss: 1.3179 - accuracy: 0.4176 - val_loss: 1.3951 - val_accuracy: 0.3828\n",
            "Epoch 64/70\n",
            "194/194 [==============================] - 1s 7ms/step - loss: 1.3157 - accuracy: 0.4211 - val_loss: 1.3977 - val_accuracy: 0.4061\n",
            "Epoch 65/70\n",
            "194/194 [==============================] - 1s 6ms/step - loss: 1.3155 - accuracy: 0.4163 - val_loss: 1.3912 - val_accuracy: 0.3741\n",
            "Epoch 66/70\n",
            "194/194 [==============================] - 1s 5ms/step - loss: 1.3116 - accuracy: 0.4216 - val_loss: 1.3960 - val_accuracy: 0.3901\n",
            "Epoch 67/70\n",
            "194/194 [==============================] - 2s 8ms/step - loss: 1.3124 - accuracy: 0.4208 - val_loss: 1.3946 - val_accuracy: 0.4047\n",
            "Epoch 68/70\n",
            "194/194 [==============================] - 2s 8ms/step - loss: 1.3110 - accuracy: 0.4184 - val_loss: 1.3934 - val_accuracy: 0.3930\n",
            "Epoch 69/70\n",
            "194/194 [==============================] - 2s 8ms/step - loss: 1.3138 - accuracy: 0.4171 - val_loss: 1.4065 - val_accuracy: 0.3945\n",
            "Epoch 70/70\n",
            "194/194 [==============================] - 1s 7ms/step - loss: 1.3132 - accuracy: 0.4203 - val_loss: 1.3915 - val_accuracy: 0.4105\n"
          ]
        }
      ],
      "source": [
        "learning_evolution = MLP_model.fit(X_train, y_train, epochs=70, batch_size=32, validation_split=0.1)"
      ]
    },
    {
      "cell_type": "code",
      "execution_count": null,
      "metadata": {
        "colab": {
          "base_uri": "https://localhost:8080/"
        },
        "id": "YldgGT8IjsLS",
        "outputId": "5e194e92-1ee8-4ef3-81e6-15d0e328c0a7"
      },
      "outputs": [
        {
          "name": "stdout",
          "output_type": "stream",
          "text": [
            "54/54 [==============================] - 0s 3ms/step - loss: 1.4035 - accuracy: 0.3489\n",
            "Accuracy: 34.89% - Loss 1.40\n"
          ]
        }
      ],
      "source": [
        "loss, accuracy = MLP_model.evaluate(X_test, y_test)\n",
        "print('Accuracy: {:.2f}% - Loss {:.2f}'.format(accuracy*100, loss))"
      ]
    }
  ],
  "metadata": {
    "colab": {
      "provenance": [],
      "toc_visible": true
    },
    "kernelspec": {
      "display_name": "Python 3",
      "name": "python3"
    },
    "language_info": {
      "name": "python"
    }
  },
  "nbformat": 4,
  "nbformat_minor": 0
}
